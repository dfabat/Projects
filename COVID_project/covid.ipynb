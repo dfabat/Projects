{
 "cells": [
  {
   "cell_type": "markdown",
   "id": "e924fb86",
   "metadata": {
    "id": "7niliYgN0Ym5"
   },
   "source": [
    "## Loading modules, dataset and descriptions"
   ]
  },
  {
   "cell_type": "code",
   "execution_count": 1,
   "id": "3a1a300c",
   "metadata": {
    "executionInfo": {
     "elapsed": 1077,
     "status": "ok",
     "timestamp": 1639432933635,
     "user": {
      "displayName": "Diego Felipe",
      "photoUrl": "https://lh3.googleusercontent.com/a-/AOh14Gh0OKIXgJWrcnWQIssC8wN39DTk9Z2eP49s3J9o=s64",
      "userId": "10648197522699844119"
     },
     "user_tz": 180
    },
    "id": "0cdde8b5"
   },
   "outputs": [],
   "source": [
    "# General Modules\n",
    "import numpy as np\n",
    "import pandas as pd\n",
    "import matplotlib.pyplot as plt\n",
    "import seaborn as sns\n",
    "from scipy import stats as sts\n",
    "import warnings\n",
    "from covid import plot_percentage_subplots, test_models_metrics, feature_select, best_classification_split_score, f_test_two_samples"
   ]
  },
  {
   "cell_type": "code",
   "execution_count": 2,
   "id": "403ea942",
   "metadata": {
    "executionInfo": {
     "elapsed": 806,
     "status": "ok",
     "timestamp": 1639432939340,
     "user": {
      "displayName": "Diego Felipe",
      "photoUrl": "https://lh3.googleusercontent.com/a-/AOh14Gh0OKIXgJWrcnWQIssC8wN39DTk9Z2eP49s3J9o=s64",
      "userId": "10648197522699844119"
     },
     "user_tz": 180
    },
    "id": "a3c785dc"
   },
   "outputs": [],
   "source": [
    "# Machine learning utils\n",
    "from sklearn.preprocessing import StandardScaler\n",
    "from sklearn.metrics import classification_report, confusion_matrix\n",
    "from mlxtend.plotting import plot_confusion_matrix\n",
    "from sklearn.linear_model import LogisticRegression\n",
    "from sklearn.neighbors import KNeighborsClassifier\n",
    "from sklearn.model_selection import train_test_split, StratifiedKFold, cross_val_score, RandomizedSearchCV\n",
    "from sklearn.tree import DecisionTreeClassifier\n",
    "from sklearn.ensemble import RandomForestClassifier, AdaBoostClassifier, GradientBoostingClassifier\n",
    "from xgboost import XGBClassifier\n",
    "import lightgbm as lgb\n",
    "from pprint import pprint"
   ]
  },
  {
   "cell_type": "code",
   "execution_count": 3,
   "id": "c83e65a7",
   "metadata": {
    "executionInfo": {
     "elapsed": 284,
     "status": "ok",
     "timestamp": 1639432943126,
     "user": {
      "displayName": "Diego Felipe",
      "photoUrl": "https://lh3.googleusercontent.com/a-/AOh14Gh0OKIXgJWrcnWQIssC8wN39DTk9Z2eP49s3J9o=s64",
      "userId": "10648197522699844119"
     },
     "user_tz": 180
    },
    "id": "02c82137"
   },
   "outputs": [],
   "source": [
    "%matplotlib inline\n",
    "warnings.filterwarnings('ignore')"
   ]
  },
  {
   "cell_type": "markdown",
   "id": "0fea4609",
   "metadata": {
    "id": "M0ROrFBe0eh1"
   },
   "source": [
    "#### Loading files"
   ]
  },
  {
   "cell_type": "code",
   "execution_count": 4,
   "id": "4aef56e2",
   "metadata": {
    "colab": {
     "base_uri": "https://localhost:8080/",
     "height": 226
    },
    "executionInfo": {
     "elapsed": 3613,
     "status": "ok",
     "timestamp": 1639433048701,
     "user": {
      "displayName": "Diego Felipe",
      "photoUrl": "https://lh3.googleusercontent.com/a-/AOh14Gh0OKIXgJWrcnWQIssC8wN39DTk9Z2eP49s3J9o=s64",
      "userId": "10648197522699844119"
     },
     "user_tz": 180
    },
    "id": "030b678d",
    "outputId": "4f11ffc3-26bc-466a-e241-fc0979eb1012"
   },
   "outputs": [
    {
     "data": {
      "text/html": [
       "<div>\n",
       "<style scoped>\n",
       "    .dataframe tbody tr th:only-of-type {\n",
       "        vertical-align: middle;\n",
       "    }\n",
       "\n",
       "    .dataframe tbody tr th {\n",
       "        vertical-align: top;\n",
       "    }\n",
       "\n",
       "    .dataframe thead th {\n",
       "        text-align: right;\n",
       "    }\n",
       "</style>\n",
       "<table border=\"1\" class=\"dataframe\">\n",
       "  <thead>\n",
       "    <tr style=\"text-align: right;\">\n",
       "      <th></th>\n",
       "      <th>sex</th>\n",
       "      <th>patient_type</th>\n",
       "      <th>intubed</th>\n",
       "      <th>pneumonia</th>\n",
       "      <th>age</th>\n",
       "      <th>pregnancy</th>\n",
       "      <th>diabetes</th>\n",
       "      <th>copd</th>\n",
       "      <th>asthma</th>\n",
       "      <th>inmsupr</th>\n",
       "      <th>hypertension</th>\n",
       "      <th>other_disease</th>\n",
       "      <th>cardiovascular</th>\n",
       "      <th>obesity</th>\n",
       "      <th>renal_chronic</th>\n",
       "      <th>tobacco</th>\n",
       "      <th>contact_other_covid</th>\n",
       "      <th>covid_res</th>\n",
       "      <th>icu</th>\n",
       "    </tr>\n",
       "  </thead>\n",
       "  <tbody>\n",
       "    <tr>\n",
       "      <th>0</th>\n",
       "      <td>0</td>\n",
       "      <td>1</td>\n",
       "      <td>NaN</td>\n",
       "      <td>0.0</td>\n",
       "      <td>27</td>\n",
       "      <td>NaN</td>\n",
       "      <td>0.0</td>\n",
       "      <td>0.0</td>\n",
       "      <td>0.0</td>\n",
       "      <td>0.0</td>\n",
       "      <td>0.0</td>\n",
       "      <td>0.0</td>\n",
       "      <td>0.0</td>\n",
       "      <td>0.0</td>\n",
       "      <td>0.0</td>\n",
       "      <td>0.0</td>\n",
       "      <td>0.0</td>\n",
       "      <td>1</td>\n",
       "      <td>NaN</td>\n",
       "    </tr>\n",
       "    <tr>\n",
       "      <th>1</th>\n",
       "      <td>0</td>\n",
       "      <td>1</td>\n",
       "      <td>NaN</td>\n",
       "      <td>0.0</td>\n",
       "      <td>24</td>\n",
       "      <td>NaN</td>\n",
       "      <td>0.0</td>\n",
       "      <td>0.0</td>\n",
       "      <td>0.0</td>\n",
       "      <td>0.0</td>\n",
       "      <td>0.0</td>\n",
       "      <td>0.0</td>\n",
       "      <td>0.0</td>\n",
       "      <td>0.0</td>\n",
       "      <td>0.0</td>\n",
       "      <td>0.0</td>\n",
       "      <td>NaN</td>\n",
       "      <td>1</td>\n",
       "      <td>NaN</td>\n",
       "    </tr>\n",
       "    <tr>\n",
       "      <th>2</th>\n",
       "      <td>1</td>\n",
       "      <td>0</td>\n",
       "      <td>0.0</td>\n",
       "      <td>0.0</td>\n",
       "      <td>54</td>\n",
       "      <td>0.0</td>\n",
       "      <td>0.0</td>\n",
       "      <td>0.0</td>\n",
       "      <td>0.0</td>\n",
       "      <td>0.0</td>\n",
       "      <td>0.0</td>\n",
       "      <td>0.0</td>\n",
       "      <td>0.0</td>\n",
       "      <td>1.0</td>\n",
       "      <td>0.0</td>\n",
       "      <td>0.0</td>\n",
       "      <td>NaN</td>\n",
       "      <td>1</td>\n",
       "      <td>0.0</td>\n",
       "    </tr>\n",
       "    <tr>\n",
       "      <th>3</th>\n",
       "      <td>0</td>\n",
       "      <td>0</td>\n",
       "      <td>0.0</td>\n",
       "      <td>1.0</td>\n",
       "      <td>30</td>\n",
       "      <td>NaN</td>\n",
       "      <td>0.0</td>\n",
       "      <td>0.0</td>\n",
       "      <td>0.0</td>\n",
       "      <td>0.0</td>\n",
       "      <td>0.0</td>\n",
       "      <td>0.0</td>\n",
       "      <td>0.0</td>\n",
       "      <td>0.0</td>\n",
       "      <td>0.0</td>\n",
       "      <td>0.0</td>\n",
       "      <td>NaN</td>\n",
       "      <td>1</td>\n",
       "      <td>0.0</td>\n",
       "    </tr>\n",
       "    <tr>\n",
       "      <th>4</th>\n",
       "      <td>1</td>\n",
       "      <td>0</td>\n",
       "      <td>0.0</td>\n",
       "      <td>0.0</td>\n",
       "      <td>60</td>\n",
       "      <td>0.0</td>\n",
       "      <td>1.0</td>\n",
       "      <td>0.0</td>\n",
       "      <td>0.0</td>\n",
       "      <td>0.0</td>\n",
       "      <td>1.0</td>\n",
       "      <td>0.0</td>\n",
       "      <td>1.0</td>\n",
       "      <td>0.0</td>\n",
       "      <td>0.0</td>\n",
       "      <td>0.0</td>\n",
       "      <td>NaN</td>\n",
       "      <td>1</td>\n",
       "      <td>0.0</td>\n",
       "    </tr>\n",
       "  </tbody>\n",
       "</table>\n",
       "</div>"
      ],
      "text/plain": [
       "   sex  patient_type  intubed  pneumonia  age  pregnancy  diabetes  copd  \\\n",
       "0    0             1      NaN        0.0   27        NaN       0.0   0.0   \n",
       "1    0             1      NaN        0.0   24        NaN       0.0   0.0   \n",
       "2    1             0      0.0        0.0   54        0.0       0.0   0.0   \n",
       "3    0             0      0.0        1.0   30        NaN       0.0   0.0   \n",
       "4    1             0      0.0        0.0   60        0.0       1.0   0.0   \n",
       "\n",
       "   asthma  inmsupr  hypertension  other_disease  cardiovascular  obesity  \\\n",
       "0     0.0      0.0           0.0            0.0             0.0      0.0   \n",
       "1     0.0      0.0           0.0            0.0             0.0      0.0   \n",
       "2     0.0      0.0           0.0            0.0             0.0      1.0   \n",
       "3     0.0      0.0           0.0            0.0             0.0      0.0   \n",
       "4     0.0      0.0           1.0            0.0             1.0      0.0   \n",
       "\n",
       "   renal_chronic  tobacco  contact_other_covid  covid_res  icu  \n",
       "0            0.0      0.0                  0.0          1  NaN  \n",
       "1            0.0      0.0                  NaN          1  NaN  \n",
       "2            0.0      0.0                  NaN          1  0.0  \n",
       "3            0.0      0.0                  NaN          1  0.0  \n",
       "4            0.0      0.0                  NaN          1  0.0  "
      ]
     },
     "execution_count": 4,
     "metadata": {},
     "output_type": "execute_result"
    }
   ],
   "source": [
    "# importing the dataset\n",
    "ds = pd.read_csv('COVID.csv')\n",
    "# droppping the column 'Unnamed: 0'\n",
    "ds.drop(columns=['Unnamed: 0'], inplace = True)\n",
    "ds.head()"
   ]
  },
  {
   "cell_type": "code",
   "execution_count": 5,
   "id": "bc063fc1",
   "metadata": {
    "executionInfo": {
     "elapsed": 4,
     "status": "ok",
     "timestamp": 1639433049202,
     "user": {
      "displayName": "Diego Felipe",
      "photoUrl": "https://lh3.googleusercontent.com/a-/AOh14Gh0OKIXgJWrcnWQIssC8wN39DTk9Z2eP49s3J9o=s64",
      "userId": "10648197522699844119"
     },
     "user_tz": 180
    },
    "id": "783609ac"
   },
   "outputs": [],
   "source": [
    "# creating a dictionary with information on the features\n",
    "desc = {\n",
    "    'id': \"Patient's ID\", 'sex': 'Patient sex (0 - Male / 1 - Female)',\n",
    "    'patient_type': 'Patient was hospitalized (1) or sent back home (0)',\n",
    "    'intubed': 'Whether a patient was intubated (1) or not (0)', 'pneumonia': 'Whether a patient developed pneumonia (1) or not (0)',\n",
    "    'age': \"Patient's age\", 'pregnancy': 'Whether a patient was pregnant (1) or not (0) (only females)',\n",
    "    'diabetes': 'Was it a diabetic patient (1) or not (0)?', 'copd': 'Chronic obstructive pulmonary disease (COPD) (1) or not (0)',\n",
    "    'asthma': 'Whether a patient has asthma (1) or not (0)', 'inmsupr': 'Patient immunosuppressed (1) or not (0)',\n",
    "    'hypertension': 'Hypertense patient (1) or not (0)?', 'ohter_disease': 'Had othher diseases (1) or not (0)?',\n",
    "    'cardiovascular': 'Cardiovascular diseases (1) or not (0)?', 'obesity': 'Obese (1) or not (0)?',\n",
    "    'renal_chronic': 'Chronic kidney disease (1) or not (0)', 'tobacco': 'Smoker (1) or not (0)',\n",
    "    'contact_other_covid': 'Patient made contact with a COVID-diagnosed person (1) or not (0)',\n",
    "    'icu': 'Hospitalized in an intensive care unit (ICU) (1) or not (0)', 'covid_res': 'Tested positive for any COVID test (1) or not (0)'\n",
    "}\n",
    "\n",
    "# creating description for features\n",
    "ds_desc = pd.Series(data=desc.values(), index=desc.keys())"
   ]
  },
  {
   "cell_type": "markdown",
   "id": "1964b0ef",
   "metadata": {
    "id": "060b4fda"
   },
   "source": [
    "## Data preparation and consistency"
   ]
  },
  {
   "cell_type": "code",
   "execution_count": 6,
   "id": "afad7a81",
   "metadata": {
    "colab": {
     "base_uri": "https://localhost:8080/"
    },
    "executionInfo": {
     "elapsed": 274,
     "status": "ok",
     "timestamp": 1639433102719,
     "user": {
      "displayName": "Diego Felipe",
      "photoUrl": "https://lh3.googleusercontent.com/a-/AOh14Gh0OKIXgJWrcnWQIssC8wN39DTk9Z2eP49s3J9o=s64",
      "userId": "10648197522699844119"
     },
     "user_tz": 180
    },
    "id": "a522564f",
    "outputId": "12c30d55-9a05-4d79-99a2-75ad420ee839"
   },
   "outputs": [
    {
     "name": "stdout",
     "output_type": "stream",
     "text": [
      "<class 'pandas.core.frame.DataFrame'>\n",
      "RangeIndex: 499692 entries, 0 to 499691\n",
      "Data columns (total 19 columns):\n",
      " #   Column               Non-Null Count   Dtype  \n",
      "---  ------               --------------   -----  \n",
      " 0   sex                  499692 non-null  int64  \n",
      " 1   patient_type         499692 non-null  int64  \n",
      " 2   intubed              107424 non-null  float64\n",
      " 3   pneumonia            499681 non-null  float64\n",
      " 4   age                  499692 non-null  int64  \n",
      " 5   pregnancy            245258 non-null  float64\n",
      " 6   diabetes             498051 non-null  float64\n",
      " 7   copd                 498246 non-null  float64\n",
      " 8   asthma               498250 non-null  float64\n",
      " 9   inmsupr              498030 non-null  float64\n",
      " 10  hypertension         498203 non-null  float64\n",
      " 11  other_disease        497499 non-null  float64\n",
      " 12  cardiovascular       498183 non-null  float64\n",
      " 13  obesity              498222 non-null  float64\n",
      " 14  renal_chronic        498216 non-null  float64\n",
      " 15  tobacco              498113 non-null  float64\n",
      " 16  contact_other_covid  346017 non-null  float64\n",
      " 17  covid_res            499692 non-null  int64  \n",
      " 18  icu                  107423 non-null  float64\n",
      "dtypes: float64(15), int64(4)\n",
      "memory usage: 72.4 MB\n"
     ]
    }
   ],
   "source": [
    "ds.info()"
   ]
  },
  {
   "cell_type": "code",
   "execution_count": 7,
   "id": "7a208270",
   "metadata": {
    "colab": {
     "base_uri": "https://localhost:8080/"
    },
    "executionInfo": {
     "elapsed": 10,
     "status": "ok",
     "timestamp": 1639433107343,
     "user": {
      "displayName": "Diego Felipe",
      "photoUrl": "https://lh3.googleusercontent.com/a-/AOh14Gh0OKIXgJWrcnWQIssC8wN39DTk9Z2eP49s3J9o=s64",
      "userId": "10648197522699844119"
     },
     "user_tz": 180
    },
    "id": "e5a0fa30",
    "outputId": "64aa1f3e-5b6e-465f-eff9-bbd713b2b008"
   },
   "outputs": [
    {
     "data": {
      "text/plain": [
       "sex                     0.000000\n",
       "patient_type            0.000000\n",
       "intubed                78.501957\n",
       "pneumonia               0.002201\n",
       "age                     0.000000\n",
       "pregnancy              50.918166\n",
       "diabetes                0.328402\n",
       "copd                    0.289378\n",
       "asthma                  0.288578\n",
       "inmsupr                 0.332605\n",
       "hypertension            0.297984\n",
       "other_disease           0.438870\n",
       "cardiovascular          0.301986\n",
       "obesity                 0.294181\n",
       "renal_chronic           0.295382\n",
       "tobacco                 0.315995\n",
       "contact_other_covid    30.753944\n",
       "covid_res               0.000000\n",
       "icu                    78.502157\n",
       "dtype: float64"
      ]
     },
     "execution_count": 7,
     "metadata": {},
     "output_type": "execute_result"
    }
   ],
   "source": [
    "# proportion of missing data\n",
    "ds.isna().mean() * 100"
   ]
  },
  {
   "cell_type": "markdown",
   "id": "714faa9d",
   "metadata": {},
   "source": [
    "**Comments:** The columns 'intubed', 'pregnancy', 'icu' and 'contact_other_covid' have large percentage of missing values and a strategy is necessary to handle them. Other columns have small percentage of missing values and can be dealt by erasing these individuals from the analysis."
   ]
  },
  {
   "cell_type": "code",
   "execution_count": null,
   "id": "808b0ad0",
   "metadata": {},
   "outputs": [],
   "source": []
  },
  {
   "cell_type": "markdown",
   "id": "69627a25",
   "metadata": {
    "id": "c63a06c2"
   },
   "source": [
    "---\n",
    "### Working missing data on the pregnancy column<br>\n",
    "- Missing data will be randomly filled complying with the proportion males (0) and females (1) and age category"
   ]
  },
  {
   "cell_type": "code",
   "execution_count": 8,
   "id": "90f21de5",
   "metadata": {},
   "outputs": [],
   "source": [
    "# creating a copy of the original dataset for manipulation\n",
    "ds_clean = ds.copy()"
   ]
  },
  {
   "cell_type": "code",
   "execution_count": 9,
   "id": "60a7aa6c",
   "metadata": {
    "colab": {
     "base_uri": "https://localhost:8080/"
    },
    "executionInfo": {
     "elapsed": 295,
     "status": "ok",
     "timestamp": 1639433133721,
     "user": {
      "displayName": "Diego Felipe",
      "photoUrl": "https://lh3.googleusercontent.com/a-/AOh14Gh0OKIXgJWrcnWQIssC8wN39DTk9Z2eP49s3J9o=s64",
      "userId": "10648197522699844119"
     },
     "user_tz": 180
    },
    "id": "1de4fc38",
    "outputId": "ff729bbf-79b2-4ee4-f1e6-3c494751f798"
   },
   "outputs": [
    {
     "data": {
      "text/plain": [
       "0    253098\n",
       "1      1336\n",
       "Name: sex, dtype: int64"
      ]
     },
     "execution_count": 9,
     "metadata": {},
     "output_type": "execute_result"
    }
   ],
   "source": [
    "# The majority of missing values on the pregnancy column belongs to males. Therefore, NaN can be safely filled with 0\n",
    "ds_clean[ds_clean['pregnancy'].isna()]['sex'].value_counts()"
   ]
  },
  {
   "cell_type": "code",
   "execution_count": 10,
   "id": "d1753c77",
   "metadata": {
    "executionInfo": {
     "elapsed": 285,
     "status": "ok",
     "timestamp": 1639433135289,
     "user": {
      "displayName": "Diego Felipe",
      "photoUrl": "https://lh3.googleusercontent.com/a-/AOh14Gh0OKIXgJWrcnWQIssC8wN39DTk9Z2eP49s3J9o=s64",
      "userId": "10648197522699844119"
     },
     "user_tz": 180
    },
    "id": "b98348f9"
   },
   "outputs": [],
   "source": [
    "# Filling the missing values for males on the pregnancy column\n",
    "index_males = ds_clean['pregnancy'][(ds_clean['sex'] == 0) & (ds_clean['pregnancy'].isna())].index\n",
    "ds_clean.loc[index_males, 'pregnancy'] = 0"
   ]
  },
  {
   "cell_type": "code",
   "execution_count": 11,
   "id": "950820e9",
   "metadata": {
    "executionInfo": {
     "elapsed": 444,
     "status": "ok",
     "timestamp": 1639433137122,
     "user": {
      "displayName": "Diego Felipe",
      "photoUrl": "https://lh3.googleusercontent.com/a-/AOh14Gh0OKIXgJWrcnWQIssC8wN39DTk9Z2eP49s3J9o=s64",
      "userId": "10648197522699844119"
     },
     "user_tz": 180
    },
    "id": "653d725b"
   },
   "outputs": [],
   "source": [
    "# There are some missing values between females that are out of age for natural pregnancy. Therefore, NaN will be filled with 0\n",
    "ds_clean[ds_clean['pregnancy'].isna()].value_counts()\n",
    "# Females of age over 50 years old were not considered as pregnant\n",
    "ds_clean['pregnancy'][ds_clean['age'] >= 50] = 0"
   ]
  },
  {
   "cell_type": "code",
   "execution_count": 12,
   "id": "370010e6",
   "metadata": {
    "executionInfo": {
     "elapsed": 8,
     "status": "ok",
     "timestamp": 1639433137876,
     "user": {
      "displayName": "Diego Felipe",
      "photoUrl": "https://lh3.googleusercontent.com/a-/AOh14Gh0OKIXgJWrcnWQIssC8wN39DTk9Z2eP49s3J9o=s64",
      "userId": "10648197522699844119"
     },
     "user_tz": 180
    },
    "id": "88b67db9"
   },
   "outputs": [],
   "source": [
    "# About 99% of the females of age under 50 years old were not pregnant by the time of infection. Therefore, NaN values at this\n",
    "# age range will be filled with 0\n",
    "ds_clean['pregnancy'][ds_clean['age'] < 50].value_counts(normalize=True)\n",
    "ds_clean['pregnancy'][(ds_clean['pregnancy'].isna()) & (ds_clean['age'] < 50)] = 0"
   ]
  },
  {
   "cell_type": "code",
   "execution_count": null,
   "id": "76726af1",
   "metadata": {
    "id": "1f7d0af8"
   },
   "outputs": [],
   "source": []
  },
  {
   "cell_type": "markdown",
   "id": "2fbbcbcb",
   "metadata": {
    "id": "92f02526"
   },
   "source": [
    "---\n",
    "### Working missing data on the contact_other_covid, intubed and icu columns<br>\n",
    "- Missing data on the contact_other_covid will be dropped\n",
    "- Intubed and icu columns will be utterly dropped"
   ]
  },
  {
   "cell_type": "code",
   "execution_count": 13,
   "id": "5ca3b7f5",
   "metadata": {},
   "outputs": [],
   "source": [
    "# filling NaN values on the 'icu' and 'intubed' columns with 0\n",
    "ds_clean['icu'].fillna(value=0, inplace=True)\n",
    "ds_clean['intubed'].fillna(value=0, inplace=True)"
   ]
  },
  {
   "cell_type": "markdown",
   "id": "b4de81ea",
   "metadata": {},
   "source": [
    "**Comments:** I suppose that NaN values on icu and itubed columns refer to patients that were not intubed or needed intensive care. Therefore, NaN values were filled with 0."
   ]
  },
  {
   "cell_type": "code",
   "execution_count": 14,
   "id": "50651eb4",
   "metadata": {
    "executionInfo": {
     "elapsed": 3626,
     "status": "ok",
     "timestamp": 1639433150641,
     "user": {
      "displayName": "Diego Felipe",
      "photoUrl": "https://lh3.googleusercontent.com/a-/AOh14Gh0OKIXgJWrcnWQIssC8wN39DTk9Z2eP49s3J9o=s64",
      "userId": "10648197522699844119"
     },
     "user_tz": 180
    },
    "id": "4bd682cc"
   },
   "outputs": [],
   "source": [
    "# dropping 'contact_other_covid' COVID columns since it has over 30% missing values and any reasonable way to fill them.\n",
    "ds_clean.drop(columns=['contact_other_covid'], inplace=True)"
   ]
  },
  {
   "cell_type": "markdown",
   "id": "fe5d88af",
   "metadata": {},
   "source": [
    "**Comments:** I couldn't find a pattern to fill contact_other_covid columns. Therefore, it was dropped off of anlaysis."
   ]
  },
  {
   "cell_type": "code",
   "execution_count": null,
   "id": "1ceb6ed8",
   "metadata": {
    "id": "0d609390"
   },
   "outputs": [],
   "source": []
  },
  {
   "cell_type": "markdown",
   "id": "65f77ac7",
   "metadata": {
    "id": "b40cfff3"
   },
   "source": [
    "### Dealing with the remnant missing data"
   ]
  },
  {
   "cell_type": "code",
   "execution_count": 15,
   "id": "cc357fe1",
   "metadata": {
    "colab": {
     "base_uri": "https://localhost:8080/"
    },
    "executionInfo": {
     "elapsed": 272,
     "status": "ok",
     "timestamp": 1639433155042,
     "user": {
      "displayName": "Diego Felipe",
      "photoUrl": "https://lh3.googleusercontent.com/a-/AOh14Gh0OKIXgJWrcnWQIssC8wN39DTk9Z2eP49s3J9o=s64",
      "userId": "10648197522699844119"
     },
     "user_tz": 180
    },
    "id": "f18c382d",
    "outputId": "caee31c6-bd64-49bc-f156-1c2f586b40c8"
   },
   "outputs": [
    {
     "data": {
      "text/plain": [
       "sex               0\n",
       "patient_type      0\n",
       "intubed           0\n",
       "pneumonia         0\n",
       "age               0\n",
       "pregnancy         0\n",
       "diabetes          0\n",
       "copd              0\n",
       "asthma            0\n",
       "inmsupr           0\n",
       "hypertension      0\n",
       "other_disease     0\n",
       "cardiovascular    0\n",
       "obesity           0\n",
       "renal_chronic     0\n",
       "tobacco           0\n",
       "covid_res         0\n",
       "icu               0\n",
       "dtype: int64"
      ]
     },
     "execution_count": 15,
     "metadata": {},
     "output_type": "execute_result"
    }
   ],
   "source": [
    "# dropping the rows for which a few missing data are still found\n",
    "ds_clean.dropna(inplace=True)\n",
    "ds_clean.isna().sum()"
   ]
  },
  {
   "cell_type": "code",
   "execution_count": null,
   "id": "682c5b0b",
   "metadata": {
    "id": "feae32d6"
   },
   "outputs": [],
   "source": []
  },
  {
   "cell_type": "markdown",
   "id": "85babdb4",
   "metadata": {
    "id": "cb40bcbc"
   },
   "source": [
    "---\n",
    "### Other small assessment and modifications"
   ]
  },
  {
   "cell_type": "code",
   "execution_count": 16,
   "id": "9a303d21",
   "metadata": {
    "colab": {
     "base_uri": "https://localhost:8080/"
    },
    "executionInfo": {
     "elapsed": 1097,
     "status": "ok",
     "timestamp": 1639433166557,
     "user": {
      "displayName": "Diego Felipe",
      "photoUrl": "https://lh3.googleusercontent.com/a-/AOh14Gh0OKIXgJWrcnWQIssC8wN39DTk9Z2eP49s3J9o=s64",
      "userId": "10648197522699844119"
     },
     "user_tz": 180
    },
    "id": "d21e495a",
    "outputId": "bb186320-04cd-431b-a4ec-0151f37549aa"
   },
   "outputs": [
    {
     "data": {
      "text/plain": [
       "5856       1\n",
       "41552      0\n",
       "48457     12\n",
       "64979      1\n",
       "98347     11\n",
       "          ..\n",
       "462568     4\n",
       "462746     1\n",
       "470476    10\n",
       "488937     0\n",
       "490024     0\n",
       "Name: age, Length: 76, dtype: int64"
      ]
     },
     "execution_count": 16,
     "metadata": {},
     "output_type": "execute_result"
    }
   ],
   "source": [
    "# checking relationship between age and smoke\n",
    "ds_clean['age'][(ds_clean['tobacco'] == 1) & (ds_clean['age'] <= 12)]"
   ]
  },
  {
   "cell_type": "markdown",
   "id": "650aac7b",
   "metadata": {},
   "source": [
    "**Comments:** It wasn't clear whether patients under 12 years old were considered passive smokers or have they been mistakenly classified. Therefore, these few values will be replaced by 0."
   ]
  },
  {
   "cell_type": "code",
   "execution_count": 17,
   "id": "afdc5bde",
   "metadata": {
    "executionInfo": {
     "elapsed": 9,
     "status": "ok",
     "timestamp": 1639409066577,
     "user": {
      "displayName": "Diego Felipe",
      "photoUrl": "https://lh3.googleusercontent.com/a-/AOh14Gh0OKIXgJWrcnWQIssC8wN39DTk9Z2eP49s3J9o=s64",
      "userId": "10648197522699844119"
     },
     "user_tz": 180
    },
    "id": "423d8840"
   },
   "outputs": [],
   "source": [
    "# erasing the data of smokers that are younger than 13 years old\n",
    "ds_clean['age'][(ds_clean['tobacco'] == 1) & (ds_clean['age'] <= 12)] = 0"
   ]
  },
  {
   "cell_type": "code",
   "execution_count": null,
   "id": "958a91e9",
   "metadata": {
    "executionInfo": {
     "elapsed": 11,
     "status": "ok",
     "timestamp": 1639409066580,
     "user": {
      "displayName": "Diego Felipe",
      "photoUrl": "https://lh3.googleusercontent.com/a-/AOh14Gh0OKIXgJWrcnWQIssC8wN39DTk9Z2eP49s3J9o=s64",
      "userId": "10648197522699844119"
     },
     "user_tz": 180
    },
    "id": "1ce05839"
   },
   "outputs": [],
   "source": []
  },
  {
   "cell_type": "markdown",
   "id": "b5427279",
   "metadata": {
    "id": "e1ed1271"
   },
   "source": [
    "## Exploratory data analysis"
   ]
  },
  {
   "cell_type": "code",
   "execution_count": 18,
   "id": "d0f3b9b5",
   "metadata": {
    "collapsed": true
   },
   "outputs": [
    {
     "name": "stdout",
     "output_type": "stream",
     "text": [
      "<class 'pandas.core.frame.DataFrame'>\n",
      "Int64Index: 496291 entries, 0 to 499691\n",
      "Data columns (total 18 columns):\n",
      " #   Column          Non-Null Count   Dtype  \n",
      "---  ------          --------------   -----  \n",
      " 0   sex             496291 non-null  int64  \n",
      " 1   patient_type    496291 non-null  int64  \n",
      " 2   intubed         496291 non-null  float64\n",
      " 3   pneumonia       496291 non-null  float64\n",
      " 4   age             496291 non-null  int64  \n",
      " 5   pregnancy       496291 non-null  float64\n",
      " 6   diabetes        496291 non-null  float64\n",
      " 7   copd            496291 non-null  float64\n",
      " 8   asthma          496291 non-null  float64\n",
      " 9   inmsupr         496291 non-null  float64\n",
      " 10  hypertension    496291 non-null  float64\n",
      " 11  other_disease   496291 non-null  float64\n",
      " 12  cardiovascular  496291 non-null  float64\n",
      " 13  obesity         496291 non-null  float64\n",
      " 14  renal_chronic   496291 non-null  float64\n",
      " 15  tobacco         496291 non-null  float64\n",
      " 16  covid_res       496291 non-null  int64  \n",
      " 17  icu             496291 non-null  float64\n",
      "dtypes: float64(14), int64(4)\n",
      "memory usage: 71.9 MB\n"
     ]
    }
   ],
   "source": [
    "# Checking the dataset after changes\n",
    "ds_clean.info()"
   ]
  },
  {
   "cell_type": "code",
   "execution_count": 20,
   "id": "58ca4610",
   "metadata": {
    "collapsed": true,
    "id": "c6c2ea40"
   },
   "outputs": [
    {
     "data": {
      "text/html": [
       "<div>\n",
       "<style scoped>\n",
       "    .dataframe tbody tr th:only-of-type {\n",
       "        vertical-align: middle;\n",
       "    }\n",
       "\n",
       "    .dataframe tbody tr th {\n",
       "        vertical-align: top;\n",
       "    }\n",
       "\n",
       "    .dataframe thead th {\n",
       "        text-align: right;\n",
       "    }\n",
       "</style>\n",
       "<table border=\"1\" class=\"dataframe\">\n",
       "  <thead>\n",
       "    <tr style=\"text-align: right;\">\n",
       "      <th></th>\n",
       "      <th>count</th>\n",
       "      <th>mean</th>\n",
       "      <th>std</th>\n",
       "      <th>min</th>\n",
       "      <th>25%</th>\n",
       "      <th>50%</th>\n",
       "      <th>75%</th>\n",
       "      <th>max</th>\n",
       "    </tr>\n",
       "  </thead>\n",
       "  <tbody>\n",
       "    <tr>\n",
       "      <th>sex</th>\n",
       "      <td>496291.0</td>\n",
       "      <td>0.494039</td>\n",
       "      <td>0.499965</td>\n",
       "      <td>0.0</td>\n",
       "      <td>0.0</td>\n",
       "      <td>0.0</td>\n",
       "      <td>1.0</td>\n",
       "      <td>1.0</td>\n",
       "    </tr>\n",
       "    <tr>\n",
       "      <th>patient_type</th>\n",
       "      <td>496291.0</td>\n",
       "      <td>0.786256</td>\n",
       "      <td>0.409948</td>\n",
       "      <td>0.0</td>\n",
       "      <td>1.0</td>\n",
       "      <td>1.0</td>\n",
       "      <td>1.0</td>\n",
       "      <td>1.0</td>\n",
       "    </tr>\n",
       "    <tr>\n",
       "      <th>intubed</th>\n",
       "      <td>496291.0</td>\n",
       "      <td>0.017707</td>\n",
       "      <td>0.131886</td>\n",
       "      <td>0.0</td>\n",
       "      <td>0.0</td>\n",
       "      <td>0.0</td>\n",
       "      <td>0.0</td>\n",
       "      <td>1.0</td>\n",
       "    </tr>\n",
       "    <tr>\n",
       "      <th>pneumonia</th>\n",
       "      <td>496291.0</td>\n",
       "      <td>0.156172</td>\n",
       "      <td>0.363019</td>\n",
       "      <td>0.0</td>\n",
       "      <td>0.0</td>\n",
       "      <td>0.0</td>\n",
       "      <td>0.0</td>\n",
       "      <td>1.0</td>\n",
       "    </tr>\n",
       "    <tr>\n",
       "      <th>age</th>\n",
       "      <td>496291.0</td>\n",
       "      <td>42.512486</td>\n",
       "      <td>16.624512</td>\n",
       "      <td>0.0</td>\n",
       "      <td>31.0</td>\n",
       "      <td>41.0</td>\n",
       "      <td>53.0</td>\n",
       "      <td>120.0</td>\n",
       "    </tr>\n",
       "    <tr>\n",
       "      <th>pregnancy</th>\n",
       "      <td>496291.0</td>\n",
       "      <td>0.007220</td>\n",
       "      <td>0.084661</td>\n",
       "      <td>0.0</td>\n",
       "      <td>0.0</td>\n",
       "      <td>0.0</td>\n",
       "      <td>0.0</td>\n",
       "      <td>1.0</td>\n",
       "    </tr>\n",
       "    <tr>\n",
       "      <th>diabetes</th>\n",
       "      <td>496291.0</td>\n",
       "      <td>0.124693</td>\n",
       "      <td>0.330371</td>\n",
       "      <td>0.0</td>\n",
       "      <td>0.0</td>\n",
       "      <td>0.0</td>\n",
       "      <td>0.0</td>\n",
       "      <td>1.0</td>\n",
       "    </tr>\n",
       "    <tr>\n",
       "      <th>copd</th>\n",
       "      <td>496291.0</td>\n",
       "      <td>0.016527</td>\n",
       "      <td>0.127489</td>\n",
       "      <td>0.0</td>\n",
       "      <td>0.0</td>\n",
       "      <td>0.0</td>\n",
       "      <td>0.0</td>\n",
       "      <td>1.0</td>\n",
       "    </tr>\n",
       "    <tr>\n",
       "      <th>asthma</th>\n",
       "      <td>496291.0</td>\n",
       "      <td>0.032513</td>\n",
       "      <td>0.177359</td>\n",
       "      <td>0.0</td>\n",
       "      <td>0.0</td>\n",
       "      <td>0.0</td>\n",
       "      <td>0.0</td>\n",
       "      <td>1.0</td>\n",
       "    </tr>\n",
       "    <tr>\n",
       "      <th>inmsupr</th>\n",
       "      <td>496291.0</td>\n",
       "      <td>0.016097</td>\n",
       "      <td>0.125850</td>\n",
       "      <td>0.0</td>\n",
       "      <td>0.0</td>\n",
       "      <td>0.0</td>\n",
       "      <td>0.0</td>\n",
       "      <td>1.0</td>\n",
       "    </tr>\n",
       "    <tr>\n",
       "      <th>hypertension</th>\n",
       "      <td>496291.0</td>\n",
       "      <td>0.162804</td>\n",
       "      <td>0.369187</td>\n",
       "      <td>0.0</td>\n",
       "      <td>0.0</td>\n",
       "      <td>0.0</td>\n",
       "      <td>0.0</td>\n",
       "      <td>1.0</td>\n",
       "    </tr>\n",
       "    <tr>\n",
       "      <th>other_disease</th>\n",
       "      <td>496291.0</td>\n",
       "      <td>0.030805</td>\n",
       "      <td>0.172788</td>\n",
       "      <td>0.0</td>\n",
       "      <td>0.0</td>\n",
       "      <td>0.0</td>\n",
       "      <td>0.0</td>\n",
       "      <td>1.0</td>\n",
       "    </tr>\n",
       "    <tr>\n",
       "      <th>cardiovascular</th>\n",
       "      <td>496291.0</td>\n",
       "      <td>0.022777</td>\n",
       "      <td>0.149192</td>\n",
       "      <td>0.0</td>\n",
       "      <td>0.0</td>\n",
       "      <td>0.0</td>\n",
       "      <td>0.0</td>\n",
       "      <td>1.0</td>\n",
       "    </tr>\n",
       "    <tr>\n",
       "      <th>obesity</th>\n",
       "      <td>496291.0</td>\n",
       "      <td>0.163930</td>\n",
       "      <td>0.370212</td>\n",
       "      <td>0.0</td>\n",
       "      <td>0.0</td>\n",
       "      <td>0.0</td>\n",
       "      <td>0.0</td>\n",
       "      <td>1.0</td>\n",
       "    </tr>\n",
       "    <tr>\n",
       "      <th>renal_chronic</th>\n",
       "      <td>496291.0</td>\n",
       "      <td>0.020014</td>\n",
       "      <td>0.140050</td>\n",
       "      <td>0.0</td>\n",
       "      <td>0.0</td>\n",
       "      <td>0.0</td>\n",
       "      <td>0.0</td>\n",
       "      <td>1.0</td>\n",
       "    </tr>\n",
       "    <tr>\n",
       "      <th>tobacco</th>\n",
       "      <td>496291.0</td>\n",
       "      <td>0.086036</td>\n",
       "      <td>0.280418</td>\n",
       "      <td>0.0</td>\n",
       "      <td>0.0</td>\n",
       "      <td>0.0</td>\n",
       "      <td>0.0</td>\n",
       "      <td>1.0</td>\n",
       "    </tr>\n",
       "    <tr>\n",
       "      <th>covid_res</th>\n",
       "      <td>496291.0</td>\n",
       "      <td>0.441076</td>\n",
       "      <td>0.496516</td>\n",
       "      <td>0.0</td>\n",
       "      <td>0.0</td>\n",
       "      <td>0.0</td>\n",
       "      <td>1.0</td>\n",
       "      <td>1.0</td>\n",
       "    </tr>\n",
       "    <tr>\n",
       "      <th>icu</th>\n",
       "      <td>496291.0</td>\n",
       "      <td>0.017667</td>\n",
       "      <td>0.131738</td>\n",
       "      <td>0.0</td>\n",
       "      <td>0.0</td>\n",
       "      <td>0.0</td>\n",
       "      <td>0.0</td>\n",
       "      <td>1.0</td>\n",
       "    </tr>\n",
       "  </tbody>\n",
       "</table>\n",
       "</div>"
      ],
      "text/plain": [
       "                   count       mean        std  min   25%   50%   75%    max\n",
       "sex             496291.0   0.494039   0.499965  0.0   0.0   0.0   1.0    1.0\n",
       "patient_type    496291.0   0.786256   0.409948  0.0   1.0   1.0   1.0    1.0\n",
       "intubed         496291.0   0.017707   0.131886  0.0   0.0   0.0   0.0    1.0\n",
       "pneumonia       496291.0   0.156172   0.363019  0.0   0.0   0.0   0.0    1.0\n",
       "age             496291.0  42.512486  16.624512  0.0  31.0  41.0  53.0  120.0\n",
       "pregnancy       496291.0   0.007220   0.084661  0.0   0.0   0.0   0.0    1.0\n",
       "diabetes        496291.0   0.124693   0.330371  0.0   0.0   0.0   0.0    1.0\n",
       "copd            496291.0   0.016527   0.127489  0.0   0.0   0.0   0.0    1.0\n",
       "asthma          496291.0   0.032513   0.177359  0.0   0.0   0.0   0.0    1.0\n",
       "inmsupr         496291.0   0.016097   0.125850  0.0   0.0   0.0   0.0    1.0\n",
       "hypertension    496291.0   0.162804   0.369187  0.0   0.0   0.0   0.0    1.0\n",
       "other_disease   496291.0   0.030805   0.172788  0.0   0.0   0.0   0.0    1.0\n",
       "cardiovascular  496291.0   0.022777   0.149192  0.0   0.0   0.0   0.0    1.0\n",
       "obesity         496291.0   0.163930   0.370212  0.0   0.0   0.0   0.0    1.0\n",
       "renal_chronic   496291.0   0.020014   0.140050  0.0   0.0   0.0   0.0    1.0\n",
       "tobacco         496291.0   0.086036   0.280418  0.0   0.0   0.0   0.0    1.0\n",
       "covid_res       496291.0   0.441076   0.496516  0.0   0.0   0.0   1.0    1.0\n",
       "icu             496291.0   0.017667   0.131738  0.0   0.0   0.0   0.0    1.0"
      ]
     },
     "execution_count": 20,
     "metadata": {},
     "output_type": "execute_result"
    }
   ],
   "source": [
    "# Overview on the descriptive statistics of the dataset\n",
    "ds_clean.describe().T"
   ]
  },
  {
   "cell_type": "code",
   "execution_count": 18,
   "id": "ed27048e",
   "metadata": {},
   "outputs": [],
   "source": [
    "# rationale: Patient age matters to COVID-19.\n",
    "## Thus, a new column will be created based on information collected at https://www.cdc.gov/nchs/nvss/vsrr/covid_weekly/index.htm#SexAndAge\n",
    "ds_clean.loc[ds_clean.age < 20, 'age_category'] = '19 or less'\n",
    "ds_clean.loc[(ds_clean.age >= 20) & (ds_clean.age < 35), 'age_category'] = '20-34'\n",
    "ds_clean.loc[(ds_clean.age >= 35) & (ds_clean.age < 50), 'age_category'] = '35-49'\n",
    "ds_clean.loc[(ds_clean.age >= 50) & (ds_clean.age < 65), 'age_category'] = '50-64'\n",
    "ds_clean.loc[(ds_clean.age >= 65) & (ds_clean.age < 75), 'age_category'] = '65-74'\n",
    "ds_clean.loc[(ds_clean.age >= 75) & (ds_clean.age < 85), 'age_category'] = '75-84'\n",
    "ds_clean.loc[ds_clean['age_category'].isna(), 'age_category'] = '85 or more'"
   ]
  },
  {
   "cell_type": "code",
   "execution_count": 21,
   "id": "d8a4ae45",
   "metadata": {},
   "outputs": [],
   "source": [
    "# creating a dictionary with information on the features\n",
    "legend_label = {\n",
    "        'sex': {0: 'male', 1: 'female'}, 'patient_type': {0: 'home', 1: 'hospitalized'}, 'intubed': {0: 'no', 1: 'yes'},\n",
    "        'pneumonia': {0: 'no', 1: 'yes'}, 'diabetes': {0: 'no', 1: 'yes'}, 'copd': {0: 'no', 1: 'yes'}, \n",
    "        'asthma': {0: 'no', 1: 'yes'}, 'inmsupr': {0: 'no', 1: 'yes'}, 'hypertension': {0: 'no', 1: 'yes'}, \n",
    "        'other_disease': {0: 'no', 1: 'yes'}, 'cardiovascular': {0: 'no', 1: 'yes'}, 'obesity': {0: 'regular', 1: 'obese'},\n",
    "        'renal_chronic': {0: 'no', 1: 'yes'}, 'tobacco': {0: 'no', 1: 'yes'}, 'covid_res': {0: 'negative', 1: 'positive'}, \n",
    "        'icu': {0: 'regular care', 1: 'intensive care'}}"
   ]
  },
  {
   "cell_type": "code",
   "execution_count": 22,
   "id": "ec15e927",
   "metadata": {
    "collapsed": true,
    "id": "0106c840"
   },
   "outputs": [
    {
     "name": "stdout",
     "output_type": "stream",
     "text": [
      "##########################################################################################################################\n",
      "############ ABSOLUTE FREQUENC BY AGE RANGE ######################### RELATIVE FREQUENCY BY AGE RANGE ####################\n",
      "##########################################################################################################################\n"
     ]
    },
    {
     "data": {
      "image/png": "[encoded data removed]",
      "text/plain": [
       "<Figure size 936x5040 with 32 Axes>"
      ]
     },
     "metadata": {
      "needs_background": "light"
     },
     "output_type": "display_data"
    }
   ],
   "source": [
    "# Evaluating absolute and relative frequencies of patients by age range and feature\n",
    "## General, customized title\n",
    "print(f'{\"#\" * 122}\\n{(\"#\" * 12) + \" ABSOLUTE FREQUENC BY AGE RANGE \" + (\"#\" * 25) + \" RELATIVE FREQUENCY BY AGE RANGE \" + (\"#\" * 20)}\\n{\"#\" * 122}')\n",
    "\n",
    "## Plots through looping\n",
    "cols = ds_clean.columns\n",
    "col1, col2, col3 = np.where(cols == 'age'), np.where(cols == 'pregnancy'), np.where(cols == 'age_category')\n",
    "columns = np.delete(cols, [col1, col2, col3])\n",
    "nrows = len(columns)\n",
    "ncols = 2\n",
    "\n",
    "plt.figure(figsize=(13,70))\n",
    "num = 0\n",
    "\n",
    "for index in range(nrows):\n",
    "    ax1 = plt.subplot2grid(shape = (nrows, ncols), loc = (index, num))\n",
    "    ax2 = plt.subplot2grid(shape = (nrows, ncols), loc = (index, (num + 1)))\n",
    "    legend = [legend_label[columns[index]].get(0), legend_label[columns[index]].get(1)]\n",
    "    plot_percentage_subplots(ds_clean, columns[index], 'age_category', normalize=False, ax = ax1, legend=False, color=['b', 'r'])\n",
    "    plot_percentage_subplots(ds_clean, columns[index], 'age_category', normalize=True, legend_label=legend, ax = ax2, color=['b', 'r'])\n",
    "    \n",
    "plt.tight_layout()\n",
    "#plt.savefig('frequencies_on_dataset.jpg', dpi=300)\n",
    "\n",
    "plt.show()\n"
   ]
  },
  {
   "cell_type": "markdown",
   "id": "cdfbd4b8",
   "metadata": {},
   "source": [
    "**Comments:** Stratification by age showed that:\n",
    "- patient_type: The younger the patient the more likely to stay at the hospital and receive medical assistance.\n",
    "- pneumoina: It was commoner in patients older that 50 years old\n",
    "- diabetes and hypertension: As expected, the older the patient the more likely to have diabetes.\n",
    "- covid_res: The older the patient the more likely to have a positive results on the covid tests. Maybe the virus has different multiplication curves between youngsters and elders?"
   ]
  },
  {
   "cell_type": "code",
   "execution_count": null,
   "id": "68fa6571",
   "metadata": {
    "id": "609ecb65"
   },
   "outputs": [],
   "source": []
  },
  {
   "cell_type": "markdown",
   "id": "213dfb21",
   "metadata": {
    "id": "62f8199a"
   },
   "source": [
    "---\n",
    "## Machine learning models for COVID-19 diagnosis"
   ]
  },
  {
   "cell_type": "code",
   "execution_count": 19,
   "id": "340ad1f3",
   "metadata": {
    "colab": {
     "base_uri": "https://localhost:8080/",
     "height": 226
    },
    "executionInfo": {
     "elapsed": 288,
     "status": "ok",
     "timestamp": 1639433212554,
     "user": {
      "displayName": "Diego Felipe",
      "photoUrl": "https://lh3.googleusercontent.com/a-/AOh14Gh0OKIXgJWrcnWQIssC8wN39DTk9Z2eP49s3J9o=s64",
      "userId": "10648197522699844119"
     },
     "user_tz": 180
    },
    "id": "8e5c5a23",
    "outputId": "b1cebca2-2ff6-4868-d548-19c58e4e5da4"
   },
   "outputs": [
    {
     "data": {
      "text/html": [
       "<div>\n",
       "<style scoped>\n",
       "    .dataframe tbody tr th:only-of-type {\n",
       "        vertical-align: middle;\n",
       "    }\n",
       "\n",
       "    .dataframe tbody tr th {\n",
       "        vertical-align: top;\n",
       "    }\n",
       "\n",
       "    .dataframe thead th {\n",
       "        text-align: right;\n",
       "    }\n",
       "</style>\n",
       "<table border=\"1\" class=\"dataframe\">\n",
       "  <thead>\n",
       "    <tr style=\"text-align: right;\">\n",
       "      <th></th>\n",
       "      <th>sex</th>\n",
       "      <th>patient_type</th>\n",
       "      <th>intubed</th>\n",
       "      <th>pneumonia</th>\n",
       "      <th>age</th>\n",
       "      <th>pregnancy</th>\n",
       "      <th>diabetes</th>\n",
       "      <th>copd</th>\n",
       "      <th>asthma</th>\n",
       "      <th>inmsupr</th>\n",
       "      <th>hypertension</th>\n",
       "      <th>other_disease</th>\n",
       "      <th>cardiovascular</th>\n",
       "      <th>obesity</th>\n",
       "      <th>renal_chronic</th>\n",
       "      <th>tobacco</th>\n",
       "      <th>covid_res</th>\n",
       "      <th>icu</th>\n",
       "      <th>age_category</th>\n",
       "    </tr>\n",
       "  </thead>\n",
       "  <tbody>\n",
       "    <tr>\n",
       "      <th>0</th>\n",
       "      <td>0</td>\n",
       "      <td>1</td>\n",
       "      <td>0.0</td>\n",
       "      <td>0.0</td>\n",
       "      <td>27</td>\n",
       "      <td>0.0</td>\n",
       "      <td>0.0</td>\n",
       "      <td>0.0</td>\n",
       "      <td>0.0</td>\n",
       "      <td>0.0</td>\n",
       "      <td>0.0</td>\n",
       "      <td>0.0</td>\n",
       "      <td>0.0</td>\n",
       "      <td>0.0</td>\n",
       "      <td>0.0</td>\n",
       "      <td>0.0</td>\n",
       "      <td>1</td>\n",
       "      <td>0.0</td>\n",
       "      <td>20-34</td>\n",
       "    </tr>\n",
       "    <tr>\n",
       "      <th>1</th>\n",
       "      <td>0</td>\n",
       "      <td>1</td>\n",
       "      <td>0.0</td>\n",
       "      <td>0.0</td>\n",
       "      <td>24</td>\n",
       "      <td>0.0</td>\n",
       "      <td>0.0</td>\n",
       "      <td>0.0</td>\n",
       "      <td>0.0</td>\n",
       "      <td>0.0</td>\n",
       "      <td>0.0</td>\n",
       "      <td>0.0</td>\n",
       "      <td>0.0</td>\n",
       "      <td>0.0</td>\n",
       "      <td>0.0</td>\n",
       "      <td>0.0</td>\n",
       "      <td>1</td>\n",
       "      <td>0.0</td>\n",
       "      <td>20-34</td>\n",
       "    </tr>\n",
       "    <tr>\n",
       "      <th>2</th>\n",
       "      <td>1</td>\n",
       "      <td>0</td>\n",
       "      <td>0.0</td>\n",
       "      <td>0.0</td>\n",
       "      <td>54</td>\n",
       "      <td>0.0</td>\n",
       "      <td>0.0</td>\n",
       "      <td>0.0</td>\n",
       "      <td>0.0</td>\n",
       "      <td>0.0</td>\n",
       "      <td>0.0</td>\n",
       "      <td>0.0</td>\n",
       "      <td>0.0</td>\n",
       "      <td>1.0</td>\n",
       "      <td>0.0</td>\n",
       "      <td>0.0</td>\n",
       "      <td>1</td>\n",
       "      <td>0.0</td>\n",
       "      <td>50-64</td>\n",
       "    </tr>\n",
       "    <tr>\n",
       "      <th>3</th>\n",
       "      <td>0</td>\n",
       "      <td>0</td>\n",
       "      <td>0.0</td>\n",
       "      <td>1.0</td>\n",
       "      <td>30</td>\n",
       "      <td>0.0</td>\n",
       "      <td>0.0</td>\n",
       "      <td>0.0</td>\n",
       "      <td>0.0</td>\n",
       "      <td>0.0</td>\n",
       "      <td>0.0</td>\n",
       "      <td>0.0</td>\n",
       "      <td>0.0</td>\n",
       "      <td>0.0</td>\n",
       "      <td>0.0</td>\n",
       "      <td>0.0</td>\n",
       "      <td>1</td>\n",
       "      <td>0.0</td>\n",
       "      <td>20-34</td>\n",
       "    </tr>\n",
       "    <tr>\n",
       "      <th>4</th>\n",
       "      <td>1</td>\n",
       "      <td>0</td>\n",
       "      <td>0.0</td>\n",
       "      <td>0.0</td>\n",
       "      <td>60</td>\n",
       "      <td>0.0</td>\n",
       "      <td>1.0</td>\n",
       "      <td>0.0</td>\n",
       "      <td>0.0</td>\n",
       "      <td>0.0</td>\n",
       "      <td>1.0</td>\n",
       "      <td>0.0</td>\n",
       "      <td>1.0</td>\n",
       "      <td>0.0</td>\n",
       "      <td>0.0</td>\n",
       "      <td>0.0</td>\n",
       "      <td>1</td>\n",
       "      <td>0.0</td>\n",
       "      <td>50-64</td>\n",
       "    </tr>\n",
       "  </tbody>\n",
       "</table>\n",
       "</div>"
      ],
      "text/plain": [
       "   sex  patient_type  intubed  pneumonia  age  pregnancy  diabetes  copd  \\\n",
       "0    0             1      0.0        0.0   27        0.0       0.0   0.0   \n",
       "1    0             1      0.0        0.0   24        0.0       0.0   0.0   \n",
       "2    1             0      0.0        0.0   54        0.0       0.0   0.0   \n",
       "3    0             0      0.0        1.0   30        0.0       0.0   0.0   \n",
       "4    1             0      0.0        0.0   60        0.0       1.0   0.0   \n",
       "\n",
       "   asthma  inmsupr  hypertension  other_disease  cardiovascular  obesity  \\\n",
       "0     0.0      0.0           0.0            0.0             0.0      0.0   \n",
       "1     0.0      0.0           0.0            0.0             0.0      0.0   \n",
       "2     0.0      0.0           0.0            0.0             0.0      1.0   \n",
       "3     0.0      0.0           0.0            0.0             0.0      0.0   \n",
       "4     0.0      0.0           1.0            0.0             1.0      0.0   \n",
       "\n",
       "   renal_chronic  tobacco  covid_res  icu age_category  \n",
       "0            0.0      0.0          1  0.0        20-34  \n",
       "1            0.0      0.0          1  0.0        20-34  \n",
       "2            0.0      0.0          1  0.0        50-64  \n",
       "3            0.0      0.0          1  0.0        20-34  \n",
       "4            0.0      0.0          1  0.0        50-64  "
      ]
     },
     "execution_count": 19,
     "metadata": {},
     "output_type": "execute_result"
    }
   ],
   "source": [
    "# creating copy of the dataframe for edition\n",
    "df = ds_clean.copy()\n",
    "df.head()"
   ]
  },
  {
   "cell_type": "code",
   "execution_count": 23,
   "id": "b7d6430a",
   "metadata": {
    "colab": {
     "base_uri": "https://localhost:8080/"
    },
    "executionInfo": {
     "elapsed": 255,
     "status": "ok",
     "timestamp": 1639433215355,
     "user": {
      "displayName": "Diego Felipe",
      "photoUrl": "https://lh3.googleusercontent.com/a-/AOh14Gh0OKIXgJWrcnWQIssC8wN39DTk9Z2eP49s3J9o=s64",
      "userId": "10648197522699844119"
     },
     "user_tz": 180
    },
    "id": "15cdc1d5",
    "outputId": "2413f5ca-f7a9-40bf-c71f-526e71b388c1"
   },
   "outputs": [
    {
     "name": "stdout",
     "output_type": "stream",
     "text": [
      "On the dataset, 277389 people (55.89%) were diagnosed negative for COVID-19, while 218902 were positives (44.11%).\n"
     ]
    }
   ],
   "source": [
    "# quantity and proportion of each class on the target column\n",
    "ab = df['covid_res'].value_counts(normalize=False).sort_index()\n",
    "rel = df['covid_res'].value_counts(normalize=True).sort_index() * 100\n",
    "print(f\"On the dataset, {ab[0]} people ({round(rel[0], 2)}%) were diagnosed negative for COVID-19, while {ab[1]} were positives ({round(rel[1], 2)}%).\")"
   ]
  },
  {
   "cell_type": "markdown",
   "id": "6f5dd493",
   "metadata": {
    "id": "FgtaaVgHXxtk"
   },
   "source": [
    "#### Overall testing with several models"
   ]
  },
  {
   "cell_type": "code",
   "execution_count": 20,
   "id": "14be21f1",
   "metadata": {
    "executionInfo": {
     "elapsed": 1067,
     "status": "ok",
     "timestamp": 1639414129486,
     "user": {
      "displayName": "Diego Felipe",
      "photoUrl": "https://lh3.googleusercontent.com/a-/AOh14Gh0OKIXgJWrcnWQIssC8wN39DTk9Z2eP49s3J9o=s64",
      "userId": "10648197522699844119"
     },
     "user_tz": 180
    },
    "id": "gPipef-6CB2H"
   },
   "outputs": [],
   "source": [
    "# Selecting feature and taget variables\n",
    "X = df.drop(columns=['covid_res', 'age_category'])\n",
    "y = df['covid_res']\n",
    "stratify = df['covid_res']\n",
    "# splitting \n",
    "X_train, X_test_val, y_train, y_test_val = train_test_split(X,\n",
    "                                                            y,\n",
    "                                                            test_size=0.5,\n",
    "                                                            random_state=42,\n",
    "                                                            stratify=stratify)\n",
    "X_test, X_validation, y_test, y_validation = train_test_split(X_test_val,\n",
    "                                                              y_test_val,\n",
    "                                                              test_size=0.5,\n",
    "                                                              random_state=42,\n",
    "                                                              stratify=y_test_val)\n",
    "# scaling data\n",
    "sc = StandardScaler()\n",
    "X_train = sc.fit_transform(X_train)\n",
    "X_test = sc.transform(X_test)\n",
    "X_validation = sc.transform(X_validation)"
   ]
  },
  {
   "cell_type": "code",
   "execution_count": 20,
   "id": "640c3006",
   "metadata": {
    "executionInfo": {
     "elapsed": 473,
     "status": "ok",
     "timestamp": 1639411455238,
     "user": {
      "displayName": "Diego Felipe",
      "photoUrl": "https://lh3.googleusercontent.com/a-/AOh14Gh0OKIXgJWrcnWQIssC8wN39DTk9Z2eP49s3J9o=s64",
      "userId": "10648197522699844119"
     },
     "user_tz": 180
    },
    "id": "fGx-fgafCBsI"
   },
   "outputs": [],
   "source": [
    "# models\n",
    "list_models = [\n",
    "{'model_name': 'Logistic Regression',\n",
    " 'estimator' : LogisticRegression(random_state=42)},\n",
    "{'model_name': 'Tree classification',\n",
    " 'estimator' : DecisionTreeClassifier(random_state=42)},\n",
    "{'model_name': 'Random Forest',\n",
    " 'estimator' : RandomForestClassifier(random_state=42)},\n",
    "{'model_name': 'AdaBoost',\n",
    " 'estimator' : AdaBoostClassifier(random_state=42)},\n",
    "{'model_name': 'Gradient Boosting Classifier',\n",
    " 'estimator' : GradientBoostingClassifier(random_state=42)},\n",
    "{'model_name': 'XGB_Classifier',\n",
    " 'estimator' : XGBClassifier(random_state=42)},\n",
    "{'model_name': 'LightGBM',\n",
    " 'estimator' : lgb.LGBMClassifier(random_state=42)},\n",
    "]"
   ]
  },
  {
   "cell_type": "code",
   "execution_count": 39,
   "id": "21ec8ede",
   "metadata": {
    "colab": {
     "base_uri": "https://localhost:8080/",
     "height": 1000
    },
    "collapsed": true,
    "executionInfo": {
     "elapsed": 1877796,
     "status": "error",
     "timestamp": 1639411436951,
     "user": {
      "displayName": "Diego Felipe",
      "photoUrl": "https://lh3.googleusercontent.com/a-/AOh14Gh0OKIXgJWrcnWQIssC8wN39DTk9Z2eP49s3J9o=s64",
      "userId": "10648197522699844119"
     },
     "user_tz": 180
    },
    "id": "v2qKC7lfatpw",
    "outputId": "14eb1419-f2a5-432b-f059-a820d8426031"
   },
   "outputs": [
    {
     "name": "stdout",
     "output_type": "stream",
     "text": [
      "Cross-validation: [0.6311 0.6338 0.6311 0.6287 0.6314]\n",
      "Mean: 0.6312\n",
      "Standard deviation: 0.0016\n",
      "Model      : Logistic Regression\n",
      "Accuracy   : 0.6303 \n",
      "Precision  : 0.6342 \n",
      "Recall     : 0.6303 \n",
      "F1 - Score : 0.6052 \n",
      "F1 - Score for class 0: 0.72\n",
      "F1 - Score for class 1: 0.46\n",
      "ROC - AUC  : 0.6018 \n",
      "======================\n",
      "Cross-validation: [0.6212 0.625  0.6206 0.6182 0.6204]\n",
      "Mean: 0.6211\n",
      "Standard deviation: 0.0022\n",
      "Model      : Tree classification\n",
      "Accuracy   : 0.6218 \n",
      "Precision  : 0.6258 \n",
      "Recall     : 0.6218 \n",
      "F1 - Score : 0.5927 \n",
      "F1 - Score for class 0: 0.72\n",
      "F1 - Score for class 1: 0.44\n",
      "ROC - AUC  : 0.5914 \n",
      "======================\n",
      "Cross-validation: [0.6227 0.6263 0.622  0.6203 0.6229]\n",
      "Mean: 0.6228\n",
      "Standard deviation: 0.002\n",
      "Model      : Random Forest\n",
      "Accuracy   : 0.6230 \n",
      "Precision  : 0.6257 \n",
      "Recall     : 0.6230 \n",
      "F1 - Score : 0.5963 \n",
      "F1 - Score for class 0: 0.71\n",
      "F1 - Score for class 1: 0.45\n",
      "ROC - AUC  : 0.5938 \n",
      "======================\n",
      "Cross-validation: [0.6339 0.6365 0.6347 0.6309 0.633 ]\n",
      "Mean: 0.6338\n",
      "Standard deviation: 0.0019\n",
      "Model      : AdaBoost\n",
      "Accuracy   : 0.6335 \n",
      "Precision  : 0.6393 \n",
      "Recall     : 0.6335 \n",
      "F1 - Score : 0.6072 \n",
      "F1 - Score for class 0: 0.72\n",
      "F1 - Score for class 1: 0.46\n",
      "ROC - AUC  : 0.6042 \n",
      "======================\n",
      "Cross-validation: [0.6361 0.6378 0.6355 0.6326 0.6349]\n",
      "Mean: 0.6354\n",
      "Standard deviation: 0.0017\n",
      "Model      : Gradient Boosting Classifier\n",
      "Accuracy   : 0.6345 \n",
      "Precision  : 0.6439 \n",
      "Recall     : 0.6345 \n",
      "F1 - Score : 0.6049 \n",
      "F1 - Score for class 0: 0.73\n",
      "F1 - Score for class 1: 0.45\n",
      "ROC - AUC  : 0.6036 \n",
      "======================\n",
      "[20:32:35] WARNING: D:\\bld\\xgboost-split_1637426510059\\work\\src\\learner.cc:1115: Starting in XGBoost 1.3.0, the default evaluation metric used with the objective 'binary:logistic' was changed from 'error' to 'logloss'. Explicitly set eval_metric if you'd like to restore the old behavior.\n",
      "[20:33:00] WARNING: D:\\bld\\xgboost-split_1637426510059\\work\\src\\learner.cc:1115: Starting in XGBoost 1.3.0, the default evaluation metric used with the objective 'binary:logistic' was changed from 'error' to 'logloss'. Explicitly set eval_metric if you'd like to restore the old behavior.\n",
      "[20:33:26] WARNING: D:\\bld\\xgboost-split_1637426510059\\work\\src\\learner.cc:1115: Starting in XGBoost 1.3.0, the default evaluation metric used with the objective 'binary:logistic' was changed from 'error' to 'logloss'. Explicitly set eval_metric if you'd like to restore the old behavior.\n",
      "[20:33:53] WARNING: D:\\bld\\xgboost-split_1637426510059\\work\\src\\learner.cc:1115: Starting in XGBoost 1.3.0, the default evaluation metric used with the objective 'binary:logistic' was changed from 'error' to 'logloss'. Explicitly set eval_metric if you'd like to restore the old behavior.\n",
      "[20:34:20] WARNING: D:\\bld\\xgboost-split_1637426510059\\work\\src\\learner.cc:1115: Starting in XGBoost 1.3.0, the default evaluation metric used with the objective 'binary:logistic' was changed from 'error' to 'logloss'. Explicitly set eval_metric if you'd like to restore the old behavior.\n",
      "[20:34:46] WARNING: D:\\bld\\xgboost-split_1637426510059\\work\\src\\learner.cc:1115: Starting in XGBoost 1.3.0, the default evaluation metric used with the objective 'binary:logistic' was changed from 'error' to 'logloss'. Explicitly set eval_metric if you'd like to restore the old behavior.\n",
      "Cross-validation: [0.6354 0.6369 0.6343 0.6325 0.6345]\n",
      "Mean: 0.6347\n",
      "Standard deviation: 0.0014\n",
      "Model      : XGB_Classifier\n",
      "Accuracy   : 0.6336 \n",
      "Precision  : 0.6419 \n",
      "Recall     : 0.6336 \n",
      "F1 - Score : 0.6047 \n",
      "F1 - Score for class 0: 0.72\n",
      "F1 - Score for class 1: 0.45\n",
      "ROC - AUC  : 0.6031 \n",
      "======================\n",
      "Cross-validation: [0.6358 0.6387 0.6362 0.6336 0.6349]\n",
      "Mean: 0.6358\n",
      "Standard deviation: 0.0017\n",
      "Model      : LightGBM\n",
      "Accuracy   : 0.6346 \n",
      "Precision  : 0.6445 \n",
      "Recall     : 0.6346 \n",
      "F1 - Score : 0.6042 \n",
      "F1 - Score for class 0: 0.73\n",
      "F1 - Score for class 1: 0.45\n",
      "ROC - AUC  : 0.6033 \n",
      "======================\n"
     ]
    },
    {
     "data": {
      "image/png": "[encoded data removed]",
      "text/plain": [
       "<Figure size 432x288 with 1 Axes>"
      ]
     },
     "metadata": {
      "needs_background": "light"
     },
     "output_type": "display_data"
    }
   ],
   "source": [
    "# evaluating metrics\n",
    "test_models_metrics(X, y, list_models, 'model_name', 'estimator', cross_validation_split_number=5, save_fig=False,\n",
    "                    stratify=stratify)"
   ]
  },
  {
   "cell_type": "markdown",
   "id": "4d0dfe55",
   "metadata": {
    "id": "eXLU_RLvX7VE"
   },
   "source": [
    "**Comments:** It looks like boosting methods handled the dataset better, though differences were at the floating point for most of them. It's noteworthy that logistic regression, the simplest tested model, did very well and will be used in this study. KNN classifier took a long while to run so it will be analysed later on in this notebook. Conclusions were taken based on ROC - AUC values and f1_scores."
   ]
  },
  {
   "cell_type": "code",
   "execution_count": null,
   "id": "4fa99754",
   "metadata": {
    "id": "b268edb9"
   },
   "outputs": [],
   "source": []
  },
  {
   "cell_type": "markdown",
   "id": "b5d7fe28",
   "metadata": {
    "id": "98f6928e"
   },
   "source": [
    "#### Testing feature selection"
   ]
  },
  {
   "cell_type": "code",
   "execution_count": 20,
   "id": "d5b6632a",
   "metadata": {
    "colab": {
     "base_uri": "https://localhost:8080/",
     "height": 829
    },
    "collapsed": true,
    "executionInfo": {
     "elapsed": 1135,
     "status": "ok",
     "timestamp": 1639411471236,
     "user": {
      "displayName": "Diego Felipe",
      "photoUrl": "https://lh3.googleusercontent.com/a-/AOh14Gh0OKIXgJWrcnWQIssC8wN39DTk9Z2eP49s3J9o=s64",
      "userId": "10648197522699844119"
     },
     "user_tz": 180
    },
    "id": "80w-3CFGYaRK",
    "outputId": "9e5863d8-4c0b-456d-eead-4357fef993c2"
   },
   "outputs": [
    {
     "data": {
      "image/png": "[encoded data removed]",
      "text/plain": [
       "<Figure size 864x432 with 1 Axes>"
      ]
     },
     "metadata": {
      "needs_background": "light"
     },
     "output_type": "display_data"
    },
    {
     "name": "stdout",
     "output_type": "stream",
     "text": [
      "\n",
      "################################################################################################\n"
     ]
    },
    {
     "data": {
      "text/plain": [
       "age               64324.264280\n",
       "pneumonia         12005.521368\n",
       "diabetes           3460.634871\n",
       "patient_type       3096.200150\n",
       "hypertension       2430.917895\n",
       "intubed            1975.512140\n",
       "obesity            1735.973159\n",
       "icu                1052.652065\n",
       "sex                 959.527664\n",
       "tobacco             227.966434\n",
       "asthma              227.279961\n",
       "inmsupr             111.367710\n",
       "other_disease        43.491099\n",
       "renal_chronic        41.278440\n",
       "pregnancy            30.778297\n",
       "copd                 16.572883\n",
       "cardiovascular        2.811734\n",
       "dtype: float64"
      ]
     },
     "metadata": {},
     "output_type": "display_data"
    }
   ],
   "source": [
    "# selecting features based on chi-square test\n",
    "X = df.drop(columns=['covid_res', 'age_category'])\n",
    "y = df['covid_res']\n",
    "selected_features = feature_select(X, y, score_func='chi_square')\n",
    "\n",
    "# plotting the results\n",
    "plt.figure(figsize=(12, 6))\n",
    "selected_features.plot(kind='bar')\n",
    "plt.ylabel('Score at SelectKBest')\n",
    "plt.show()\n",
    "print('\\n################################################################################################')\n",
    "display(selected_features)"
   ]
  },
  {
   "cell_type": "code",
   "execution_count": 21,
   "id": "cc854ba2",
   "metadata": {
    "executionInfo": {
     "elapsed": 1015,
     "status": "ok",
     "timestamp": 1639411476536,
     "user": {
      "displayName": "Diego Felipe",
      "photoUrl": "https://lh3.googleusercontent.com/a-/AOh14Gh0OKIXgJWrcnWQIssC8wN39DTk9Z2eP49s3J9o=s64",
      "userId": "10648197522699844119"
     },
     "user_tz": 180
    },
    "id": "KO_jEd2NYaDA"
   },
   "outputs": [],
   "source": [
    "# testing using only the most relevant features (only those with scores above 1000)\n",
    "X = df[['age', 'pneumonia', 'diabetes', 'patient_type', 'hypertension', 'intubed', 'obesity', 'icu']]\n",
    "y = df['covid_res']\n",
    "stratify = df['covid_res']\n",
    "# splitting \n",
    "X_train, X_test_val, y_train, y_test_val = train_test_split(X,\n",
    "                                                            y,\n",
    "                                                            test_size=0.5,\n",
    "                                                            random_state=42,\n",
    "                                                            stratify=stratify)\n",
    "X_test, X_validation, y_test, y_validation = train_test_split(X_test_val,\n",
    "                                                              y_test_val,\n",
    "                                                              test_size=0.5,\n",
    "                                                              random_state=42,\n",
    "                                                              stratify=y_test_val)\n",
    "# scaling data\n",
    "sc = StandardScaler()\n",
    "X_train = sc.fit_transform(X_train)\n",
    "X_test = sc.transform(X_test)\n",
    "X_validation = sc.transform(X_validation)"
   ]
  },
  {
   "cell_type": "code",
   "execution_count": 38,
   "id": "2e205061",
   "metadata": {
    "colab": {
     "base_uri": "https://localhost:8080/",
     "height": 1000
    },
    "collapsed": true,
    "executionInfo": {
     "elapsed": 285131,
     "status": "ok",
     "timestamp": 1639411783693,
     "user": {
      "displayName": "Diego Felipe",
      "photoUrl": "https://lh3.googleusercontent.com/a-/AOh14Gh0OKIXgJWrcnWQIssC8wN39DTk9Z2eP49s3J9o=s64",
      "userId": "10648197522699844119"
     },
     "user_tz": 180
    },
    "id": "dtNolmV5YZ0b",
    "outputId": "9dce34af-3cc4-4669-965e-5cb9d8d0c5d0"
   },
   "outputs": [
    {
     "name": "stdout",
     "output_type": "stream",
     "text": [
      "Cross-validation: [0.6254 0.6281 0.627 ]\n",
      "Mean: 0.6268\n",
      "Standard deviation: 0.0011\n",
      "Model      : Logistic Regression\n",
      "Accuracy   : 0.6251 \n",
      "Precision  : 0.6300 \n",
      "Recall     : 0.6251 \n",
      "F1 - Score : 0.5963 \n",
      "F1 - Score for class 0: 0.72\n",
      "F1 - Score for class 1: 0.44\n",
      "ROC - AUC  : 0.5947 \n",
      "======================\n",
      "Cross-validation: [0.6248 0.6279 0.6268]\n",
      "Mean: 0.6265\n",
      "Standard deviation: 0.0013\n",
      "Model      : Tree classification\n",
      "Accuracy   : 0.6270 \n",
      "Precision  : 0.6353 \n",
      "Recall     : 0.6270 \n",
      "F1 - Score : 0.5950 \n",
      "F1 - Score for class 0: 0.72\n",
      "F1 - Score for class 1: 0.43\n",
      "ROC - AUC  : 0.5951 \n",
      "======================\n",
      "Cross-validation: [0.6253 0.6286 0.6283]\n",
      "Mean: 0.6274\n",
      "Standard deviation: 0.0015\n",
      "Model      : Random Forest\n",
      "Accuracy   : 0.6274 \n",
      "Precision  : 0.6346 \n",
      "Recall     : 0.6274 \n",
      "F1 - Score : 0.5968 \n",
      "F1 - Score for class 0: 0.72\n",
      "F1 - Score for class 1: 0.44\n",
      "ROC - AUC  : 0.5961 \n",
      "======================\n",
      "Cross-validation: [0.6292 0.632  0.6319]\n",
      "Mean: 0.631\n",
      "Standard deviation: 0.0013\n",
      "Model      : AdaBoost\n",
      "Accuracy   : 0.6302 \n",
      "Precision  : 0.6376 \n",
      "Recall     : 0.6302 \n",
      "F1 - Score : 0.6007 \n",
      "F1 - Score for class 0: 0.72\n",
      "F1 - Score for class 1: 0.45\n",
      "ROC - AUC  : 0.5994 \n",
      "======================\n",
      "Cross-validation: [0.63   0.6329 0.6327]\n",
      "Mean: 0.6319\n",
      "Standard deviation: 0.0013\n",
      "Model      : Gradient Boosting Classifier\n",
      "Accuracy   : 0.6317 \n",
      "Precision  : 0.6421 \n",
      "Recall     : 0.6317 \n",
      "F1 - Score : 0.5996 \n",
      "F1 - Score for class 0: 0.73\n",
      "F1 - Score for class 1: 0.44\n",
      "ROC - AUC  : 0.5996 \n",
      "======================\n",
      "Cross-validation: [0.6301 0.6327 0.633 ]\n",
      "Mean: 0.6319\n",
      "Standard deviation: 0.0013\n",
      "Model      : XGB_Classifier\n",
      "Accuracy   : 0.6316 \n",
      "Precision  : 0.6419 \n",
      "Recall     : 0.6316 \n",
      "F1 - Score : 0.5996 \n",
      "F1 - Score for class 0: 0.73\n",
      "F1 - Score for class 1: 0.44\n",
      "ROC - AUC  : 0.5996 \n",
      "======================\n",
      "Cross-validation: [0.6295 0.6324 0.6321]\n",
      "Mean: 0.6313\n",
      "Standard deviation: 0.0013\n",
      "Model      : LightGBM\n",
      "Accuracy   : 0.6316 \n",
      "Precision  : 0.6415 \n",
      "Recall     : 0.6316 \n",
      "F1 - Score : 0.6000 \n",
      "F1 - Score for class 0: 0.73\n",
      "F1 - Score for class 1: 0.44\n",
      "ROC - AUC  : 0.5998 \n",
      "======================\n"
     ]
    },
    {
     "data": {
      "image/png": "[encoded data removed]",
      "text/plain": [
       "<Figure size 432x288 with 1 Axes>"
      ]
     },
     "metadata": {
      "needs_background": "light"
     },
     "output_type": "display_data"
    }
   ],
   "source": [
    "# evaluating metrics\n",
    "test_models_metrics(X, y, list_models, 'model_name', 'estimator', cross_validation_split_number=3, save_fig=False,\n",
    "                    stratify=stratify)"
   ]
  },
  {
   "cell_type": "markdown",
   "id": "24e41972",
   "metadata": {
    "id": "LssZ45k1kUq1"
   },
   "source": [
    "**Comments:** Since only a small difference in ROC - AUC and f1_score were abserved when selected features only were used, we will compare performance of models with total and selected features to make sure which one to use. It's noteworthy that if no difference is observed, it's better to use this reduced model for computational power issues."
   ]
  },
  {
   "cell_type": "code",
   "execution_count": null,
   "id": "a65ae16a",
   "metadata": {},
   "outputs": [],
   "source": []
  },
  {
   "cell_type": "markdown",
   "id": "d63c39c3",
   "metadata": {},
   "source": [
    "##### Testing the ROC - AUC by statistics"
   ]
  },
  {
   "cell_type": "code",
   "execution_count": 28,
   "id": "ac0a1a2f",
   "metadata": {},
   "outputs": [],
   "source": [
    "# Setting variables for X with all features\n",
    "X_total = df.drop(columns=['covid_res', 'age_category'])\n",
    "y_total = df['covid_res']\n",
    "stratify_total = df['covid_res']\n",
    "\n",
    "# splitting total\n",
    "X_train_total, X_test_total, y_train_total, y_test_total = train_test_split(X_total,\n",
    "                                                                            y_total,\n",
    "                                                                            test_size=0.5,\n",
    "                                                                            random_state=42,\n",
    "                                                                            stratify=stratify_total)\n",
    "# scaling data\n",
    "sc = StandardScaler()\n",
    "X_train_total = sc.fit_transform(X_train_total)\n",
    "X_test_total = sc.transform(X_test_total)"
   ]
  },
  {
   "cell_type": "code",
   "execution_count": 29,
   "id": "cbde2b79",
   "metadata": {},
   "outputs": [],
   "source": [
    "# Setting variables for X with selected features\n",
    "X_selected = df[['age', 'pneumonia', 'diabetes', 'patient_type', 'hypertension', 'intubed', 'obesity', 'icu']]\n",
    "y_selected = df['covid_res']\n",
    "stratify_selected = df['covid_res']\n",
    "\n",
    "# splitting total\n",
    "X_train_selected, X_test_selected, y_train_selected, y_test_selected = train_test_split(X_selected,\n",
    "                                                                                        y_selected,\n",
    "                                                                                        test_size=0.5,\n",
    "                                                                                        random_state=42,\n",
    "                                                                                        stratify=stratify_selected)\n",
    "# scaling data\n",
    "sc = StandardScaler()\n",
    "X_train_selected = sc.fit_transform(X_train_selected)\n",
    "X_test_selected = sc.transform(X_test_selected)"
   ]
  },
  {
   "cell_type": "code",
   "execution_count": 93,
   "id": "cd0292bb",
   "metadata": {},
   "outputs": [
    {
     "data": {
      "text/html": [
       "<div>\n",
       "<style scoped>\n",
       "    .dataframe tbody tr th:only-of-type {\n",
       "        vertical-align: middle;\n",
       "    }\n",
       "\n",
       "    .dataframe tbody tr th {\n",
       "        vertical-align: top;\n",
       "    }\n",
       "\n",
       "    .dataframe thead th {\n",
       "        text-align: right;\n",
       "    }\n",
       "</style>\n",
       "<table border=\"1\" class=\"dataframe\">\n",
       "  <thead>\n",
       "    <tr style=\"text-align: right;\">\n",
       "      <th></th>\n",
       "      <th>model</th>\n",
       "      <th>same_var</th>\n",
       "      <th>p_value</th>\n",
       "      <th>are_means_different</th>\n",
       "    </tr>\n",
       "  </thead>\n",
       "  <tbody>\n",
       "    <tr>\n",
       "      <th>0</th>\n",
       "      <td>Logistic Regression</td>\n",
       "      <td>True</td>\n",
       "      <td>1.1831051815337338e-09</td>\n",
       "      <td>True</td>\n",
       "    </tr>\n",
       "    <tr>\n",
       "      <th>1</th>\n",
       "      <td>Tree classification</td>\n",
       "      <td>True</td>\n",
       "      <td>1.7317857693114165e-12</td>\n",
       "      <td>True</td>\n",
       "    </tr>\n",
       "    <tr>\n",
       "      <th>2</th>\n",
       "      <td>Random Forest</td>\n",
       "      <td>True</td>\n",
       "      <td>1.215737364460717e-06</td>\n",
       "      <td>True</td>\n",
       "    </tr>\n",
       "    <tr>\n",
       "      <th>3</th>\n",
       "      <td>AdaBoost</td>\n",
       "      <td>True</td>\n",
       "      <td>1.2881161745010523e-08</td>\n",
       "      <td>True</td>\n",
       "    </tr>\n",
       "    <tr>\n",
       "      <th>4</th>\n",
       "      <td>Gradient Boosting Classifier</td>\n",
       "      <td>True</td>\n",
       "      <td>1.3989573562156877e-08</td>\n",
       "      <td>True</td>\n",
       "    </tr>\n",
       "    <tr>\n",
       "      <th>5</th>\n",
       "      <td>XGB_Classifier</td>\n",
       "      <td>True</td>\n",
       "      <td>1.4449726515124505e-08</td>\n",
       "      <td>True</td>\n",
       "    </tr>\n",
       "    <tr>\n",
       "      <th>6</th>\n",
       "      <td>LightGBM</td>\n",
       "      <td>True</td>\n",
       "      <td>1.4585657397221471e-08</td>\n",
       "      <td>True</td>\n",
       "    </tr>\n",
       "  </tbody>\n",
       "</table>\n",
       "</div>"
      ],
      "text/plain": [
       "                          model same_var                 p_value  \\\n",
       "0           Logistic Regression     True  1.1831051815337338e-09   \n",
       "1           Tree classification     True  1.7317857693114165e-12   \n",
       "2                 Random Forest     True   1.215737364460717e-06   \n",
       "3                      AdaBoost     True  1.2881161745010523e-08   \n",
       "4  Gradient Boosting Classifier     True  1.3989573562156877e-08   \n",
       "5                XGB_Classifier     True  1.4449726515124505e-08   \n",
       "6                      LightGBM     True  1.4585657397221471e-08   \n",
       "\n",
       "  are_means_different  \n",
       "0                True  \n",
       "1                True  \n",
       "2                True  \n",
       "3                True  \n",
       "4                True  \n",
       "5                True  \n",
       "6                True  "
      ]
     },
     "metadata": {},
     "output_type": "display_data"
    }
   ],
   "source": [
    "# randomly stratifying the datasets into 15 splits\n",
    "skf_total = StratifiedKFold(n_splits = 15)\n",
    "skf_selected = StratifiedKFold(n_splits = 15)\n",
    "\n",
    "# deploying the models and gathering results\n",
    "\n",
    "overall_info = []\n",
    "\n",
    "for mdl in list_models:\n",
    "\n",
    "    model = mdl['estimator']\n",
    "\n",
    "    # cross-validation of the model\n",
    "    ## all features\n",
    "    cvtotal_auc = cross_val_score(model, X_train_total, y_train_total, scoring='roc_auc', cv = skf_total, n_jobs=-1)\n",
    "    ## selected features\n",
    "    cvselected_auc = cross_val_score(model, X_train_selected, y_train_selected, scoring='roc_auc', cv = skf_selected, n_jobs=-1)\n",
    "    \n",
    "    # running t-student test\n",
    "    ## FIRST: checking whether variances are the same between samples\n",
    "            ### H0: var1 = var2 or var1/var2 = 0 | H1: var1 != var2 or var1/var2 != 0 ###\n",
    "    _, _, p_value = f_test_two_samples(x = np.array(cvtotal_auc), y = np.array(cvselected_auc))\n",
    "    var_same = p_value > 0.05\n",
    "          \n",
    "    ## FINALLY: running t-test for roc_auc values\n",
    "            ### H0: mu1 = mu2 or mu1 - mu2 = 0 | H1: mu1 != mu2 or mu1 - mu2 != 0 ###\n",
    "    if var_same == True:\n",
    "        _, roc_auc_ttest = sts.ttest_ind(cvtotal_auc, cvselected_auc)\n",
    "    else:\n",
    "        _, roc_auc_ttest = sts.ttest_ind(cvtotal_auc, cvselected_auc, equal_var = False)\n",
    "\n",
    "    ## storage\n",
    "    overall_info.append(np.array([mdl['model_name'], var_same, roc_auc_ttest, roc_auc_ttest < 0.05]))\n",
    "                    \n",
    "# organized display\n",
    "vert_stack = np.vstack(overall_info)\n",
    "stat_results = pd.DataFrame(vert_stack, columns=['model', 'same_var', 'p_value', 'are_means_different'])\n",
    "display(stat_results)"
   ]
  },
  {
   "cell_type": "markdown",
   "id": "bb5c92c9",
   "metadata": {},
   "source": [
    "**Comments:** Every tested model yielded statistically different ROC_AUC values at a 95% confidence interval when all features was used against selected features. Therefore, all features will be used for predictions."
   ]
  },
  {
   "cell_type": "code",
   "execution_count": null,
   "id": "acc0891f",
   "metadata": {},
   "outputs": [],
   "source": []
  },
  {
   "cell_type": "markdown",
   "id": "560f5255",
   "metadata": {
    "id": "PUVH0PL4ksD7"
   },
   "source": [
    "#### Working the selected models"
   ]
  },
  {
   "cell_type": "code",
   "execution_count": 73,
   "id": "29f53623",
   "metadata": {
    "executionInfo": {
     "elapsed": 932,
     "status": "ok",
     "timestamp": 1639433233512,
     "user": {
      "displayName": "Diego Felipe",
      "photoUrl": "https://lh3.googleusercontent.com/a-/AOh14Gh0OKIXgJWrcnWQIssC8wN39DTk9Z2eP49s3J9o=s64",
      "userId": "10648197522699844119"
     },
     "user_tz": 180
    },
    "id": "qD6XomZas1-I"
   },
   "outputs": [],
   "source": [
    "# testing using only the most relevant features (only those with scores above 1000)\n",
    "X = df.drop(columns=['covid_res', 'age_category'])\n",
    "y = df['covid_res']\n",
    "stratify = df['covid_res']\n",
    "# splitting \n",
    "X_train, X_test_val, y_train, y_test_val = train_test_split(X,\n",
    "                                                            y,\n",
    "                                                            test_size=0.5,\n",
    "                                                            random_state=42,\n",
    "                                                            stratify=stratify)\n",
    "X_test, X_validation, y_test, y_validation = train_test_split(X_test_val,\n",
    "                                                              y_test_val,\n",
    "                                                              test_size=0.5,\n",
    "                                                              random_state=42,\n",
    "                                                              stratify=y_test_val)\n",
    "# scaling data\n",
    "sc = StandardScaler()\n",
    "X_train = sc.fit_transform(X_train)\n",
    "X_test = sc.transform(X_test)\n",
    "X_validation = sc.transform(X_validation)"
   ]
  },
  {
   "cell_type": "markdown",
   "id": "8ad7d7bf",
   "metadata": {
    "id": "1ARO9L5jk_kv"
   },
   "source": [
    "##### Logistic regression improvment"
   ]
  },
  {
   "cell_type": "code",
   "execution_count": 29,
   "id": "9d8ce84a",
   "metadata": {
    "colab": {
     "base_uri": "https://localhost:8080/"
    },
    "collapsed": true,
    "executionInfo": {
     "elapsed": 300672,
     "status": "ok",
     "timestamp": 1639414513089,
     "user": {
      "displayName": "Diego Felipe",
      "photoUrl": "https://lh3.googleusercontent.com/a-/AOh14Gh0OKIXgJWrcnWQIssC8wN39DTk9Z2eP49s3J9o=s64",
      "userId": "10648197522699844119"
     },
     "user_tz": 180
    },
    "id": "wkv540ysp82e",
    "outputId": "0c3d068e-4769-4b07-8d8c-5bec94104266"
   },
   "outputs": [
    {
     "name": "stdout",
     "output_type": "stream",
     "text": [
      "{'C': [1.0, 0.1, 0.01, 0.001, 0.0001],\n",
      " 'class_weight': ['balanced', None],\n",
      " 'l1_ratio': [0.0, 0.2, 0.4, 0.6, 0.8, 1.0],\n",
      " 'solver': ['newton-cg', 'lbfgs', 'liblinear', 'sag', 'saga']}\n",
      "Fitting 3 folds for each of 100 candidates, totalling 300 fits\n",
      "Wall time: 4min 27s\n"
     ]
    },
    {
     "data": {
      "text/plain": [
       "RandomizedSearchCV(cv=3, estimator=LogisticRegression(random_state=42),\n",
       "                   n_iter=100, n_jobs=-1,\n",
       "                   param_distributions={'C': [1.0, 0.1, 0.01, 0.001, 0.0001],\n",
       "                                        'class_weight': ['balanced', None],\n",
       "                                        'l1_ratio': [0.0, 0.2, 0.4, 0.6, 0.8,\n",
       "                                                     1.0],\n",
       "                                        'solver': ['newton-cg', 'lbfgs',\n",
       "                                                   'liblinear', 'sag',\n",
       "                                                   'saga']},\n",
       "                   random_state=42, scoring='f1', verbose=2)"
      ]
     },
     "execution_count": 29,
     "metadata": {},
     "output_type": "execute_result"
    }
   ],
   "source": [
    "%%time\n",
    "# parameter grid\n",
    "## penalty\n",
    "l1_ratio = [(x/10) for x in range(0, 11, 2)]\n",
    "\n",
    "## Inverse of regularization strength\n",
    "C = [1.0, 0.1, 0.01, 0.001, 0.0001]\n",
    "\n",
    "## solver\n",
    "solver = ['newton-cg', 'lbfgs', 'liblinear', 'sag', 'saga']\n",
    "\n",
    "## class weight\n",
    "class_weight = ['balanced', None]\n",
    "\n",
    "## creating a random grid\n",
    "param_distributions = {\"l1_ratio\":l1_ratio,\n",
    "                       'C': C,\n",
    "                       'solver':solver,\n",
    "                       'class_weight':class_weight}\n",
    "\n",
    "## model\n",
    "model = LogisticRegression(random_state=42)\n",
    "\n",
    "## display\n",
    "pprint(param_distributions)\n",
    "\n",
    "## setting rendomized search\n",
    "random_search = RandomizedSearchCV(estimator=model,\n",
    "                                   param_distributions=param_distributions,\n",
    "                                   scoring='f1',\n",
    "                                   n_iter = 100, \n",
    "                                   cv = 3, \n",
    "                                   verbose=2,\n",
    "                                   n_jobs = -1,\n",
    "                                   random_state=42)\n",
    "\n",
    "# testing\n",
    "random_search.fit(X_train, y_train)"
   ]
  },
  {
   "cell_type": "code",
   "execution_count": 30,
   "id": "7b7d1447",
   "metadata": {
    "collapsed": true
   },
   "outputs": [
    {
     "data": {
      "text/html": [
       "<div>\n",
       "<style scoped>\n",
       "    .dataframe tbody tr th:only-of-type {\n",
       "        vertical-align: middle;\n",
       "    }\n",
       "\n",
       "    .dataframe tbody tr th {\n",
       "        vertical-align: top;\n",
       "    }\n",
       "\n",
       "    .dataframe thead th {\n",
       "        text-align: right;\n",
       "    }\n",
       "</style>\n",
       "<table border=\"1\" class=\"dataframe\">\n",
       "  <thead>\n",
       "    <tr style=\"text-align: right;\">\n",
       "      <th></th>\n",
       "      <th>mean_fit_time</th>\n",
       "      <th>std_fit_time</th>\n",
       "      <th>mean_score_time</th>\n",
       "      <th>std_score_time</th>\n",
       "      <th>param_solver</th>\n",
       "      <th>param_l1_ratio</th>\n",
       "      <th>param_class_weight</th>\n",
       "      <th>param_C</th>\n",
       "      <th>params</th>\n",
       "      <th>split0_test_score</th>\n",
       "      <th>split1_test_score</th>\n",
       "      <th>split2_test_score</th>\n",
       "      <th>mean_test_score</th>\n",
       "      <th>std_test_score</th>\n",
       "      <th>rank_test_score</th>\n",
       "    </tr>\n",
       "  </thead>\n",
       "  <tbody>\n",
       "    <tr>\n",
       "      <th>83</th>\n",
       "      <td>4.375735</td>\n",
       "      <td>0.144138</td>\n",
       "      <td>0.075329</td>\n",
       "      <td>0.004188</td>\n",
       "      <td>saga</td>\n",
       "      <td>0.0</td>\n",
       "      <td>balanced</td>\n",
       "      <td>0.01</td>\n",
       "      <td>{'solver': 'saga', 'l1_ratio': 0.0, 'class_wei...</td>\n",
       "      <td>0.529691</td>\n",
       "      <td>0.531837</td>\n",
       "      <td>0.532309</td>\n",
       "      <td>0.531279</td>\n",
       "      <td>0.001139</td>\n",
       "      <td>1</td>\n",
       "    </tr>\n",
       "    <tr>\n",
       "      <th>97</th>\n",
       "      <td>1.182928</td>\n",
       "      <td>0.035953</td>\n",
       "      <td>0.081662</td>\n",
       "      <td>0.013669</td>\n",
       "      <td>liblinear</td>\n",
       "      <td>1.0</td>\n",
       "      <td>balanced</td>\n",
       "      <td>0.01</td>\n",
       "      <td>{'solver': 'liblinear', 'l1_ratio': 1.0, 'clas...</td>\n",
       "      <td>0.529691</td>\n",
       "      <td>0.531837</td>\n",
       "      <td>0.532309</td>\n",
       "      <td>0.531279</td>\n",
       "      <td>0.001139</td>\n",
       "      <td>1</td>\n",
       "    </tr>\n",
       "    <tr>\n",
       "      <th>18</th>\n",
       "      <td>4.717719</td>\n",
       "      <td>0.167156</td>\n",
       "      <td>0.092995</td>\n",
       "      <td>0.010802</td>\n",
       "      <td>sag</td>\n",
       "      <td>1.0</td>\n",
       "      <td>balanced</td>\n",
       "      <td>0.01</td>\n",
       "      <td>{'solver': 'sag', 'l1_ratio': 1.0, 'class_weig...</td>\n",
       "      <td>0.529691</td>\n",
       "      <td>0.531837</td>\n",
       "      <td>0.532309</td>\n",
       "      <td>0.531279</td>\n",
       "      <td>0.001139</td>\n",
       "      <td>1</td>\n",
       "    </tr>\n",
       "    <tr>\n",
       "      <th>71</th>\n",
       "      <td>0.779284</td>\n",
       "      <td>0.026449</td>\n",
       "      <td>0.079662</td>\n",
       "      <td>0.000943</td>\n",
       "      <td>lbfgs</td>\n",
       "      <td>0.2</td>\n",
       "      <td>balanced</td>\n",
       "      <td>0.01</td>\n",
       "      <td>{'solver': 'lbfgs', 'l1_ratio': 0.2, 'class_we...</td>\n",
       "      <td>0.529691</td>\n",
       "      <td>0.531837</td>\n",
       "      <td>0.532309</td>\n",
       "      <td>0.531279</td>\n",
       "      <td>0.001139</td>\n",
       "      <td>1</td>\n",
       "    </tr>\n",
       "    <tr>\n",
       "      <th>74</th>\n",
       "      <td>4.710384</td>\n",
       "      <td>0.074083</td>\n",
       "      <td>0.092665</td>\n",
       "      <td>0.006649</td>\n",
       "      <td>saga</td>\n",
       "      <td>0.2</td>\n",
       "      <td>balanced</td>\n",
       "      <td>0.01</td>\n",
       "      <td>{'solver': 'saga', 'l1_ratio': 0.2, 'class_wei...</td>\n",
       "      <td>0.529691</td>\n",
       "      <td>0.531837</td>\n",
       "      <td>0.532309</td>\n",
       "      <td>0.531279</td>\n",
       "      <td>0.001139</td>\n",
       "      <td>1</td>\n",
       "    </tr>\n",
       "  </tbody>\n",
       "</table>\n",
       "</div>"
      ],
      "text/plain": [
       "    mean_fit_time  std_fit_time  mean_score_time  std_score_time param_solver  \\\n",
       "83       4.375735      0.144138         0.075329        0.004188         saga   \n",
       "97       1.182928      0.035953         0.081662        0.013669    liblinear   \n",
       "18       4.717719      0.167156         0.092995        0.010802          sag   \n",
       "71       0.779284      0.026449         0.079662        0.000943        lbfgs   \n",
       "74       4.710384      0.074083         0.092665        0.006649         saga   \n",
       "\n",
       "   param_l1_ratio param_class_weight param_C  \\\n",
       "83            0.0           balanced    0.01   \n",
       "97            1.0           balanced    0.01   \n",
       "18            1.0           balanced    0.01   \n",
       "71            0.2           balanced    0.01   \n",
       "74            0.2           balanced    0.01   \n",
       "\n",
       "                                               params  split0_test_score  \\\n",
       "83  {'solver': 'saga', 'l1_ratio': 0.0, 'class_wei...           0.529691   \n",
       "97  {'solver': 'liblinear', 'l1_ratio': 1.0, 'clas...           0.529691   \n",
       "18  {'solver': 'sag', 'l1_ratio': 1.0, 'class_weig...           0.529691   \n",
       "71  {'solver': 'lbfgs', 'l1_ratio': 0.2, 'class_we...           0.529691   \n",
       "74  {'solver': 'saga', 'l1_ratio': 0.2, 'class_wei...           0.529691   \n",
       "\n",
       "    split1_test_score  split2_test_score  mean_test_score  std_test_score  \\\n",
       "83           0.531837           0.532309         0.531279        0.001139   \n",
       "97           0.531837           0.532309         0.531279        0.001139   \n",
       "18           0.531837           0.532309         0.531279        0.001139   \n",
       "71           0.531837           0.532309         0.531279        0.001139   \n",
       "74           0.531837           0.532309         0.531279        0.001139   \n",
       "\n",
       "    rank_test_score  \n",
       "83                1  \n",
       "97                1  \n",
       "18                1  \n",
       "71                1  \n",
       "74                1  "
      ]
     },
     "execution_count": 30,
     "metadata": {},
     "output_type": "execute_result"
    }
   ],
   "source": [
    "# summary table with results sorted from the best ranked parameters\n",
    "table_results = pd.DataFrame(random_search.cv_results_)\n",
    "table_results_sorted = table_results.sort_values(by='rank_test_score')\n",
    "table_results_sorted.head()"
   ]
  },
  {
   "cell_type": "code",
   "execution_count": 32,
   "id": "b98c7f4a",
   "metadata": {
    "colab": {
     "base_uri": "https://localhost:8080/"
    },
    "executionInfo": {
     "elapsed": 475,
     "status": "ok",
     "timestamp": 1639414524080,
     "user": {
      "displayName": "Diego Felipe",
      "photoUrl": "https://lh3.googleusercontent.com/a-/AOh14Gh0OKIXgJWrcnWQIssC8wN39DTk9Z2eP49s3J9o=s64",
      "userId": "10648197522699844119"
     },
     "user_tz": 180
    },
    "id": "56P0nDkKqD5A",
    "outputId": "ffbac6f0-f6b7-4dea-c147-0573911df6e8"
   },
   "outputs": [
    {
     "name": "stdout",
     "output_type": "stream",
     "text": [
      "Mean_F1_score:  0.49\n",
      "Best parameters:  {'solver': 'sag', 'l1_ratio': 1.0, 'class_weight': 'balanced', 'C': 0.01}\n"
     ]
    }
   ],
   "source": [
    "# mean scoring value\n",
    "f1_score_random = random_search.cv_results_['mean_test_score']\n",
    "mean_f1_score_random = f1_score_random[~np.isnan(f1_score_random)].mean()\n",
    "print(\"Mean_F1_score: \", np.around(mean_f1_score_random, 2))\n",
    "best_param_random = random_search.best_params_\n",
    "print(\"Best parameters: \", best_param_random)"
   ]
  },
  {
   "cell_type": "code",
   "execution_count": 124,
   "id": "43628e8c",
   "metadata": {
    "colab": {
     "base_uri": "https://localhost:8080/",
     "height": 1000
    },
    "executionInfo": {
     "elapsed": 5034,
     "status": "ok",
     "timestamp": 1639414547113,
     "user": {
      "displayName": "Diego Felipe",
      "photoUrl": "https://lh3.googleusercontent.com/a-/AOh14Gh0OKIXgJWrcnWQIssC8wN39DTk9Z2eP49s3J9o=s64",
      "userId": "10648197522699844119"
     },
     "user_tz": 180
    },
    "id": "TtJZknItYZkY",
    "outputId": "882e4942-5b65-47ae-cb2a-3c70326f436b",
    "scrolled": true
   },
   "outputs": [
    {
     "name": "stdout",
     "output_type": "stream",
     "text": [
      "0.02 0.04 0.06 0.08 0.1 0.12 0.14 0.16 0.18 0.2 0.22 0.24 0.26 0.28 0.3 0.32 0.34 0.36 0.38 0.4 0.42 0.44 0.46 0.48 0.5 0.52 0.54 0.56 0.58 0.6 0.62 0.64 0.66 0.68 0.7 0.72 0.74 0.76 0.78 0.8 0.82 0.84 0.86 0.88 0.9 0.92 0.94 0.96 0.98 1.0 "
     ]
    }
   ],
   "source": [
    "# deploying model\n",
    "model = LogisticRegression(solver='sag',\n",
    "                           l1_ratio=1.0,\n",
    "                           class_weight='balanced',\n",
    "                           C=0.01,\n",
    "                           random_state=42)\n",
    "model.fit(X_train, y_train)\n",
    "# working out prediction\n",
    "y_proba = model.predict_proba(X_test)[:, 1]\n",
    "results_test = pd.DataFrame(zip(y_test, np.around(y_proba, 3)), columns=['target', 'proba'])\n",
    "df_results = best_classification_split_score(results_test, threshold_increment=0.02,colum_probabilities='proba')"
   ]
  },
  {
   "cell_type": "code",
   "execution_count": 41,
   "id": "21834105",
   "metadata": {
    "collapsed": true
   },
   "outputs": [
    {
     "data": {
      "text/html": [
       "<div>\n",
       "<style scoped>\n",
       "    .dataframe tbody tr th:only-of-type {\n",
       "        vertical-align: middle;\n",
       "    }\n",
       "\n",
       "    .dataframe tbody tr th {\n",
       "        vertical-align: top;\n",
       "    }\n",
       "\n",
       "    .dataframe thead th {\n",
       "        text-align: right;\n",
       "    }\n",
       "</style>\n",
       "<table border=\"1\" class=\"dataframe\">\n",
       "  <thead>\n",
       "    <tr style=\"text-align: right;\">\n",
       "      <th></th>\n",
       "      <th>threshold</th>\n",
       "      <th>TN</th>\n",
       "      <th>FN</th>\n",
       "      <th>FP</th>\n",
       "      <th>TP</th>\n",
       "      <th>precision</th>\n",
       "      <th>recall</th>\n",
       "      <th>accuracy</th>\n",
       "      <th>f0_score</th>\n",
       "      <th>f1_score</th>\n",
       "    </tr>\n",
       "  </thead>\n",
       "  <tbody>\n",
       "    <tr>\n",
       "      <th>15</th>\n",
       "      <td>0.32</td>\n",
       "      <td>2365</td>\n",
       "      <td>891</td>\n",
       "      <td>66982</td>\n",
       "      <td>53835</td>\n",
       "      <td>0.4456</td>\n",
       "      <td>0.9837</td>\n",
       "      <td>0.4530</td>\n",
       "      <td>0.0651</td>\n",
       "      <td>0.6134</td>\n",
       "    </tr>\n",
       "    <tr>\n",
       "      <th>14</th>\n",
       "      <td>0.30</td>\n",
       "      <td>1096</td>\n",
       "      <td>403</td>\n",
       "      <td>68251</td>\n",
       "      <td>54323</td>\n",
       "      <td>0.4432</td>\n",
       "      <td>0.9926</td>\n",
       "      <td>0.4467</td>\n",
       "      <td>0.0309</td>\n",
       "      <td>0.6128</td>\n",
       "    </tr>\n",
       "    <tr>\n",
       "      <th>13</th>\n",
       "      <td>0.28</td>\n",
       "      <td>425</td>\n",
       "      <td>150</td>\n",
       "      <td>68922</td>\n",
       "      <td>54576</td>\n",
       "      <td>0.4419</td>\n",
       "      <td>0.9973</td>\n",
       "      <td>0.4433</td>\n",
       "      <td>0.0122</td>\n",
       "      <td>0.6124</td>\n",
       "    </tr>\n",
       "    <tr>\n",
       "      <th>12</th>\n",
       "      <td>0.26</td>\n",
       "      <td>229</td>\n",
       "      <td>84</td>\n",
       "      <td>69118</td>\n",
       "      <td>54642</td>\n",
       "      <td>0.4415</td>\n",
       "      <td>0.9985</td>\n",
       "      <td>0.4422</td>\n",
       "      <td>0.0066</td>\n",
       "      <td>0.6123</td>\n",
       "    </tr>\n",
       "    <tr>\n",
       "      <th>0</th>\n",
       "      <td>0.02</td>\n",
       "      <td>0</td>\n",
       "      <td>0</td>\n",
       "      <td>69347</td>\n",
       "      <td>54726</td>\n",
       "      <td>0.4411</td>\n",
       "      <td>1.0000</td>\n",
       "      <td>0.4411</td>\n",
       "      <td>0.0000</td>\n",
       "      <td>0.6122</td>\n",
       "    </tr>\n",
       "    <tr>\n",
       "      <th>1</th>\n",
       "      <td>0.04</td>\n",
       "      <td>0</td>\n",
       "      <td>0</td>\n",
       "      <td>69347</td>\n",
       "      <td>54726</td>\n",
       "      <td>0.4411</td>\n",
       "      <td>1.0000</td>\n",
       "      <td>0.4411</td>\n",
       "      <td>0.0000</td>\n",
       "      <td>0.6122</td>\n",
       "    </tr>\n",
       "    <tr>\n",
       "      <th>2</th>\n",
       "      <td>0.06</td>\n",
       "      <td>0</td>\n",
       "      <td>0</td>\n",
       "      <td>69347</td>\n",
       "      <td>54726</td>\n",
       "      <td>0.4411</td>\n",
       "      <td>1.0000</td>\n",
       "      <td>0.4411</td>\n",
       "      <td>0.0000</td>\n",
       "      <td>0.6122</td>\n",
       "    </tr>\n",
       "    <tr>\n",
       "      <th>3</th>\n",
       "      <td>0.08</td>\n",
       "      <td>1</td>\n",
       "      <td>0</td>\n",
       "      <td>69346</td>\n",
       "      <td>54726</td>\n",
       "      <td>0.4411</td>\n",
       "      <td>1.0000</td>\n",
       "      <td>0.4411</td>\n",
       "      <td>0.0000</td>\n",
       "      <td>0.6122</td>\n",
       "    </tr>\n",
       "    <tr>\n",
       "      <th>5</th>\n",
       "      <td>0.12</td>\n",
       "      <td>9</td>\n",
       "      <td>3</td>\n",
       "      <td>69338</td>\n",
       "      <td>54723</td>\n",
       "      <td>0.4411</td>\n",
       "      <td>0.9999</td>\n",
       "      <td>0.4411</td>\n",
       "      <td>0.0003</td>\n",
       "      <td>0.6122</td>\n",
       "    </tr>\n",
       "    <tr>\n",
       "      <th>8</th>\n",
       "      <td>0.18</td>\n",
       "      <td>21</td>\n",
       "      <td>9</td>\n",
       "      <td>69326</td>\n",
       "      <td>54717</td>\n",
       "      <td>0.4411</td>\n",
       "      <td>0.9998</td>\n",
       "      <td>0.4412</td>\n",
       "      <td>0.0006</td>\n",
       "      <td>0.6122</td>\n",
       "    </tr>\n",
       "    <tr>\n",
       "      <th>9</th>\n",
       "      <td>0.20</td>\n",
       "      <td>37</td>\n",
       "      <td>16</td>\n",
       "      <td>69310</td>\n",
       "      <td>54710</td>\n",
       "      <td>0.4411</td>\n",
       "      <td>0.9997</td>\n",
       "      <td>0.4412</td>\n",
       "      <td>0.0011</td>\n",
       "      <td>0.6122</td>\n",
       "    </tr>\n",
       "    <tr>\n",
       "      <th>10</th>\n",
       "      <td>0.22</td>\n",
       "      <td>68</td>\n",
       "      <td>30</td>\n",
       "      <td>69279</td>\n",
       "      <td>54696</td>\n",
       "      <td>0.4412</td>\n",
       "      <td>0.9995</td>\n",
       "      <td>0.4414</td>\n",
       "      <td>0.0020</td>\n",
       "      <td>0.6122</td>\n",
       "    </tr>\n",
       "    <tr>\n",
       "      <th>11</th>\n",
       "      <td>0.24</td>\n",
       "      <td>112</td>\n",
       "      <td>48</td>\n",
       "      <td>69235</td>\n",
       "      <td>54678</td>\n",
       "      <td>0.4413</td>\n",
       "      <td>0.9991</td>\n",
       "      <td>0.4416</td>\n",
       "      <td>0.0032</td>\n",
       "      <td>0.6122</td>\n",
       "    </tr>\n",
       "    <tr>\n",
       "      <th>4</th>\n",
       "      <td>0.10</td>\n",
       "      <td>1</td>\n",
       "      <td>2</td>\n",
       "      <td>69346</td>\n",
       "      <td>54724</td>\n",
       "      <td>0.4411</td>\n",
       "      <td>1.0000</td>\n",
       "      <td>0.4411</td>\n",
       "      <td>0.0000</td>\n",
       "      <td>0.6121</td>\n",
       "    </tr>\n",
       "    <tr>\n",
       "      <th>6</th>\n",
       "      <td>0.14</td>\n",
       "      <td>10</td>\n",
       "      <td>5</td>\n",
       "      <td>69337</td>\n",
       "      <td>54721</td>\n",
       "      <td>0.4411</td>\n",
       "      <td>0.9999</td>\n",
       "      <td>0.4411</td>\n",
       "      <td>0.0003</td>\n",
       "      <td>0.6121</td>\n",
       "    </tr>\n",
       "    <tr>\n",
       "      <th>7</th>\n",
       "      <td>0.16</td>\n",
       "      <td>12</td>\n",
       "      <td>6</td>\n",
       "      <td>69335</td>\n",
       "      <td>54720</td>\n",
       "      <td>0.4411</td>\n",
       "      <td>0.9999</td>\n",
       "      <td>0.4411</td>\n",
       "      <td>0.0003</td>\n",
       "      <td>0.6121</td>\n",
       "    </tr>\n",
       "  </tbody>\n",
       "</table>\n",
       "</div>"
      ],
      "text/plain": [
       "    threshold    TN   FN     FP     TP  precision  recall  accuracy  f0_score  \\\n",
       "15       0.32  2365  891  66982  53835     0.4456  0.9837    0.4530    0.0651   \n",
       "14       0.30  1096  403  68251  54323     0.4432  0.9926    0.4467    0.0309   \n",
       "13       0.28   425  150  68922  54576     0.4419  0.9973    0.4433    0.0122   \n",
       "12       0.26   229   84  69118  54642     0.4415  0.9985    0.4422    0.0066   \n",
       "0        0.02     0    0  69347  54726     0.4411  1.0000    0.4411    0.0000   \n",
       "1        0.04     0    0  69347  54726     0.4411  1.0000    0.4411    0.0000   \n",
       "2        0.06     0    0  69347  54726     0.4411  1.0000    0.4411    0.0000   \n",
       "3        0.08     1    0  69346  54726     0.4411  1.0000    0.4411    0.0000   \n",
       "5        0.12     9    3  69338  54723     0.4411  0.9999    0.4411    0.0003   \n",
       "8        0.18    21    9  69326  54717     0.4411  0.9998    0.4412    0.0006   \n",
       "9        0.20    37   16  69310  54710     0.4411  0.9997    0.4412    0.0011   \n",
       "10       0.22    68   30  69279  54696     0.4412  0.9995    0.4414    0.0020   \n",
       "11       0.24   112   48  69235  54678     0.4413  0.9991    0.4416    0.0032   \n",
       "4        0.10     1    2  69346  54724     0.4411  1.0000    0.4411    0.0000   \n",
       "6        0.14    10    5  69337  54721     0.4411  0.9999    0.4411    0.0003   \n",
       "7        0.16    12    6  69335  54720     0.4411  0.9999    0.4411    0.0003   \n",
       "\n",
       "    f1_score  \n",
       "15    0.6134  \n",
       "14    0.6128  \n",
       "13    0.6124  \n",
       "12    0.6123  \n",
       "0     0.6122  \n",
       "1     0.6122  \n",
       "2     0.6122  \n",
       "3     0.6122  \n",
       "5     0.6122  \n",
       "8     0.6122  \n",
       "9     0.6122  \n",
       "10    0.6122  \n",
       "11    0.6122  \n",
       "4     0.6121  \n",
       "6     0.6121  \n",
       "7     0.6121  "
      ]
     },
     "execution_count": 41,
     "metadata": {},
     "output_type": "execute_result"
    }
   ],
   "source": [
    "# organizing values where recall >= 0.98 and with the best f1-score\n",
    "df_results[df_results['recall'] >= 0.98].sort_values(by=['f1_score'], ascending=False)"
   ]
  },
  {
   "cell_type": "markdown",
   "id": "a5f098d2",
   "metadata": {},
   "source": [
    "**Comments:** The best f1_score is achieved when the threshold equals 0.32"
   ]
  },
  {
   "cell_type": "code",
   "execution_count": 42,
   "id": "5f549603",
   "metadata": {
    "colab": {
     "base_uri": "https://localhost:8080/",
     "height": 404
    },
    "collapsed": true,
    "executionInfo": {
     "elapsed": 445,
     "status": "ok",
     "timestamp": 1639414616343,
     "user": {
      "displayName": "Diego Felipe",
      "photoUrl": "https://lh3.googleusercontent.com/a-/AOh14Gh0OKIXgJWrcnWQIssC8wN39DTk9Z2eP49s3J9o=s64",
      "userId": "10648197522699844119"
     },
     "user_tz": 180
    },
    "id": "0WAWLyc4lLL2",
    "outputId": "1db32f21-de11-4efb-a801-93f119cf183f"
   },
   "outputs": [
    {
     "data": {
      "image/png": "[encoded data removed]",
      "text/plain": [
       "<Figure size 576x432 with 1 Axes>"
      ]
     },
     "metadata": {
      "needs_background": "light"
     },
     "output_type": "display_data"
    }
   ],
   "source": [
    "# Curva F1-Score\n",
    "\n",
    "# Cria o plot\n",
    "grap = df_results[df_results[\"threshold\"] > 0.0].plot(kind=\"scatter\", \n",
    "                                                         x=\"threshold\", \n",
    "                                                         y=\"f1_score\", \n",
    "                                                         grid=False, \n",
    "                                                         legend=True, \n",
    "                                                         title=\"F1-Score\",\n",
    "                                                         figsize=[8,6])\n",
    "# Configurações do gráfico\n",
    "grap.set(xlabel=\"Threshold\", \n",
    "            ylabel=\"F1 Score\", \n",
    "            xlim=(0.0,1.02), \n",
    "            ylim=(0.0,1.0))\n",
    "\n",
    "# mostra o gráfico\n",
    "plt.show()"
   ]
  },
  {
   "cell_type": "code",
   "execution_count": 125,
   "id": "0621cb3a",
   "metadata": {
    "colab": {
     "base_uri": "https://localhost:8080/",
     "height": 906
    },
    "executionInfo": {
     "elapsed": 1031,
     "status": "ok",
     "timestamp": 1639414660180,
     "user": {
      "displayName": "Diego Felipe",
      "photoUrl": "https://lh3.googleusercontent.com/a-/AOh14Gh0OKIXgJWrcnWQIssC8wN39DTk9Z2eP49s3J9o=s64",
      "userId": "10648197522699844119"
     },
     "user_tz": 180
    },
    "id": "q90YtDqIYZEP",
    "outputId": "aa99c456-bd98-4e0c-e0be-a0159c93d206",
    "scrolled": true
   },
   "outputs": [
    {
     "name": "stdout",
     "output_type": "stream",
     "text": [
      "Class report test\n",
      "               precision    recall  f1-score   support\n",
      "\n",
      "           0       0.73      0.03      0.07    124825\n",
      "           1       0.45      0.98      0.61     98506\n",
      "\n",
      "    accuracy                           0.45    223331\n",
      "   macro avg       0.59      0.51      0.34    223331\n",
      "weighted avg       0.60      0.45      0.31    223331\n",
      "\n"
     ]
    },
    {
     "data": {
      "image/png": "[encoded data removed]",
      "text/plain": [
       "<Figure size 432x288 with 1 Axes>"
      ]
     },
     "metadata": {
      "needs_background": "light"
     },
     "output_type": "display_data"
    },
    {
     "name": "stdout",
     "output_type": "stream",
     "text": [
      "\n",
      " Class report validation\n",
      "               precision    recall  f1-score   support\n",
      "\n",
      "           0       0.57      0.03      0.05    124825\n",
      "           1       0.44      0.97      0.61     98506\n",
      "\n",
      "    accuracy                           0.44    223331\n",
      "   macro avg       0.50      0.50      0.33    223331\n",
      "weighted avg       0.51      0.44      0.30    223331\n",
      "\n"
     ]
    },
    {
     "data": {
      "image/png": "[encoded data removed]",
      "text/plain": [
       "<Figure size 432x288 with 1 Axes>"
      ]
     },
     "metadata": {
      "needs_background": "light"
     },
     "output_type": "display_data"
    }
   ],
   "source": [
    "# prediction validation\n",
    "y_proba_val = model.predict_proba(X_validation)[:, 1]\n",
    "# Cria a resposta com o novo threshold\n",
    "y_pred_test = np.where(y_proba >= 0.32, 1, 0)\n",
    "y_pred_val = np.where(y_proba_val >= 0.32, 1, 0)\n",
    "\n",
    "# metrics\n",
    "cr_test, cm_test = classification_report(y_test, y_pred_test), confusion_matrix(y_test, y_pred_test)\n",
    "cr_val, cm_val = classification_report(y_test, y_pred_val), confusion_matrix(y_test, y_pred_val)\n",
    "print('Class report test\\n',cr_test)\n",
    "plot_confusion_matrix(cm_test)\n",
    "plt.show()\n",
    "\n",
    "print('\\n', 'Class report validation\\n', cr_val)\n",
    "plot_confusion_matrix(cm_val)\n",
    "\n",
    "plt.show()"
   ]
  },
  {
   "cell_type": "markdown",
   "id": "ab45ff72",
   "metadata": {},
   "source": [
    "**Comments:** Using threshold of 0.32 it's possible to increase recall (find the true positives in the sample) to 0.97."
   ]
  },
  {
   "cell_type": "code",
   "execution_count": null,
   "id": "9523f3be",
   "metadata": {},
   "outputs": [],
   "source": []
  },
  {
   "cell_type": "markdown",
   "id": "e6541c25",
   "metadata": {
    "id": "rSV-vMA1vEY7"
   },
   "source": [
    "##### Adaboost Classifier improvement"
   ]
  },
  {
   "cell_type": "code",
   "execution_count": 46,
   "id": "5ee4a677",
   "metadata": {
    "colab": {
     "base_uri": "https://localhost:8080/"
    },
    "collapsed": true,
    "executionInfo": {
     "elapsed": 2047889,
     "status": "ok",
     "timestamp": 1639419001578,
     "user": {
      "displayName": "Diego Felipe",
      "photoUrl": "https://lh3.googleusercontent.com/a-/AOh14Gh0OKIXgJWrcnWQIssC8wN39DTk9Z2eP49s3J9o=s64",
      "userId": "10648197522699844119"
     },
     "user_tz": 180
    },
    "id": "05cbef98",
    "outputId": "685e42d5-b0e3-4031-b3da-a0132b0b33d0"
   },
   "outputs": [
    {
     "name": "stdout",
     "output_type": "stream",
     "text": [
      "{'learning_rate': [0.01, 0.1, 1, 10], 'n_estimators': [50, 250, 500]}\n",
      "Fitting 5 folds for each of 12 candidates, totalling 60 fits\n",
      "Wall time: 43min 49s\n"
     ]
    },
    {
     "data": {
      "text/plain": [
       "RandomizedSearchCV(cv=StratifiedKFold(n_splits=5, random_state=7, shuffle=True),\n",
       "                   estimator=AdaBoostClassifier(random_state=42), n_iter=100,\n",
       "                   n_jobs=-1,\n",
       "                   param_distributions={'learning_rate': [0.01, 0.1, 1, 10],\n",
       "                                        'n_estimators': [50, 250, 500]},\n",
       "                   random_state=42, scoring='f1', verbose=5)"
      ]
     },
     "execution_count": 46,
     "metadata": {},
     "output_type": "execute_result"
    }
   ],
   "source": [
    "%%time\n",
    "# parameter grid\n",
    "## n_estimators \n",
    "n_estimators = [50, 250, 500]\n",
    "\n",
    "## learning_rate\n",
    "learning_rate = [0.01, 0.1, 1, 10]\n",
    "\n",
    "## creating a random grid\n",
    "param_distributions = {\"n_estimators\":n_estimators,\n",
    "                       'learning_rate': learning_rate}\n",
    "\n",
    "## model\n",
    "model = AdaBoostClassifier(random_state=42)\n",
    "\n",
    "## display\n",
    "pprint(param_distributions)\n",
    "\n",
    "## setting the randomized search\n",
    "kfold = StratifiedKFold(n_splits=5, shuffle=True, random_state=7)\n",
    "random_search = RandomizedSearchCV(estimator=model,\n",
    "                                   param_distributions=param_distributions,\n",
    "                                   scoring='f1',\n",
    "                                   n_iter = 100, \n",
    "                                   cv = kfold, \n",
    "                                   verbose=5,\n",
    "                                   n_jobs = -1,\n",
    "                                   random_state=42)\n",
    "\n",
    "# running test\n",
    "random_search.fit(X_train, y_train)"
   ]
  },
  {
   "cell_type": "code",
   "execution_count": 47,
   "id": "1a285e00",
   "metadata": {
    "scrolled": true
   },
   "outputs": [
    {
     "data": {
      "text/html": [
       "<div>\n",
       "<style scoped>\n",
       "    .dataframe tbody tr th:only-of-type {\n",
       "        vertical-align: middle;\n",
       "    }\n",
       "\n",
       "    .dataframe tbody tr th {\n",
       "        vertical-align: top;\n",
       "    }\n",
       "\n",
       "    .dataframe thead th {\n",
       "        text-align: right;\n",
       "    }\n",
       "</style>\n",
       "<table border=\"1\" class=\"dataframe\">\n",
       "  <thead>\n",
       "    <tr style=\"text-align: right;\">\n",
       "      <th></th>\n",
       "      <th>mean_fit_time</th>\n",
       "      <th>std_fit_time</th>\n",
       "      <th>mean_score_time</th>\n",
       "      <th>std_score_time</th>\n",
       "      <th>param_n_estimators</th>\n",
       "      <th>param_learning_rate</th>\n",
       "      <th>params</th>\n",
       "      <th>split0_test_score</th>\n",
       "      <th>split1_test_score</th>\n",
       "      <th>split2_test_score</th>\n",
       "      <th>split3_test_score</th>\n",
       "      <th>split4_test_score</th>\n",
       "      <th>mean_test_score</th>\n",
       "      <th>std_test_score</th>\n",
       "      <th>rank_test_score</th>\n",
       "    </tr>\n",
       "  </thead>\n",
       "  <tbody>\n",
       "    <tr>\n",
       "      <th>9</th>\n",
       "      <td>30.419539</td>\n",
       "      <td>1.202684</td>\n",
       "      <td>1.612730</td>\n",
       "      <td>0.331287</td>\n",
       "      <td>50</td>\n",
       "      <td>10</td>\n",
       "      <td>{'n_estimators': 50, 'learning_rate': 10}</td>\n",
       "      <td>0.498567</td>\n",
       "      <td>0.498919</td>\n",
       "      <td>0.494946</td>\n",
       "      <td>0.496150</td>\n",
       "      <td>0.497358</td>\n",
       "      <td>0.497188</td>\n",
       "      <td>0.001485</td>\n",
       "      <td>1</td>\n",
       "    </tr>\n",
       "    <tr>\n",
       "      <th>10</th>\n",
       "      <td>166.182810</td>\n",
       "      <td>1.625227</td>\n",
       "      <td>8.541990</td>\n",
       "      <td>0.846387</td>\n",
       "      <td>250</td>\n",
       "      <td>10</td>\n",
       "      <td>{'n_estimators': 250, 'learning_rate': 10}</td>\n",
       "      <td>0.498567</td>\n",
       "      <td>0.498919</td>\n",
       "      <td>0.494946</td>\n",
       "      <td>0.496150</td>\n",
       "      <td>0.497358</td>\n",
       "      <td>0.497188</td>\n",
       "      <td>0.001485</td>\n",
       "      <td>1</td>\n",
       "    </tr>\n",
       "    <tr>\n",
       "      <th>11</th>\n",
       "      <td>287.374756</td>\n",
       "      <td>46.465643</td>\n",
       "      <td>13.565250</td>\n",
       "      <td>3.385606</td>\n",
       "      <td>500</td>\n",
       "      <td>10</td>\n",
       "      <td>{'n_estimators': 500, 'learning_rate': 10}</td>\n",
       "      <td>0.498567</td>\n",
       "      <td>0.498919</td>\n",
       "      <td>0.494946</td>\n",
       "      <td>0.496150</td>\n",
       "      <td>0.497358</td>\n",
       "      <td>0.497188</td>\n",
       "      <td>0.001485</td>\n",
       "      <td>1</td>\n",
       "    </tr>\n",
       "    <tr>\n",
       "      <th>8</th>\n",
       "      <td>325.308727</td>\n",
       "      <td>7.723096</td>\n",
       "      <td>16.054564</td>\n",
       "      <td>1.182458</td>\n",
       "      <td>500</td>\n",
       "      <td>1</td>\n",
       "      <td>{'n_estimators': 500, 'learning_rate': 1}</td>\n",
       "      <td>0.457349</td>\n",
       "      <td>0.462194</td>\n",
       "      <td>0.464429</td>\n",
       "      <td>0.469470</td>\n",
       "      <td>0.466265</td>\n",
       "      <td>0.463942</td>\n",
       "      <td>0.004067</td>\n",
       "      <td>4</td>\n",
       "    </tr>\n",
       "    <tr>\n",
       "      <th>6</th>\n",
       "      <td>30.692976</td>\n",
       "      <td>2.480230</td>\n",
       "      <td>1.651880</td>\n",
       "      <td>0.255289</td>\n",
       "      <td>50</td>\n",
       "      <td>1</td>\n",
       "      <td>{'n_estimators': 50, 'learning_rate': 1}</td>\n",
       "      <td>0.454228</td>\n",
       "      <td>0.463281</td>\n",
       "      <td>0.467137</td>\n",
       "      <td>0.468099</td>\n",
       "      <td>0.464769</td>\n",
       "      <td>0.463503</td>\n",
       "      <td>0.004940</td>\n",
       "      <td>5</td>\n",
       "    </tr>\n",
       "  </tbody>\n",
       "</table>\n",
       "</div>"
      ],
      "text/plain": [
       "    mean_fit_time  std_fit_time  mean_score_time  std_score_time  \\\n",
       "9       30.419539      1.202684         1.612730        0.331287   \n",
       "10     166.182810      1.625227         8.541990        0.846387   \n",
       "11     287.374756     46.465643        13.565250        3.385606   \n",
       "8      325.308727      7.723096        16.054564        1.182458   \n",
       "6       30.692976      2.480230         1.651880        0.255289   \n",
       "\n",
       "   param_n_estimators param_learning_rate  \\\n",
       "9                  50                  10   \n",
       "10                250                  10   \n",
       "11                500                  10   \n",
       "8                 500                   1   \n",
       "6                  50                   1   \n",
       "\n",
       "                                        params  split0_test_score  \\\n",
       "9    {'n_estimators': 50, 'learning_rate': 10}           0.498567   \n",
       "10  {'n_estimators': 250, 'learning_rate': 10}           0.498567   \n",
       "11  {'n_estimators': 500, 'learning_rate': 10}           0.498567   \n",
       "8    {'n_estimators': 500, 'learning_rate': 1}           0.457349   \n",
       "6     {'n_estimators': 50, 'learning_rate': 1}           0.454228   \n",
       "\n",
       "    split1_test_score  split2_test_score  split3_test_score  \\\n",
       "9            0.498919           0.494946           0.496150   \n",
       "10           0.498919           0.494946           0.496150   \n",
       "11           0.498919           0.494946           0.496150   \n",
       "8            0.462194           0.464429           0.469470   \n",
       "6            0.463281           0.467137           0.468099   \n",
       "\n",
       "    split4_test_score  mean_test_score  std_test_score  rank_test_score  \n",
       "9            0.497358         0.497188        0.001485                1  \n",
       "10           0.497358         0.497188        0.001485                1  \n",
       "11           0.497358         0.497188        0.001485                1  \n",
       "8            0.466265         0.463942        0.004067                4  \n",
       "6            0.464769         0.463503        0.004940                5  "
      ]
     },
     "execution_count": 47,
     "metadata": {},
     "output_type": "execute_result"
    }
   ],
   "source": [
    "# summary table with results sorted from the best ranked parameters\n",
    "table_results = pd.DataFrame(random_search.cv_results_)\n",
    "table_results_sorted = table_results.sort_values(by='rank_test_score')\n",
    "table_results_sorted.head()"
   ]
  },
  {
   "cell_type": "code",
   "execution_count": 48,
   "id": "3f778597",
   "metadata": {
    "colab": {
     "base_uri": "https://localhost:8080/"
    },
    "executionInfo": {
     "elapsed": 424,
     "status": "ok",
     "timestamp": 1639419866925,
     "user": {
      "displayName": "Diego Felipe",
      "photoUrl": "https://lh3.googleusercontent.com/a-/AOh14Gh0OKIXgJWrcnWQIssC8wN39DTk9Z2eP49s3J9o=s64",
      "userId": "10648197522699844119"
     },
     "user_tz": 180
    },
    "id": "bWbP992-wIZ3",
    "outputId": "67a02ffb-9a43-4fb4-9fa5-063f18e3a396"
   },
   "outputs": [
    {
     "name": "stdout",
     "output_type": "stream",
     "text": [
      "Mean_F1_score:  0.46\n",
      "Best parameters:  {'n_estimators': 50, 'learning_rate': 10}\n"
     ]
    }
   ],
   "source": [
    "# mean scoring value\n",
    "f1_score_random = random_search.cv_results_['mean_test_score']\n",
    "mean_f1_score_random = f1_score_random[~np.isnan(f1_score_random)].mean()\n",
    "print(\"Mean_F1_score: \", np.around(mean_f1_score_random, 2))\n",
    "best_param_random = random_search.best_params_\n",
    "print(\"Best parameters: \", best_param_random)"
   ]
  },
  {
   "cell_type": "code",
   "execution_count": 122,
   "id": "8d5501a5",
   "metadata": {
    "colab": {
     "base_uri": "https://localhost:8080/",
     "height": 906
    },
    "executionInfo": {
     "elapsed": 11370,
     "status": "ok",
     "timestamp": 1639419902661,
     "user": {
      "displayName": "Diego Felipe",
      "photoUrl": "https://lh3.googleusercontent.com/a-/AOh14Gh0OKIXgJWrcnWQIssC8wN39DTk9Z2eP49s3J9o=s64",
      "userId": "10648197522699844119"
     },
     "user_tz": 180
    },
    "id": "Qjt0-0-awIMB",
    "outputId": "30b9201f-961d-425e-e081-405b60a90082"
   },
   "outputs": [
    {
     "name": "stdout",
     "output_type": "stream",
     "text": [
      "0.02 0.04 0.06 0.08 0.1 0.12 0.14 0.16 0.18 0.2 0.22 0.24 0.26 0.28 0.3 0.32 0.34 0.36 0.38 0.4 0.42 0.44 0.46 0.48 0.5 0.52 0.54 0.56 0.58 0.6 0.62 0.64 0.66 0.68 0.7 0.72 0.74 0.76 0.78 0.8 0.82 0.84 0.86 0.88 0.9 0.92 0.94 0.96 0.98 1.0 "
     ]
    }
   ],
   "source": [
    "# testing parameters\n",
    "#ada = AdaBoostClassifier(n_estimators=250, learning_rate=0.2)\n",
    "model = AdaBoostClassifier(n_estimators=50,\n",
    "                           learning_rate=10,\n",
    "                           random_state=42)\n",
    "model.fit(X_train, y_train)\n",
    "# working out prediction\n",
    "y_proba = model.predict_proba(X_test)[:, 1]\n",
    "results_test = pd.DataFrame(zip(y_test, np.around(y_proba, 3)), columns=['target', 'proba'])\n",
    "df_results = best_classification_split_score(results_test, threshold_increment=0.02,colum_probabilities='proba')"
   ]
  },
  {
   "cell_type": "code",
   "execution_count": 71,
   "id": "3a90d7b6",
   "metadata": {
    "colab": {
     "base_uri": "https://localhost:8080/",
     "height": 906
    },
    "collapsed": true,
    "executionInfo": {
     "elapsed": 11370,
     "status": "ok",
     "timestamp": 1639419902661,
     "user": {
      "displayName": "Diego Felipe",
      "photoUrl": "https://lh3.googleusercontent.com/a-/AOh14Gh0OKIXgJWrcnWQIssC8wN39DTk9Z2eP49s3J9o=s64",
      "userId": "10648197522699844119"
     },
     "user_tz": 180
    },
    "id": "Qjt0-0-awIMB",
    "outputId": "30b9201f-961d-425e-e081-405b60a90082"
   },
   "outputs": [
    {
     "data": {
      "text/html": [
       "<div>\n",
       "<style scoped>\n",
       "    .dataframe tbody tr th:only-of-type {\n",
       "        vertical-align: middle;\n",
       "    }\n",
       "\n",
       "    .dataframe tbody tr th {\n",
       "        vertical-align: top;\n",
       "    }\n",
       "\n",
       "    .dataframe thead th {\n",
       "        text-align: right;\n",
       "    }\n",
       "</style>\n",
       "<table border=\"1\" class=\"dataframe\">\n",
       "  <thead>\n",
       "    <tr style=\"text-align: right;\">\n",
       "      <th></th>\n",
       "      <th>threshold</th>\n",
       "      <th>TN</th>\n",
       "      <th>FN</th>\n",
       "      <th>FP</th>\n",
       "      <th>TP</th>\n",
       "      <th>precision</th>\n",
       "      <th>recall</th>\n",
       "      <th>accuracy</th>\n",
       "      <th>f0_score</th>\n",
       "      <th>f1_score</th>\n",
       "    </tr>\n",
       "  </thead>\n",
       "  <tbody>\n",
       "    <tr>\n",
       "      <th>0</th>\n",
       "      <td>0.02</td>\n",
       "      <td>0</td>\n",
       "      <td>0</td>\n",
       "      <td>69347</td>\n",
       "      <td>54726</td>\n",
       "      <td>0.4411</td>\n",
       "      <td>1.000</td>\n",
       "      <td>0.4411</td>\n",
       "      <td>0.0000</td>\n",
       "      <td>0.6122</td>\n",
       "    </tr>\n",
       "    <tr>\n",
       "      <th>1</th>\n",
       "      <td>0.04</td>\n",
       "      <td>0</td>\n",
       "      <td>0</td>\n",
       "      <td>69347</td>\n",
       "      <td>54726</td>\n",
       "      <td>0.4411</td>\n",
       "      <td>1.000</td>\n",
       "      <td>0.4411</td>\n",
       "      <td>0.0000</td>\n",
       "      <td>0.6122</td>\n",
       "    </tr>\n",
       "    <tr>\n",
       "      <th>2</th>\n",
       "      <td>0.06</td>\n",
       "      <td>0</td>\n",
       "      <td>0</td>\n",
       "      <td>69347</td>\n",
       "      <td>54726</td>\n",
       "      <td>0.4411</td>\n",
       "      <td>1.000</td>\n",
       "      <td>0.4411</td>\n",
       "      <td>0.0000</td>\n",
       "      <td>0.6122</td>\n",
       "    </tr>\n",
       "    <tr>\n",
       "      <th>3</th>\n",
       "      <td>0.08</td>\n",
       "      <td>0</td>\n",
       "      <td>0</td>\n",
       "      <td>69347</td>\n",
       "      <td>54726</td>\n",
       "      <td>0.4411</td>\n",
       "      <td>1.000</td>\n",
       "      <td>0.4411</td>\n",
       "      <td>0.0000</td>\n",
       "      <td>0.6122</td>\n",
       "    </tr>\n",
       "    <tr>\n",
       "      <th>4</th>\n",
       "      <td>0.10</td>\n",
       "      <td>0</td>\n",
       "      <td>0</td>\n",
       "      <td>69347</td>\n",
       "      <td>54726</td>\n",
       "      <td>0.4411</td>\n",
       "      <td>1.000</td>\n",
       "      <td>0.4411</td>\n",
       "      <td>0.0000</td>\n",
       "      <td>0.6122</td>\n",
       "    </tr>\n",
       "    <tr>\n",
       "      <th>5</th>\n",
       "      <td>0.12</td>\n",
       "      <td>0</td>\n",
       "      <td>0</td>\n",
       "      <td>69347</td>\n",
       "      <td>54726</td>\n",
       "      <td>0.4411</td>\n",
       "      <td>1.000</td>\n",
       "      <td>0.4411</td>\n",
       "      <td>0.0000</td>\n",
       "      <td>0.6122</td>\n",
       "    </tr>\n",
       "    <tr>\n",
       "      <th>6</th>\n",
       "      <td>0.14</td>\n",
       "      <td>0</td>\n",
       "      <td>0</td>\n",
       "      <td>69347</td>\n",
       "      <td>54726</td>\n",
       "      <td>0.4411</td>\n",
       "      <td>1.000</td>\n",
       "      <td>0.4411</td>\n",
       "      <td>0.0000</td>\n",
       "      <td>0.6122</td>\n",
       "    </tr>\n",
       "    <tr>\n",
       "      <th>7</th>\n",
       "      <td>0.16</td>\n",
       "      <td>0</td>\n",
       "      <td>0</td>\n",
       "      <td>69347</td>\n",
       "      <td>54726</td>\n",
       "      <td>0.4411</td>\n",
       "      <td>1.000</td>\n",
       "      <td>0.4411</td>\n",
       "      <td>0.0000</td>\n",
       "      <td>0.6122</td>\n",
       "    </tr>\n",
       "    <tr>\n",
       "      <th>8</th>\n",
       "      <td>0.18</td>\n",
       "      <td>0</td>\n",
       "      <td>0</td>\n",
       "      <td>69347</td>\n",
       "      <td>54726</td>\n",
       "      <td>0.4411</td>\n",
       "      <td>1.000</td>\n",
       "      <td>0.4411</td>\n",
       "      <td>0.0000</td>\n",
       "      <td>0.6122</td>\n",
       "    </tr>\n",
       "    <tr>\n",
       "      <th>9</th>\n",
       "      <td>0.20</td>\n",
       "      <td>0</td>\n",
       "      <td>0</td>\n",
       "      <td>69347</td>\n",
       "      <td>54726</td>\n",
       "      <td>0.4411</td>\n",
       "      <td>1.000</td>\n",
       "      <td>0.4411</td>\n",
       "      <td>0.0000</td>\n",
       "      <td>0.6122</td>\n",
       "    </tr>\n",
       "    <tr>\n",
       "      <th>10</th>\n",
       "      <td>0.22</td>\n",
       "      <td>0</td>\n",
       "      <td>0</td>\n",
       "      <td>69347</td>\n",
       "      <td>54726</td>\n",
       "      <td>0.4411</td>\n",
       "      <td>1.000</td>\n",
       "      <td>0.4411</td>\n",
       "      <td>0.0000</td>\n",
       "      <td>0.6122</td>\n",
       "    </tr>\n",
       "    <tr>\n",
       "      <th>11</th>\n",
       "      <td>0.24</td>\n",
       "      <td>0</td>\n",
       "      <td>0</td>\n",
       "      <td>69347</td>\n",
       "      <td>54726</td>\n",
       "      <td>0.4411</td>\n",
       "      <td>1.000</td>\n",
       "      <td>0.4411</td>\n",
       "      <td>0.0000</td>\n",
       "      <td>0.6122</td>\n",
       "    </tr>\n",
       "    <tr>\n",
       "      <th>12</th>\n",
       "      <td>0.26</td>\n",
       "      <td>0</td>\n",
       "      <td>0</td>\n",
       "      <td>69347</td>\n",
       "      <td>54726</td>\n",
       "      <td>0.4411</td>\n",
       "      <td>1.000</td>\n",
       "      <td>0.4411</td>\n",
       "      <td>0.0000</td>\n",
       "      <td>0.6122</td>\n",
       "    </tr>\n",
       "    <tr>\n",
       "      <th>13</th>\n",
       "      <td>0.28</td>\n",
       "      <td>0</td>\n",
       "      <td>0</td>\n",
       "      <td>69347</td>\n",
       "      <td>54726</td>\n",
       "      <td>0.4411</td>\n",
       "      <td>1.000</td>\n",
       "      <td>0.4411</td>\n",
       "      <td>0.0000</td>\n",
       "      <td>0.6122</td>\n",
       "    </tr>\n",
       "    <tr>\n",
       "      <th>14</th>\n",
       "      <td>0.30</td>\n",
       "      <td>0</td>\n",
       "      <td>0</td>\n",
       "      <td>69347</td>\n",
       "      <td>54726</td>\n",
       "      <td>0.4411</td>\n",
       "      <td>1.000</td>\n",
       "      <td>0.4411</td>\n",
       "      <td>0.0000</td>\n",
       "      <td>0.6122</td>\n",
       "    </tr>\n",
       "    <tr>\n",
       "      <th>15</th>\n",
       "      <td>0.32</td>\n",
       "      <td>0</td>\n",
       "      <td>0</td>\n",
       "      <td>69347</td>\n",
       "      <td>54726</td>\n",
       "      <td>0.4411</td>\n",
       "      <td>1.000</td>\n",
       "      <td>0.4411</td>\n",
       "      <td>0.0000</td>\n",
       "      <td>0.6122</td>\n",
       "    </tr>\n",
       "    <tr>\n",
       "      <th>16</th>\n",
       "      <td>0.34</td>\n",
       "      <td>0</td>\n",
       "      <td>0</td>\n",
       "      <td>69347</td>\n",
       "      <td>54726</td>\n",
       "      <td>0.4411</td>\n",
       "      <td>1.000</td>\n",
       "      <td>0.4411</td>\n",
       "      <td>0.0000</td>\n",
       "      <td>0.6122</td>\n",
       "    </tr>\n",
       "    <tr>\n",
       "      <th>17</th>\n",
       "      <td>0.36</td>\n",
       "      <td>0</td>\n",
       "      <td>0</td>\n",
       "      <td>69347</td>\n",
       "      <td>54726</td>\n",
       "      <td>0.4411</td>\n",
       "      <td>1.000</td>\n",
       "      <td>0.4411</td>\n",
       "      <td>0.0000</td>\n",
       "      <td>0.6122</td>\n",
       "    </tr>\n",
       "    <tr>\n",
       "      <th>18</th>\n",
       "      <td>0.38</td>\n",
       "      <td>0</td>\n",
       "      <td>0</td>\n",
       "      <td>69347</td>\n",
       "      <td>54726</td>\n",
       "      <td>0.4411</td>\n",
       "      <td>1.000</td>\n",
       "      <td>0.4411</td>\n",
       "      <td>0.0000</td>\n",
       "      <td>0.6122</td>\n",
       "    </tr>\n",
       "    <tr>\n",
       "      <th>19</th>\n",
       "      <td>0.40</td>\n",
       "      <td>0</td>\n",
       "      <td>0</td>\n",
       "      <td>69347</td>\n",
       "      <td>54726</td>\n",
       "      <td>0.4411</td>\n",
       "      <td>1.000</td>\n",
       "      <td>0.4411</td>\n",
       "      <td>0.0000</td>\n",
       "      <td>0.6122</td>\n",
       "    </tr>\n",
       "    <tr>\n",
       "      <th>20</th>\n",
       "      <td>0.42</td>\n",
       "      <td>0</td>\n",
       "      <td>0</td>\n",
       "      <td>69347</td>\n",
       "      <td>54726</td>\n",
       "      <td>0.4411</td>\n",
       "      <td>1.000</td>\n",
       "      <td>0.4411</td>\n",
       "      <td>0.0000</td>\n",
       "      <td>0.6122</td>\n",
       "    </tr>\n",
       "    <tr>\n",
       "      <th>21</th>\n",
       "      <td>0.44</td>\n",
       "      <td>0</td>\n",
       "      <td>0</td>\n",
       "      <td>69347</td>\n",
       "      <td>54726</td>\n",
       "      <td>0.4411</td>\n",
       "      <td>1.000</td>\n",
       "      <td>0.4411</td>\n",
       "      <td>0.0000</td>\n",
       "      <td>0.6122</td>\n",
       "    </tr>\n",
       "    <tr>\n",
       "      <th>22</th>\n",
       "      <td>0.46</td>\n",
       "      <td>0</td>\n",
       "      <td>0</td>\n",
       "      <td>69347</td>\n",
       "      <td>54726</td>\n",
       "      <td>0.4411</td>\n",
       "      <td>1.000</td>\n",
       "      <td>0.4411</td>\n",
       "      <td>0.0000</td>\n",
       "      <td>0.6122</td>\n",
       "    </tr>\n",
       "    <tr>\n",
       "      <th>23</th>\n",
       "      <td>0.48</td>\n",
       "      <td>9606</td>\n",
       "      <td>16690</td>\n",
       "      <td>59741</td>\n",
       "      <td>38036</td>\n",
       "      <td>0.3890</td>\n",
       "      <td>0.695</td>\n",
       "      <td>0.3840</td>\n",
       "      <td>0.2009</td>\n",
       "      <td>0.4988</td>\n",
       "    </tr>\n",
       "    <tr>\n",
       "      <th>24</th>\n",
       "      <td>0.50</td>\n",
       "      <td>9606</td>\n",
       "      <td>16690</td>\n",
       "      <td>59741</td>\n",
       "      <td>38036</td>\n",
       "      <td>0.3890</td>\n",
       "      <td>0.695</td>\n",
       "      <td>0.3840</td>\n",
       "      <td>0.2009</td>\n",
       "      <td>0.4988</td>\n",
       "    </tr>\n",
       "    <tr>\n",
       "      <th>25</th>\n",
       "      <td>0.52</td>\n",
       "      <td>69347</td>\n",
       "      <td>54726</td>\n",
       "      <td>0</td>\n",
       "      <td>0</td>\n",
       "      <td>0.0000</td>\n",
       "      <td>0.000</td>\n",
       "      <td>0.5589</td>\n",
       "      <td>0.7171</td>\n",
       "      <td>0.0000</td>\n",
       "    </tr>\n",
       "    <tr>\n",
       "      <th>26</th>\n",
       "      <td>0.54</td>\n",
       "      <td>69347</td>\n",
       "      <td>54726</td>\n",
       "      <td>0</td>\n",
       "      <td>0</td>\n",
       "      <td>0.0000</td>\n",
       "      <td>0.000</td>\n",
       "      <td>0.5589</td>\n",
       "      <td>0.7171</td>\n",
       "      <td>0.0000</td>\n",
       "    </tr>\n",
       "    <tr>\n",
       "      <th>27</th>\n",
       "      <td>0.56</td>\n",
       "      <td>69347</td>\n",
       "      <td>54726</td>\n",
       "      <td>0</td>\n",
       "      <td>0</td>\n",
       "      <td>0.0000</td>\n",
       "      <td>0.000</td>\n",
       "      <td>0.5589</td>\n",
       "      <td>0.7171</td>\n",
       "      <td>0.0000</td>\n",
       "    </tr>\n",
       "    <tr>\n",
       "      <th>28</th>\n",
       "      <td>0.58</td>\n",
       "      <td>69347</td>\n",
       "      <td>54726</td>\n",
       "      <td>0</td>\n",
       "      <td>0</td>\n",
       "      <td>0.0000</td>\n",
       "      <td>0.000</td>\n",
       "      <td>0.5589</td>\n",
       "      <td>0.7171</td>\n",
       "      <td>0.0000</td>\n",
       "    </tr>\n",
       "    <tr>\n",
       "      <th>29</th>\n",
       "      <td>0.60</td>\n",
       "      <td>69347</td>\n",
       "      <td>54726</td>\n",
       "      <td>0</td>\n",
       "      <td>0</td>\n",
       "      <td>0.0000</td>\n",
       "      <td>0.000</td>\n",
       "      <td>0.5589</td>\n",
       "      <td>0.7171</td>\n",
       "      <td>0.0000</td>\n",
       "    </tr>\n",
       "    <tr>\n",
       "      <th>30</th>\n",
       "      <td>0.62</td>\n",
       "      <td>69347</td>\n",
       "      <td>54726</td>\n",
       "      <td>0</td>\n",
       "      <td>0</td>\n",
       "      <td>0.0000</td>\n",
       "      <td>0.000</td>\n",
       "      <td>0.5589</td>\n",
       "      <td>0.7171</td>\n",
       "      <td>0.0000</td>\n",
       "    </tr>\n",
       "    <tr>\n",
       "      <th>31</th>\n",
       "      <td>0.64</td>\n",
       "      <td>69347</td>\n",
       "      <td>54726</td>\n",
       "      <td>0</td>\n",
       "      <td>0</td>\n",
       "      <td>0.0000</td>\n",
       "      <td>0.000</td>\n",
       "      <td>0.5589</td>\n",
       "      <td>0.7171</td>\n",
       "      <td>0.0000</td>\n",
       "    </tr>\n",
       "    <tr>\n",
       "      <th>32</th>\n",
       "      <td>0.66</td>\n",
       "      <td>69347</td>\n",
       "      <td>54726</td>\n",
       "      <td>0</td>\n",
       "      <td>0</td>\n",
       "      <td>0.0000</td>\n",
       "      <td>0.000</td>\n",
       "      <td>0.5589</td>\n",
       "      <td>0.7171</td>\n",
       "      <td>0.0000</td>\n",
       "    </tr>\n",
       "    <tr>\n",
       "      <th>33</th>\n",
       "      <td>0.68</td>\n",
       "      <td>69347</td>\n",
       "      <td>54726</td>\n",
       "      <td>0</td>\n",
       "      <td>0</td>\n",
       "      <td>0.0000</td>\n",
       "      <td>0.000</td>\n",
       "      <td>0.5589</td>\n",
       "      <td>0.7171</td>\n",
       "      <td>0.0000</td>\n",
       "    </tr>\n",
       "    <tr>\n",
       "      <th>34</th>\n",
       "      <td>0.70</td>\n",
       "      <td>69347</td>\n",
       "      <td>54726</td>\n",
       "      <td>0</td>\n",
       "      <td>0</td>\n",
       "      <td>0.0000</td>\n",
       "      <td>0.000</td>\n",
       "      <td>0.5589</td>\n",
       "      <td>0.7171</td>\n",
       "      <td>0.0000</td>\n",
       "    </tr>\n",
       "    <tr>\n",
       "      <th>35</th>\n",
       "      <td>0.72</td>\n",
       "      <td>69347</td>\n",
       "      <td>54726</td>\n",
       "      <td>0</td>\n",
       "      <td>0</td>\n",
       "      <td>0.0000</td>\n",
       "      <td>0.000</td>\n",
       "      <td>0.5589</td>\n",
       "      <td>0.7171</td>\n",
       "      <td>0.0000</td>\n",
       "    </tr>\n",
       "    <tr>\n",
       "      <th>36</th>\n",
       "      <td>0.74</td>\n",
       "      <td>69347</td>\n",
       "      <td>54726</td>\n",
       "      <td>0</td>\n",
       "      <td>0</td>\n",
       "      <td>0.0000</td>\n",
       "      <td>0.000</td>\n",
       "      <td>0.5589</td>\n",
       "      <td>0.7171</td>\n",
       "      <td>0.0000</td>\n",
       "    </tr>\n",
       "    <tr>\n",
       "      <th>37</th>\n",
       "      <td>0.76</td>\n",
       "      <td>69347</td>\n",
       "      <td>54726</td>\n",
       "      <td>0</td>\n",
       "      <td>0</td>\n",
       "      <td>0.0000</td>\n",
       "      <td>0.000</td>\n",
       "      <td>0.5589</td>\n",
       "      <td>0.7171</td>\n",
       "      <td>0.0000</td>\n",
       "    </tr>\n",
       "    <tr>\n",
       "      <th>38</th>\n",
       "      <td>0.78</td>\n",
       "      <td>69347</td>\n",
       "      <td>54726</td>\n",
       "      <td>0</td>\n",
       "      <td>0</td>\n",
       "      <td>0.0000</td>\n",
       "      <td>0.000</td>\n",
       "      <td>0.5589</td>\n",
       "      <td>0.7171</td>\n",
       "      <td>0.0000</td>\n",
       "    </tr>\n",
       "    <tr>\n",
       "      <th>39</th>\n",
       "      <td>0.80</td>\n",
       "      <td>69347</td>\n",
       "      <td>54726</td>\n",
       "      <td>0</td>\n",
       "      <td>0</td>\n",
       "      <td>0.0000</td>\n",
       "      <td>0.000</td>\n",
       "      <td>0.5589</td>\n",
       "      <td>0.7171</td>\n",
       "      <td>0.0000</td>\n",
       "    </tr>\n",
       "    <tr>\n",
       "      <th>40</th>\n",
       "      <td>0.82</td>\n",
       "      <td>69347</td>\n",
       "      <td>54726</td>\n",
       "      <td>0</td>\n",
       "      <td>0</td>\n",
       "      <td>0.0000</td>\n",
       "      <td>0.000</td>\n",
       "      <td>0.5589</td>\n",
       "      <td>0.7171</td>\n",
       "      <td>0.0000</td>\n",
       "    </tr>\n",
       "    <tr>\n",
       "      <th>41</th>\n",
       "      <td>0.84</td>\n",
       "      <td>69347</td>\n",
       "      <td>54726</td>\n",
       "      <td>0</td>\n",
       "      <td>0</td>\n",
       "      <td>0.0000</td>\n",
       "      <td>0.000</td>\n",
       "      <td>0.5589</td>\n",
       "      <td>0.7171</td>\n",
       "      <td>0.0000</td>\n",
       "    </tr>\n",
       "    <tr>\n",
       "      <th>42</th>\n",
       "      <td>0.86</td>\n",
       "      <td>69347</td>\n",
       "      <td>54726</td>\n",
       "      <td>0</td>\n",
       "      <td>0</td>\n",
       "      <td>0.0000</td>\n",
       "      <td>0.000</td>\n",
       "      <td>0.5589</td>\n",
       "      <td>0.7171</td>\n",
       "      <td>0.0000</td>\n",
       "    </tr>\n",
       "    <tr>\n",
       "      <th>43</th>\n",
       "      <td>0.88</td>\n",
       "      <td>69347</td>\n",
       "      <td>54726</td>\n",
       "      <td>0</td>\n",
       "      <td>0</td>\n",
       "      <td>0.0000</td>\n",
       "      <td>0.000</td>\n",
       "      <td>0.5589</td>\n",
       "      <td>0.7171</td>\n",
       "      <td>0.0000</td>\n",
       "    </tr>\n",
       "    <tr>\n",
       "      <th>44</th>\n",
       "      <td>0.90</td>\n",
       "      <td>69347</td>\n",
       "      <td>54726</td>\n",
       "      <td>0</td>\n",
       "      <td>0</td>\n",
       "      <td>0.0000</td>\n",
       "      <td>0.000</td>\n",
       "      <td>0.5589</td>\n",
       "      <td>0.7171</td>\n",
       "      <td>0.0000</td>\n",
       "    </tr>\n",
       "    <tr>\n",
       "      <th>45</th>\n",
       "      <td>0.92</td>\n",
       "      <td>69347</td>\n",
       "      <td>54726</td>\n",
       "      <td>0</td>\n",
       "      <td>0</td>\n",
       "      <td>0.0000</td>\n",
       "      <td>0.000</td>\n",
       "      <td>0.5589</td>\n",
       "      <td>0.7171</td>\n",
       "      <td>0.0000</td>\n",
       "    </tr>\n",
       "    <tr>\n",
       "      <th>46</th>\n",
       "      <td>0.94</td>\n",
       "      <td>69347</td>\n",
       "      <td>54726</td>\n",
       "      <td>0</td>\n",
       "      <td>0</td>\n",
       "      <td>0.0000</td>\n",
       "      <td>0.000</td>\n",
       "      <td>0.5589</td>\n",
       "      <td>0.7171</td>\n",
       "      <td>0.0000</td>\n",
       "    </tr>\n",
       "    <tr>\n",
       "      <th>47</th>\n",
       "      <td>0.96</td>\n",
       "      <td>69347</td>\n",
       "      <td>54726</td>\n",
       "      <td>0</td>\n",
       "      <td>0</td>\n",
       "      <td>0.0000</td>\n",
       "      <td>0.000</td>\n",
       "      <td>0.5589</td>\n",
       "      <td>0.7171</td>\n",
       "      <td>0.0000</td>\n",
       "    </tr>\n",
       "    <tr>\n",
       "      <th>48</th>\n",
       "      <td>0.98</td>\n",
       "      <td>69347</td>\n",
       "      <td>54726</td>\n",
       "      <td>0</td>\n",
       "      <td>0</td>\n",
       "      <td>0.0000</td>\n",
       "      <td>0.000</td>\n",
       "      <td>0.5589</td>\n",
       "      <td>0.7171</td>\n",
       "      <td>0.0000</td>\n",
       "    </tr>\n",
       "    <tr>\n",
       "      <th>49</th>\n",
       "      <td>1.00</td>\n",
       "      <td>69347</td>\n",
       "      <td>54726</td>\n",
       "      <td>0</td>\n",
       "      <td>0</td>\n",
       "      <td>0.0000</td>\n",
       "      <td>0.000</td>\n",
       "      <td>0.5589</td>\n",
       "      <td>0.7171</td>\n",
       "      <td>0.0000</td>\n",
       "    </tr>\n",
       "  </tbody>\n",
       "</table>\n",
       "</div>"
      ],
      "text/plain": [
       "    threshold     TN     FN     FP     TP  precision  recall  accuracy  \\\n",
       "0        0.02      0      0  69347  54726     0.4411   1.000    0.4411   \n",
       "1        0.04      0      0  69347  54726     0.4411   1.000    0.4411   \n",
       "2        0.06      0      0  69347  54726     0.4411   1.000    0.4411   \n",
       "3        0.08      0      0  69347  54726     0.4411   1.000    0.4411   \n",
       "4        0.10      0      0  69347  54726     0.4411   1.000    0.4411   \n",
       "5        0.12      0      0  69347  54726     0.4411   1.000    0.4411   \n",
       "6        0.14      0      0  69347  54726     0.4411   1.000    0.4411   \n",
       "7        0.16      0      0  69347  54726     0.4411   1.000    0.4411   \n",
       "8        0.18      0      0  69347  54726     0.4411   1.000    0.4411   \n",
       "9        0.20      0      0  69347  54726     0.4411   1.000    0.4411   \n",
       "10       0.22      0      0  69347  54726     0.4411   1.000    0.4411   \n",
       "11       0.24      0      0  69347  54726     0.4411   1.000    0.4411   \n",
       "12       0.26      0      0  69347  54726     0.4411   1.000    0.4411   \n",
       "13       0.28      0      0  69347  54726     0.4411   1.000    0.4411   \n",
       "14       0.30      0      0  69347  54726     0.4411   1.000    0.4411   \n",
       "15       0.32      0      0  69347  54726     0.4411   1.000    0.4411   \n",
       "16       0.34      0      0  69347  54726     0.4411   1.000    0.4411   \n",
       "17       0.36      0      0  69347  54726     0.4411   1.000    0.4411   \n",
       "18       0.38      0      0  69347  54726     0.4411   1.000    0.4411   \n",
       "19       0.40      0      0  69347  54726     0.4411   1.000    0.4411   \n",
       "20       0.42      0      0  69347  54726     0.4411   1.000    0.4411   \n",
       "21       0.44      0      0  69347  54726     0.4411   1.000    0.4411   \n",
       "22       0.46      0      0  69347  54726     0.4411   1.000    0.4411   \n",
       "23       0.48   9606  16690  59741  38036     0.3890   0.695    0.3840   \n",
       "24       0.50   9606  16690  59741  38036     0.3890   0.695    0.3840   \n",
       "25       0.52  69347  54726      0      0     0.0000   0.000    0.5589   \n",
       "26       0.54  69347  54726      0      0     0.0000   0.000    0.5589   \n",
       "27       0.56  69347  54726      0      0     0.0000   0.000    0.5589   \n",
       "28       0.58  69347  54726      0      0     0.0000   0.000    0.5589   \n",
       "29       0.60  69347  54726      0      0     0.0000   0.000    0.5589   \n",
       "30       0.62  69347  54726      0      0     0.0000   0.000    0.5589   \n",
       "31       0.64  69347  54726      0      0     0.0000   0.000    0.5589   \n",
       "32       0.66  69347  54726      0      0     0.0000   0.000    0.5589   \n",
       "33       0.68  69347  54726      0      0     0.0000   0.000    0.5589   \n",
       "34       0.70  69347  54726      0      0     0.0000   0.000    0.5589   \n",
       "35       0.72  69347  54726      0      0     0.0000   0.000    0.5589   \n",
       "36       0.74  69347  54726      0      0     0.0000   0.000    0.5589   \n",
       "37       0.76  69347  54726      0      0     0.0000   0.000    0.5589   \n",
       "38       0.78  69347  54726      0      0     0.0000   0.000    0.5589   \n",
       "39       0.80  69347  54726      0      0     0.0000   0.000    0.5589   \n",
       "40       0.82  69347  54726      0      0     0.0000   0.000    0.5589   \n",
       "41       0.84  69347  54726      0      0     0.0000   0.000    0.5589   \n",
       "42       0.86  69347  54726      0      0     0.0000   0.000    0.5589   \n",
       "43       0.88  69347  54726      0      0     0.0000   0.000    0.5589   \n",
       "44       0.90  69347  54726      0      0     0.0000   0.000    0.5589   \n",
       "45       0.92  69347  54726      0      0     0.0000   0.000    0.5589   \n",
       "46       0.94  69347  54726      0      0     0.0000   0.000    0.5589   \n",
       "47       0.96  69347  54726      0      0     0.0000   0.000    0.5589   \n",
       "48       0.98  69347  54726      0      0     0.0000   0.000    0.5589   \n",
       "49       1.00  69347  54726      0      0     0.0000   0.000    0.5589   \n",
       "\n",
       "    f0_score  f1_score  \n",
       "0     0.0000    0.6122  \n",
       "1     0.0000    0.6122  \n",
       "2     0.0000    0.6122  \n",
       "3     0.0000    0.6122  \n",
       "4     0.0000    0.6122  \n",
       "5     0.0000    0.6122  \n",
       "6     0.0000    0.6122  \n",
       "7     0.0000    0.6122  \n",
       "8     0.0000    0.6122  \n",
       "9     0.0000    0.6122  \n",
       "10    0.0000    0.6122  \n",
       "11    0.0000    0.6122  \n",
       "12    0.0000    0.6122  \n",
       "13    0.0000    0.6122  \n",
       "14    0.0000    0.6122  \n",
       "15    0.0000    0.6122  \n",
       "16    0.0000    0.6122  \n",
       "17    0.0000    0.6122  \n",
       "18    0.0000    0.6122  \n",
       "19    0.0000    0.6122  \n",
       "20    0.0000    0.6122  \n",
       "21    0.0000    0.6122  \n",
       "22    0.0000    0.6122  \n",
       "23    0.2009    0.4988  \n",
       "24    0.2009    0.4988  \n",
       "25    0.7171    0.0000  \n",
       "26    0.7171    0.0000  \n",
       "27    0.7171    0.0000  \n",
       "28    0.7171    0.0000  \n",
       "29    0.7171    0.0000  \n",
       "30    0.7171    0.0000  \n",
       "31    0.7171    0.0000  \n",
       "32    0.7171    0.0000  \n",
       "33    0.7171    0.0000  \n",
       "34    0.7171    0.0000  \n",
       "35    0.7171    0.0000  \n",
       "36    0.7171    0.0000  \n",
       "37    0.7171    0.0000  \n",
       "38    0.7171    0.0000  \n",
       "39    0.7171    0.0000  \n",
       "40    0.7171    0.0000  \n",
       "41    0.7171    0.0000  \n",
       "42    0.7171    0.0000  \n",
       "43    0.7171    0.0000  \n",
       "44    0.7171    0.0000  \n",
       "45    0.7171    0.0000  \n",
       "46    0.7171    0.0000  \n",
       "47    0.7171    0.0000  \n",
       "48    0.7171    0.0000  \n",
       "49    0.7171    0.0000  "
      ]
     },
     "execution_count": 71,
     "metadata": {},
     "output_type": "execute_result"
    }
   ],
   "source": [
    "# organizing values on a dataframe\n",
    "df_results.sort_values(by=['recall', 'f1_score'], ascending=False)"
   ]
  },
  {
   "cell_type": "markdown",
   "id": "b6091a66",
   "metadata": {},
   "source": [
    "**Comments:** All values between 0.02 and 0.46 generates the same precision (0.4411), recall (1.0) and f1_score (0.6122). It looks like the model is guessing the positives. If threshold is 0.48 or 0.5, the model learned something but shows lower recall, precision and f1-score than the others. Therefore, it should not be considered for deployment."
   ]
  },
  {
   "cell_type": "code",
   "execution_count": 53,
   "id": "0b97f03c",
   "metadata": {
    "collapsed": true
   },
   "outputs": [
    {
     "data": {
      "image/png": "[encoded data removed]",
      "text/plain": [
       "<Figure size 576x432 with 1 Axes>"
      ]
     },
     "metadata": {
      "needs_background": "light"
     },
     "output_type": "display_data"
    }
   ],
   "source": [
    "# Curva F1-Score\n",
    "\n",
    "# Cria o plot\n",
    "grap = df_results[df_results[\"threshold\"] > 0.0].plot(kind=\"scatter\", \n",
    "                                                         x=\"threshold\", \n",
    "                                                         y=\"f1_score\", \n",
    "                                                         grid=False, \n",
    "                                                         legend=True, \n",
    "                                                         title=\"F1-Score\",\n",
    "                                                         figsize=[8,6])\n",
    "# Configurações do gráfico\n",
    "grap.set(xlabel=\"Threshold\", \n",
    "            ylabel=\"F1 Score\", \n",
    "            xlim=(0.0,1.02), \n",
    "            ylim=(0.0,1.0))\n",
    "\n",
    "# mostra o gráfico\n",
    "plt.show()"
   ]
  },
  {
   "cell_type": "code",
   "execution_count": 123,
   "id": "9618bfc9",
   "metadata": {
    "scrolled": true
   },
   "outputs": [
    {
     "name": "stdout",
     "output_type": "stream",
     "text": [
      "Class report test\n",
      "               precision    recall  f1-score   support\n",
      "\n",
      "           0       0.37      0.14      0.20    124825\n",
      "           1       0.39      0.69      0.50     98506\n",
      "\n",
      "    accuracy                           0.38    223331\n",
      "   macro avg       0.38      0.42      0.35    223331\n",
      "weighted avg       0.38      0.38      0.33    223331\n",
      "\n"
     ]
    },
    {
     "data": {
      "image/png": "[encoded data removed]",
      "text/plain": [
       "<Figure size 432x288 with 1 Axes>"
      ]
     },
     "metadata": {
      "needs_background": "light"
     },
     "output_type": "display_data"
    },
    {
     "name": "stdout",
     "output_type": "stream",
     "text": [
      "\n",
      " Class report validation\n",
      "               precision    recall  f1-score   support\n",
      "\n",
      "           0       0.56      0.21      0.31    124825\n",
      "           1       0.44      0.79      0.57     98506\n",
      "\n",
      "    accuracy                           0.47    223331\n",
      "   macro avg       0.50      0.50      0.44    223331\n",
      "weighted avg       0.51      0.47      0.42    223331\n",
      "\n"
     ]
    },
    {
     "data": {
      "image/png": "[encoded data removed]",
      "text/plain": [
       "<Figure size 432x288 with 1 Axes>"
      ]
     },
     "metadata": {
      "needs_background": "light"
     },
     "output_type": "display_data"
    }
   ],
   "source": [
    "# prediction validation\n",
    "y_proba_val = model.predict_proba(X_validation)[:, 1]\n",
    "# Cria a resposta com o novo threshold\n",
    "y_pred_test = np.where(y_proba >= 0.48, 1, 0)\n",
    "y_pred_val = np.where(y_proba_val >= 0.48, 1, 0)\n",
    "\n",
    "# metrics\n",
    "cr_test, cm_test = classification_report(y_test, y_pred_test), confusion_matrix(y_test, y_pred_test)\n",
    "cr_val, cm_val = classification_report(y_test, y_pred_val), confusion_matrix(y_test, y_pred_val)\n",
    "print('Class report test\\n',cr_test)\n",
    "plot_confusion_matrix(cm_test)\n",
    "plt.show()\n",
    "\n",
    "print('\\n', 'Class report validation\\n', cr_val)\n",
    "plot_confusion_matrix(cm_val)\n",
    "\n",
    "plt.show()"
   ]
  },
  {
   "cell_type": "markdown",
   "id": "42984e4f",
   "metadata": {},
   "source": [
    "**Comments:** Using 0.48 as threshold a recall of 0.78 was achieved. Choosing thresholds below 0.48 or above 0.5 results in clear bias. It looks like the model guessing what is positive or negative with no criterion."
   ]
  },
  {
   "cell_type": "code",
   "execution_count": null,
   "id": "f44f2cef",
   "metadata": {
    "id": "__WzhGLTwH7s"
   },
   "outputs": [],
   "source": []
  },
  {
   "cell_type": "markdown",
   "id": "e65535d1",
   "metadata": {
    "id": "UOUYOQUSC8cs"
   },
   "source": [
    "##### Decision Tree improvement"
   ]
  },
  {
   "cell_type": "code",
   "execution_count": 55,
   "id": "c0f9f0a7",
   "metadata": {
    "colab": {
     "base_uri": "https://localhost:8080/"
    },
    "collapsed": true,
    "executionInfo": {
     "elapsed": 117332,
     "status": "ok",
     "timestamp": 1639425249052,
     "user": {
      "displayName": "Diego Felipe",
      "photoUrl": "https://lh3.googleusercontent.com/a-/AOh14Gh0OKIXgJWrcnWQIssC8wN39DTk9Z2eP49s3J9o=s64",
      "userId": "10648197522699844119"
     },
     "user_tz": 180
    },
    "id": "ggRmP9cADCEM",
    "outputId": "09d74562-3b46-4856-b11d-bfe20fce3eab"
   },
   "outputs": [
    {
     "name": "stdout",
     "output_type": "stream",
     "text": [
      "{'criterion': ['gini', 'entropy'],\n",
      " 'max_depth': [None, 10, 20, 40],\n",
      " 'max_features': ['sqrt', 'log2', 2, 7, None],\n",
      " 'min_impurity_decrease': [1.0, 0.0, 0.1, 0.01, 0.05],\n",
      " 'min_samples_leaf': [1, 5, 10],\n",
      " 'min_samples_split': [1, 10, 25, 50],\n",
      " 'splitter': ['best', 'random']}\n",
      "Fitting 10 folds for each of 100 candidates, totalling 1000 fits\n",
      "Wall time: 2min 57s\n"
     ]
    },
    {
     "data": {
      "text/plain": [
       "RandomizedSearchCV(cv=StratifiedKFold(n_splits=10, random_state=7, shuffle=True),\n",
       "                   estimator=DecisionTreeClassifier(random_state=42),\n",
       "                   n_iter=100, n_jobs=-1,\n",
       "                   param_distributions={'criterion': ['gini', 'entropy'],\n",
       "                                        'max_depth': [None, 10, 20, 40],\n",
       "                                        'max_features': ['sqrt', 'log2', 2, 7,\n",
       "                                                         None],\n",
       "                                        'min_impurity_decrease': [1.0, 0.0, 0.1,\n",
       "                                                                  0.01, 0.05],\n",
       "                                        'min_samples_leaf': [1, 5, 10],\n",
       "                                        'min_samples_split': [1, 10, 25, 50],\n",
       "                                        'splitter': ['best', 'random']},\n",
       "                   random_state=42, scoring='f1', verbose=5)"
      ]
     },
     "execution_count": 55,
     "metadata": {},
     "output_type": "execute_result"
    }
   ],
   "source": [
    "%%time\n",
    "# parameter grid\n",
    "## criterion \n",
    "criterion = ['gini', 'entropy']\n",
    "\n",
    "## splitter\n",
    "splitter = ['best', 'random']\n",
    "\n",
    "## max_depth \n",
    "max_depth = [None, 10, 20, 40]\n",
    "\n",
    "## Minimum number of samples required to split a node\n",
    "min_samples_split = [1, 10, 25, 50]\n",
    "\n",
    "## Minimum number of samples required at each leaf node\n",
    "min_samples_leaf = [1, 5, 10]\n",
    "\n",
    "## max_features\n",
    "max_features = [\"sqrt\", \"log2\", 2, 7, None]\n",
    "\n",
    "## min_impurity_decrease \n",
    "min_impurity_decrease = [1.0, 0.0, 0.1, 0.01, 0.05]\n",
    "\n",
    "## creating a random grid\n",
    "param_distributions = {\"criterion\":criterion,\n",
    "                       'splitter':splitter,\n",
    "                       'max_depth':max_depth,\n",
    "                       'min_samples_split':min_samples_split,\n",
    "                       'min_samples_leaf':min_samples_leaf,\n",
    "                       'max_features':max_features,\n",
    "                       'min_impurity_decrease':min_impurity_decrease}\n",
    "\n",
    "## model\n",
    "model = DecisionTreeClassifier(random_state=42)\n",
    "\n",
    "## display\n",
    "pprint(param_distributions)\n",
    "\n",
    "## setting the randomized search\n",
    "kfold = StratifiedKFold(n_splits=10, shuffle=True, random_state=7)\n",
    "random_search = RandomizedSearchCV(estimator=model,\n",
    "                                   param_distributions=param_distributions,\n",
    "                                   scoring='f1',\n",
    "                                   n_iter=100, \n",
    "                                   cv=kfold, \n",
    "                                   verbose=5,\n",
    "                                   n_jobs=-1,\n",
    "                                   random_state=42)\n",
    "\n",
    "# running test\n",
    "random_search.fit(X_train, y_train)"
   ]
  },
  {
   "cell_type": "code",
   "execution_count": 57,
   "id": "4e5ed37c",
   "metadata": {
    "collapsed": true
   },
   "outputs": [
    {
     "data": {
      "text/html": [
       "<div>\n",
       "<style scoped>\n",
       "    .dataframe tbody tr th:only-of-type {\n",
       "        vertical-align: middle;\n",
       "    }\n",
       "\n",
       "    .dataframe tbody tr th {\n",
       "        vertical-align: top;\n",
       "    }\n",
       "\n",
       "    .dataframe thead th {\n",
       "        text-align: right;\n",
       "    }\n",
       "</style>\n",
       "<table border=\"1\" class=\"dataframe\">\n",
       "  <thead>\n",
       "    <tr style=\"text-align: right;\">\n",
       "      <th></th>\n",
       "      <th>mean_fit_time</th>\n",
       "      <th>std_fit_time</th>\n",
       "      <th>mean_score_time</th>\n",
       "      <th>std_score_time</th>\n",
       "      <th>param_splitter</th>\n",
       "      <th>param_min_samples_split</th>\n",
       "      <th>param_min_samples_leaf</th>\n",
       "      <th>param_min_impurity_decrease</th>\n",
       "      <th>param_max_features</th>\n",
       "      <th>param_max_depth</th>\n",
       "      <th>...</th>\n",
       "      <th>split3_test_score</th>\n",
       "      <th>split4_test_score</th>\n",
       "      <th>split5_test_score</th>\n",
       "      <th>split6_test_score</th>\n",
       "      <th>split7_test_score</th>\n",
       "      <th>split8_test_score</th>\n",
       "      <th>split9_test_score</th>\n",
       "      <th>mean_test_score</th>\n",
       "      <th>std_test_score</th>\n",
       "      <th>rank_test_score</th>\n",
       "    </tr>\n",
       "  </thead>\n",
       "  <tbody>\n",
       "    <tr>\n",
       "      <th>57</th>\n",
       "      <td>3.312001</td>\n",
       "      <td>0.247439</td>\n",
       "      <td>0.037999</td>\n",
       "      <td>0.005623</td>\n",
       "      <td>random</td>\n",
       "      <td>25</td>\n",
       "      <td>5</td>\n",
       "      <td>0.0</td>\n",
       "      <td>None</td>\n",
       "      <td>20</td>\n",
       "      <td>...</td>\n",
       "      <td>0.448586</td>\n",
       "      <td>0.455950</td>\n",
       "      <td>0.449384</td>\n",
       "      <td>0.458353</td>\n",
       "      <td>0.453948</td>\n",
       "      <td>0.457177</td>\n",
       "      <td>0.456145</td>\n",
       "      <td>0.453291</td>\n",
       "      <td>0.004518</td>\n",
       "      <td>1</td>\n",
       "    </tr>\n",
       "    <tr>\n",
       "      <th>73</th>\n",
       "      <td>1.391417</td>\n",
       "      <td>0.044886</td>\n",
       "      <td>0.034399</td>\n",
       "      <td>0.004454</td>\n",
       "      <td>best</td>\n",
       "      <td>10</td>\n",
       "      <td>10</td>\n",
       "      <td>0.0</td>\n",
       "      <td>log2</td>\n",
       "      <td>20</td>\n",
       "      <td>...</td>\n",
       "      <td>0.451130</td>\n",
       "      <td>0.455175</td>\n",
       "      <td>0.457874</td>\n",
       "      <td>0.458837</td>\n",
       "      <td>0.453434</td>\n",
       "      <td>0.451179</td>\n",
       "      <td>0.447493</td>\n",
       "      <td>0.453244</td>\n",
       "      <td>0.003541</td>\n",
       "      <td>2</td>\n",
       "    </tr>\n",
       "    <tr>\n",
       "      <th>71</th>\n",
       "      <td>1.362317</td>\n",
       "      <td>0.052747</td>\n",
       "      <td>0.035200</td>\n",
       "      <td>0.002358</td>\n",
       "      <td>best</td>\n",
       "      <td>10</td>\n",
       "      <td>10</td>\n",
       "      <td>0.0</td>\n",
       "      <td>2</td>\n",
       "      <td>20</td>\n",
       "      <td>...</td>\n",
       "      <td>0.449754</td>\n",
       "      <td>0.456393</td>\n",
       "      <td>0.456446</td>\n",
       "      <td>0.462781</td>\n",
       "      <td>0.452776</td>\n",
       "      <td>0.439318</td>\n",
       "      <td>0.449085</td>\n",
       "      <td>0.452516</td>\n",
       "      <td>0.005956</td>\n",
       "      <td>3</td>\n",
       "    </tr>\n",
       "    <tr>\n",
       "      <th>56</th>\n",
       "      <td>1.263924</td>\n",
       "      <td>0.025625</td>\n",
       "      <td>0.037400</td>\n",
       "      <td>0.003170</td>\n",
       "      <td>random</td>\n",
       "      <td>50</td>\n",
       "      <td>1</td>\n",
       "      <td>0.0</td>\n",
       "      <td>sqrt</td>\n",
       "      <td>20</td>\n",
       "      <td>...</td>\n",
       "      <td>0.447261</td>\n",
       "      <td>0.453950</td>\n",
       "      <td>0.458698</td>\n",
       "      <td>0.463942</td>\n",
       "      <td>0.447942</td>\n",
       "      <td>0.450377</td>\n",
       "      <td>0.446883</td>\n",
       "      <td>0.451769</td>\n",
       "      <td>0.005789</td>\n",
       "      <td>4</td>\n",
       "    </tr>\n",
       "    <tr>\n",
       "      <th>8</th>\n",
       "      <td>3.019517</td>\n",
       "      <td>0.305579</td>\n",
       "      <td>0.050498</td>\n",
       "      <td>0.019960</td>\n",
       "      <td>random</td>\n",
       "      <td>25</td>\n",
       "      <td>1</td>\n",
       "      <td>0.0</td>\n",
       "      <td>None</td>\n",
       "      <td>10</td>\n",
       "      <td>...</td>\n",
       "      <td>0.440350</td>\n",
       "      <td>0.452609</td>\n",
       "      <td>0.463084</td>\n",
       "      <td>0.459872</td>\n",
       "      <td>0.441948</td>\n",
       "      <td>0.447708</td>\n",
       "      <td>0.451082</td>\n",
       "      <td>0.451405</td>\n",
       "      <td>0.007517</td>\n",
       "      <td>5</td>\n",
       "    </tr>\n",
       "  </tbody>\n",
       "</table>\n",
       "<p>5 rows × 25 columns</p>\n",
       "</div>"
      ],
      "text/plain": [
       "    mean_fit_time  std_fit_time  mean_score_time  std_score_time  \\\n",
       "57       3.312001      0.247439         0.037999        0.005623   \n",
       "73       1.391417      0.044886         0.034399        0.004454   \n",
       "71       1.362317      0.052747         0.035200        0.002358   \n",
       "56       1.263924      0.025625         0.037400        0.003170   \n",
       "8        3.019517      0.305579         0.050498        0.019960   \n",
       "\n",
       "   param_splitter param_min_samples_split param_min_samples_leaf  \\\n",
       "57         random                      25                      5   \n",
       "73           best                      10                     10   \n",
       "71           best                      10                     10   \n",
       "56         random                      50                      1   \n",
       "8          random                      25                      1   \n",
       "\n",
       "   param_min_impurity_decrease param_max_features param_max_depth  ...  \\\n",
       "57                         0.0               None              20  ...   \n",
       "73                         0.0               log2              20  ...   \n",
       "71                         0.0                  2              20  ...   \n",
       "56                         0.0               sqrt              20  ...   \n",
       "8                          0.0               None              10  ...   \n",
       "\n",
       "   split3_test_score split4_test_score  split5_test_score  split6_test_score  \\\n",
       "57          0.448586          0.455950           0.449384           0.458353   \n",
       "73          0.451130          0.455175           0.457874           0.458837   \n",
       "71          0.449754          0.456393           0.456446           0.462781   \n",
       "56          0.447261          0.453950           0.458698           0.463942   \n",
       "8           0.440350          0.452609           0.463084           0.459872   \n",
       "\n",
       "    split7_test_score  split8_test_score  split9_test_score  mean_test_score  \\\n",
       "57           0.453948           0.457177           0.456145         0.453291   \n",
       "73           0.453434           0.451179           0.447493         0.453244   \n",
       "71           0.452776           0.439318           0.449085         0.452516   \n",
       "56           0.447942           0.450377           0.446883         0.451769   \n",
       "8            0.441948           0.447708           0.451082         0.451405   \n",
       "\n",
       "    std_test_score  rank_test_score  \n",
       "57        0.004518                1  \n",
       "73        0.003541                2  \n",
       "71        0.005956                3  \n",
       "56        0.005789                4  \n",
       "8         0.007517                5  \n",
       "\n",
       "[5 rows x 25 columns]"
      ]
     },
     "execution_count": 57,
     "metadata": {},
     "output_type": "execute_result"
    }
   ],
   "source": [
    "# summary table with results sorted from the best ranked parameters\n",
    "table_results = pd.DataFrame(random_search.cv_results_)\n",
    "table_results_sorted = table_results.sort_values(by='rank_test_score')\n",
    "table_results_sorted.head()"
   ]
  },
  {
   "cell_type": "code",
   "execution_count": 58,
   "id": "7507c657",
   "metadata": {
    "colab": {
     "base_uri": "https://localhost:8080/"
    },
    "collapsed": true,
    "executionInfo": {
     "elapsed": 14,
     "status": "ok",
     "timestamp": 1639425249054,
     "user": {
      "displayName": "Diego Felipe",
      "photoUrl": "https://lh3.googleusercontent.com/a-/AOh14Gh0OKIXgJWrcnWQIssC8wN39DTk9Z2eP49s3J9o=s64",
      "userId": "10648197522699844119"
     },
     "user_tz": 180
    },
    "id": "HFMBKCE2DBw5",
    "outputId": "b18911a1-518b-4215-fa1b-0a64422b94b5"
   },
   "outputs": [
    {
     "name": "stdout",
     "output_type": "stream",
     "text": [
      "Mean_F1_score:  0.17\n",
      "Best parameters: \n",
      "{'criterion': 'gini',\n",
      " 'max_depth': 20,\n",
      " 'max_features': None,\n",
      " 'min_impurity_decrease': 0.0,\n",
      " 'min_samples_leaf': 5,\n",
      " 'min_samples_split': 25,\n",
      " 'splitter': 'random'}\n"
     ]
    }
   ],
   "source": [
    "# mean scoring value\n",
    "f1_score_random = random_search.cv_results_['mean_test_score']\n",
    "mean_f1_score_random = f1_score_random[~np.isnan(f1_score_random)].mean()\n",
    "print(\"Mean_F1_score: \", np.around(mean_f1_score_random, 2))\n",
    "best_param_random = random_search.best_params_\n",
    "print(\"Best parameters: \")\n",
    "pprint(best_param_random)"
   ]
  },
  {
   "cell_type": "code",
   "execution_count": 120,
   "id": "8ffd34b7",
   "metadata": {
    "colab": {
     "base_uri": "https://localhost:8080/",
     "height": 906
    },
    "executionInfo": {
     "elapsed": 1285,
     "status": "ok",
     "timestamp": 1639425472978,
     "user": {
      "displayName": "Diego Felipe",
      "photoUrl": "https://lh3.googleusercontent.com/a-/AOh14Gh0OKIXgJWrcnWQIssC8wN39DTk9Z2eP49s3J9o=s64",
      "userId": "10648197522699844119"
     },
     "user_tz": 180
    },
    "id": "qT94h_eCUqEF",
    "outputId": "25cbc212-6be1-4222-9bf1-5bccc6a7c37b"
   },
   "outputs": [
    {
     "name": "stdout",
     "output_type": "stream",
     "text": [
      "0.02 0.04 0.06 0.08 0.1 0.12 0.14 0.16 0.18 0.2 0.22 0.24 0.26 0.28 0.3 0.32 0.34 0.36 0.38 0.4 0.42 0.44 0.46 0.48 0.5 0.52 0.54 0.56 0.58 0.6 0.62 0.64 0.66 0.68 0.7 0.72 0.74 0.76 0.78 0.8 0.82 0.84 0.86 0.88 0.9 0.92 0.94 0.96 0.98 1.0 "
     ]
    }
   ],
   "source": [
    "# testing parameters\n",
    "model = DecisionTreeClassifier(criterion='gini',\n",
    "                               max_depth=20,\n",
    "                               max_features=None,\n",
    "                               min_impurity_decrease=0.0,\n",
    "                               min_samples_leaf=5,\n",
    "                               min_samples_split=25,\n",
    "                               splitter='random',\n",
    "                               random_state=42)\n",
    "# fitting the model\n",
    "model.fit(X_train, y_train)\n",
    "\n",
    "# working out prediction\n",
    "y_proba = model.predict_proba(X_test)[:, 1]\n",
    "results_test = pd.DataFrame(zip(y_test, np.around(y_proba, 3)), columns=['target', 'proba'])\n",
    "df_results = best_classification_split_score(results_test, threshold_increment=0.02,colum_probabilities='proba')"
   ]
  },
  {
   "cell_type": "code",
   "execution_count": 67,
   "id": "4ed6aba2",
   "metadata": {
    "colab": {
     "base_uri": "https://localhost:8080/",
     "height": 906
    },
    "collapsed": true,
    "executionInfo": {
     "elapsed": 1285,
     "status": "ok",
     "timestamp": 1639425472978,
     "user": {
      "displayName": "Diego Felipe",
      "photoUrl": "https://lh3.googleusercontent.com/a-/AOh14Gh0OKIXgJWrcnWQIssC8wN39DTk9Z2eP49s3J9o=s64",
      "userId": "10648197522699844119"
     },
     "user_tz": 180
    },
    "id": "qT94h_eCUqEF",
    "outputId": "25cbc212-6be1-4222-9bf1-5bccc6a7c37b"
   },
   "outputs": [
    {
     "data": {
      "text/html": [
       "<div>\n",
       "<style scoped>\n",
       "    .dataframe tbody tr th:only-of-type {\n",
       "        vertical-align: middle;\n",
       "    }\n",
       "\n",
       "    .dataframe tbody tr th {\n",
       "        vertical-align: top;\n",
       "    }\n",
       "\n",
       "    .dataframe thead th {\n",
       "        text-align: right;\n",
       "    }\n",
       "</style>\n",
       "<table border=\"1\" class=\"dataframe\">\n",
       "  <thead>\n",
       "    <tr style=\"text-align: right;\">\n",
       "      <th></th>\n",
       "      <th>threshold</th>\n",
       "      <th>TN</th>\n",
       "      <th>FN</th>\n",
       "      <th>FP</th>\n",
       "      <th>TP</th>\n",
       "      <th>precision</th>\n",
       "      <th>recall</th>\n",
       "      <th>accuracy</th>\n",
       "      <th>f0_score</th>\n",
       "      <th>f1_score</th>\n",
       "    </tr>\n",
       "  </thead>\n",
       "  <tbody>\n",
       "    <tr>\n",
       "      <th>10</th>\n",
       "      <td>0.22</td>\n",
       "      <td>2547</td>\n",
       "      <td>901</td>\n",
       "      <td>66800</td>\n",
       "      <td>53825</td>\n",
       "      <td>0.4462</td>\n",
       "      <td>0.9835</td>\n",
       "      <td>0.4543</td>\n",
       "      <td>0.0700</td>\n",
       "      <td>0.6139</td>\n",
       "    </tr>\n",
       "    <tr>\n",
       "      <th>8</th>\n",
       "      <td>0.18</td>\n",
       "      <td>1680</td>\n",
       "      <td>536</td>\n",
       "      <td>67667</td>\n",
       "      <td>54190</td>\n",
       "      <td>0.4447</td>\n",
       "      <td>0.9902</td>\n",
       "      <td>0.4503</td>\n",
       "      <td>0.0470</td>\n",
       "      <td>0.6138</td>\n",
       "    </tr>\n",
       "    <tr>\n",
       "      <th>9</th>\n",
       "      <td>0.20</td>\n",
       "      <td>1812</td>\n",
       "      <td>615</td>\n",
       "      <td>67535</td>\n",
       "      <td>54111</td>\n",
       "      <td>0.4448</td>\n",
       "      <td>0.9888</td>\n",
       "      <td>0.4507</td>\n",
       "      <td>0.0505</td>\n",
       "      <td>0.6136</td>\n",
       "    </tr>\n",
       "    <tr>\n",
       "      <th>7</th>\n",
       "      <td>0.16</td>\n",
       "      <td>1191</td>\n",
       "      <td>388</td>\n",
       "      <td>68156</td>\n",
       "      <td>54338</td>\n",
       "      <td>0.4436</td>\n",
       "      <td>0.9929</td>\n",
       "      <td>0.4476</td>\n",
       "      <td>0.0336</td>\n",
       "      <td>0.6132</td>\n",
       "    </tr>\n",
       "    <tr>\n",
       "      <th>6</th>\n",
       "      <td>0.14</td>\n",
       "      <td>868</td>\n",
       "      <td>290</td>\n",
       "      <td>68479</td>\n",
       "      <td>54436</td>\n",
       "      <td>0.4429</td>\n",
       "      <td>0.9947</td>\n",
       "      <td>0.4457</td>\n",
       "      <td>0.0246</td>\n",
       "      <td>0.6129</td>\n",
       "    </tr>\n",
       "    <tr>\n",
       "      <th>5</th>\n",
       "      <td>0.12</td>\n",
       "      <td>741</td>\n",
       "      <td>252</td>\n",
       "      <td>68606</td>\n",
       "      <td>54474</td>\n",
       "      <td>0.4426</td>\n",
       "      <td>0.9954</td>\n",
       "      <td>0.4450</td>\n",
       "      <td>0.0211</td>\n",
       "      <td>0.6127</td>\n",
       "    </tr>\n",
       "    <tr>\n",
       "      <th>4</th>\n",
       "      <td>0.10</td>\n",
       "      <td>594</td>\n",
       "      <td>201</td>\n",
       "      <td>68753</td>\n",
       "      <td>54525</td>\n",
       "      <td>0.4423</td>\n",
       "      <td>0.9963</td>\n",
       "      <td>0.4442</td>\n",
       "      <td>0.0169</td>\n",
       "      <td>0.6126</td>\n",
       "    </tr>\n",
       "    <tr>\n",
       "      <th>3</th>\n",
       "      <td>0.08</td>\n",
       "      <td>424</td>\n",
       "      <td>148</td>\n",
       "      <td>68923</td>\n",
       "      <td>54578</td>\n",
       "      <td>0.4419</td>\n",
       "      <td>0.9973</td>\n",
       "      <td>0.4433</td>\n",
       "      <td>0.0121</td>\n",
       "      <td>0.6125</td>\n",
       "    </tr>\n",
       "    <tr>\n",
       "      <th>2</th>\n",
       "      <td>0.06</td>\n",
       "      <td>273</td>\n",
       "      <td>105</td>\n",
       "      <td>69074</td>\n",
       "      <td>54621</td>\n",
       "      <td>0.4416</td>\n",
       "      <td>0.9981</td>\n",
       "      <td>0.4424</td>\n",
       "      <td>0.0078</td>\n",
       "      <td>0.6123</td>\n",
       "    </tr>\n",
       "    <tr>\n",
       "      <th>0</th>\n",
       "      <td>0.02</td>\n",
       "      <td>204</td>\n",
       "      <td>85</td>\n",
       "      <td>69143</td>\n",
       "      <td>54641</td>\n",
       "      <td>0.4414</td>\n",
       "      <td>0.9984</td>\n",
       "      <td>0.4420</td>\n",
       "      <td>0.0059</td>\n",
       "      <td>0.6122</td>\n",
       "    </tr>\n",
       "    <tr>\n",
       "      <th>1</th>\n",
       "      <td>0.04</td>\n",
       "      <td>213</td>\n",
       "      <td>87</td>\n",
       "      <td>69134</td>\n",
       "      <td>54639</td>\n",
       "      <td>0.4414</td>\n",
       "      <td>0.9984</td>\n",
       "      <td>0.4421</td>\n",
       "      <td>0.0061</td>\n",
       "      <td>0.6122</td>\n",
       "    </tr>\n",
       "  </tbody>\n",
       "</table>\n",
       "</div>"
      ],
      "text/plain": [
       "    threshold    TN   FN     FP     TP  precision  recall  accuracy  f0_score  \\\n",
       "10       0.22  2547  901  66800  53825     0.4462  0.9835    0.4543    0.0700   \n",
       "8        0.18  1680  536  67667  54190     0.4447  0.9902    0.4503    0.0470   \n",
       "9        0.20  1812  615  67535  54111     0.4448  0.9888    0.4507    0.0505   \n",
       "7        0.16  1191  388  68156  54338     0.4436  0.9929    0.4476    0.0336   \n",
       "6        0.14   868  290  68479  54436     0.4429  0.9947    0.4457    0.0246   \n",
       "5        0.12   741  252  68606  54474     0.4426  0.9954    0.4450    0.0211   \n",
       "4        0.10   594  201  68753  54525     0.4423  0.9963    0.4442    0.0169   \n",
       "3        0.08   424  148  68923  54578     0.4419  0.9973    0.4433    0.0121   \n",
       "2        0.06   273  105  69074  54621     0.4416  0.9981    0.4424    0.0078   \n",
       "0        0.02   204   85  69143  54641     0.4414  0.9984    0.4420    0.0059   \n",
       "1        0.04   213   87  69134  54639     0.4414  0.9984    0.4421    0.0061   \n",
       "\n",
       "    f1_score  \n",
       "10    0.6139  \n",
       "8     0.6138  \n",
       "9     0.6136  \n",
       "7     0.6132  \n",
       "6     0.6129  \n",
       "5     0.6127  \n",
       "4     0.6126  \n",
       "3     0.6125  \n",
       "2     0.6123  \n",
       "0     0.6122  \n",
       "1     0.6122  "
      ]
     },
     "execution_count": 67,
     "metadata": {},
     "output_type": "execute_result"
    }
   ],
   "source": [
    "# organizing values where recall >= 0.98 and with the best f1-score\n",
    "df_results[df_results['recall'] >= 0.98].sort_values(by=['f1_score'], ascending=False)"
   ]
  },
  {
   "cell_type": "markdown",
   "id": "4144430a",
   "metadata": {},
   "source": [
    "**Comments:** Threshold between 0.02 and 0.22 generates the better recall and f1-scores."
   ]
  },
  {
   "cell_type": "code",
   "execution_count": 63,
   "id": "7b5e9f96",
   "metadata": {
    "collapsed": true
   },
   "outputs": [
    {
     "data": {
      "image/png": "[encoded data removed]",
      "text/plain": [
       "<Figure size 576x432 with 1 Axes>"
      ]
     },
     "metadata": {
      "needs_background": "light"
     },
     "output_type": "display_data"
    }
   ],
   "source": [
    "# Curva F1-Score\n",
    "\n",
    "# Cria o plot\n",
    "grap = df_results[df_results[\"threshold\"] > 0.0].plot(kind=\"scatter\", \n",
    "                                                         x=\"threshold\", \n",
    "                                                         y=\"f1_score\", \n",
    "                                                         grid=False, \n",
    "                                                         legend=True, \n",
    "                                                         title=\"F1-Score\",\n",
    "                                                         figsize=[8,6])\n",
    "# Configurações do gráfico\n",
    "grap.set(xlabel=\"Threshold\", \n",
    "            ylabel=\"F1 Score\", \n",
    "            xlim=(0.0,1.02), \n",
    "            ylim=(0.0,1.0))\n",
    "\n",
    "# mostra o gráfico\n",
    "plt.show()"
   ]
  },
  {
   "cell_type": "code",
   "execution_count": 121,
   "id": "31a55b24",
   "metadata": {
    "scrolled": true
   },
   "outputs": [
    {
     "name": "stdout",
     "output_type": "stream",
     "text": [
      "Class report test\n",
      "               precision    recall  f1-score   support\n",
      "\n",
      "           0       0.69      0.06      0.10    124825\n",
      "           1       0.45      0.97      0.61     98506\n",
      "\n",
      "    accuracy                           0.46    223331\n",
      "   macro avg       0.57      0.51      0.36    223331\n",
      "weighted avg       0.59      0.46      0.33    223331\n",
      "\n"
     ]
    },
    {
     "data": {
      "image/png": "[encoded data removed]",
      "text/plain": [
       "<Figure size 432x288 with 1 Axes>"
      ]
     },
     "metadata": {
      "needs_background": "light"
     },
     "output_type": "display_data"
    },
    {
     "name": "stdout",
     "output_type": "stream",
     "text": [
      "\n",
      " Class report validation\n",
      "               precision    recall  f1-score   support\n",
      "\n",
      "           0       0.55      0.04      0.08    124825\n",
      "           1       0.44      0.96      0.60     98506\n",
      "\n",
      "    accuracy                           0.45    223331\n",
      "   macro avg       0.50      0.50      0.34    223331\n",
      "weighted avg       0.50      0.45      0.31    223331\n",
      "\n"
     ]
    },
    {
     "data": {
      "image/png": "[encoded data removed]",
      "text/plain": [
       "<Figure size 432x288 with 1 Axes>"
      ]
     },
     "metadata": {
      "needs_background": "light"
     },
     "output_type": "display_data"
    }
   ],
   "source": [
    "# prediction validation\n",
    "y_proba_val = model.predict_proba(X_validation)[:, 1]\n",
    "# Cria a resposta com o novo threshold\n",
    "y_pred_test = np.where(y_proba >= 0.22, 1, 0)\n",
    "y_pred_val = np.where(y_proba_val >= 0.22, 1, 0)\n",
    "\n",
    "# metrics\n",
    "cr_test, cm_test = classification_report(y_test, y_pred_test), confusion_matrix(y_test, y_pred_test)\n",
    "cr_val, cm_val = classification_report(y_test, y_pred_val), confusion_matrix(y_test, y_pred_val)\n",
    "print('Class report test\\n',cr_test)\n",
    "plot_confusion_matrix(cm_test)\n",
    "plt.show()\n",
    "\n",
    "print('\\n', 'Class report validation\\n', cr_val)\n",
    "plot_confusion_matrix(cm_val)\n",
    "\n",
    "plt.show()"
   ]
  },
  {
   "cell_type": "markdown",
   "id": "29f8fd89",
   "metadata": {},
   "source": [
    "**Comments:** Using 0.22 as threshold, a recall of 0.97 and f-score of 0.61 for output == 1 were achieved."
   ]
  },
  {
   "cell_type": "code",
   "execution_count": null,
   "id": "604db8a1",
   "metadata": {
    "id": "-QBRr5_xLCO1"
   },
   "outputs": [],
   "source": []
  },
  {
   "cell_type": "markdown",
   "id": "904b0fe4",
   "metadata": {
    "id": "Y2Ay9lmsYfoR"
   },
   "source": [
    "##### KNN improvement"
   ]
  },
  {
   "cell_type": "code",
   "execution_count": 81,
   "id": "71ec6a19",
   "metadata": {
    "colab": {
     "base_uri": "https://localhost:8080/"
    },
    "collapsed": true,
    "id": "2W4nL60ALB82",
    "outputId": "487eaf52-19d2-4a50-b215-226eea9834d3"
   },
   "outputs": [
    {
     "name": "stdout",
     "output_type": "stream",
     "text": [
      "{'algorithm': ['auto', 'ball_tree', 'kd_tree', 'brute'],\n",
      " 'leaf_size': [15, 30, 45],\n",
      " 'n_neighbors': [1, 3, 5, 7, 9, 11, 13],\n",
      " 'p': [1, 2, 4, 8],\n",
      " 'weights': ['uniform', 'distance']}\n",
      "Fitting 3 folds for each of 100 candidates, totalling 300 fits\n",
      "Wall time: 4h 54min 21s\n"
     ]
    },
    {
     "data": {
      "text/plain": [
       "RandomizedSearchCV(cv=StratifiedKFold(n_splits=3, random_state=7, shuffle=True),\n",
       "                   estimator=KNeighborsClassifier(), n_iter=100, n_jobs=-1,\n",
       "                   param_distributions={'algorithm': ['auto', 'ball_tree',\n",
       "                                                      'kd_tree', 'brute'],\n",
       "                                        'leaf_size': [15, 30, 45],\n",
       "                                        'n_neighbors': [1, 3, 5, 7, 9, 11, 13],\n",
       "                                        'p': [1, 2, 4, 8],\n",
       "                                        'weights': ['uniform', 'distance']},\n",
       "                   random_state=42, scoring='f1', verbose=5)"
      ]
     },
     "execution_count": 81,
     "metadata": {},
     "output_type": "execute_result"
    }
   ],
   "source": [
    "%%time\n",
    "# parameter grid -> Due to the dataset's size train_size was descreased to only 10% of the total only for KNN optimization (test_size=0.9)\n",
    "## n_neighbors \n",
    "n_neighbors = [x for x in range(1, 15, 2)]\n",
    "\n",
    "## weights \n",
    "weights = ['uniform', 'distance']\n",
    "\n",
    "## algorithm  \n",
    "algorithm = ['auto', 'ball_tree', 'kd_tree', 'brute']\n",
    "\n",
    "## leaf_size\n",
    "leaf_size = [15, 30, 45]\n",
    "\n",
    "## p for Minkowski metric. When p = 1, this is equivalent manhattan_distance (l1), and euclidean_distance (l2) for p = 2.\n",
    "p = [1, 2, 4, 8]\n",
    "\n",
    "## creating a random grid\n",
    "param_distributions = {\"n_neighbors\":n_neighbors,\n",
    "                       'weights':weights,\n",
    "                       'algorithm':algorithm,\n",
    "                       'leaf_size':leaf_size,\n",
    "                       'p':p}\n",
    "\n",
    "## model\n",
    "model = KNeighborsClassifier()\n",
    "\n",
    "## display\n",
    "pprint(param_distributions)\n",
    "\n",
    "## setting the randomized search\n",
    "kfold = StratifiedKFold(n_splits=3, shuffle=True, random_state=7)\n",
    "random_search = RandomizedSearchCV(estimator=model,\n",
    "                                   param_distributions=param_distributions,\n",
    "                                   scoring='f1',\n",
    "                                   n_iter=100, \n",
    "                                   cv=kfold, \n",
    "                                   verbose=5,\n",
    "                                   n_jobs=-1,\n",
    "                                   random_state=42)\n",
    "\n",
    "# running test\n",
    "random_search.fit(X_train, y_train)"
   ]
  },
  {
   "cell_type": "code",
   "execution_count": 82,
   "id": "59a44953",
   "metadata": {
    "scrolled": true
   },
   "outputs": [
    {
     "data": {
      "text/html": [
       "<div>\n",
       "<style scoped>\n",
       "    .dataframe tbody tr th:only-of-type {\n",
       "        vertical-align: middle;\n",
       "    }\n",
       "\n",
       "    .dataframe tbody tr th {\n",
       "        vertical-align: top;\n",
       "    }\n",
       "\n",
       "    .dataframe thead th {\n",
       "        text-align: right;\n",
       "    }\n",
       "</style>\n",
       "<table border=\"1\" class=\"dataframe\">\n",
       "  <thead>\n",
       "    <tr style=\"text-align: right;\">\n",
       "      <th></th>\n",
       "      <th>mean_fit_time</th>\n",
       "      <th>std_fit_time</th>\n",
       "      <th>mean_score_time</th>\n",
       "      <th>std_score_time</th>\n",
       "      <th>param_weights</th>\n",
       "      <th>param_p</th>\n",
       "      <th>param_n_neighbors</th>\n",
       "      <th>param_leaf_size</th>\n",
       "      <th>param_algorithm</th>\n",
       "      <th>params</th>\n",
       "      <th>split0_test_score</th>\n",
       "      <th>split1_test_score</th>\n",
       "      <th>split2_test_score</th>\n",
       "      <th>mean_test_score</th>\n",
       "      <th>std_test_score</th>\n",
       "      <th>rank_test_score</th>\n",
       "    </tr>\n",
       "  </thead>\n",
       "  <tbody>\n",
       "    <tr>\n",
       "      <th>57</th>\n",
       "      <td>0.707622</td>\n",
       "      <td>0.011614</td>\n",
       "      <td>56.852900</td>\n",
       "      <td>1.157719</td>\n",
       "      <td>uniform</td>\n",
       "      <td>1</td>\n",
       "      <td>1</td>\n",
       "      <td>15</td>\n",
       "      <td>kd_tree</td>\n",
       "      <td>{'weights': 'uniform', 'p': 1, 'n_neighbors': ...</td>\n",
       "      <td>0.507653</td>\n",
       "      <td>0.494099</td>\n",
       "      <td>0.499966</td>\n",
       "      <td>0.500573</td>\n",
       "      <td>0.005550</td>\n",
       "      <td>1</td>\n",
       "    </tr>\n",
       "    <tr>\n",
       "      <th>76</th>\n",
       "      <td>0.702289</td>\n",
       "      <td>0.001700</td>\n",
       "      <td>56.451254</td>\n",
       "      <td>0.037772</td>\n",
       "      <td>uniform</td>\n",
       "      <td>2</td>\n",
       "      <td>1</td>\n",
       "      <td>15</td>\n",
       "      <td>kd_tree</td>\n",
       "      <td>{'weights': 'uniform', 'p': 2, 'n_neighbors': ...</td>\n",
       "      <td>0.507620</td>\n",
       "      <td>0.493898</td>\n",
       "      <td>0.499831</td>\n",
       "      <td>0.500450</td>\n",
       "      <td>0.005619</td>\n",
       "      <td>2</td>\n",
       "    </tr>\n",
       "    <tr>\n",
       "      <th>62</th>\n",
       "      <td>0.049331</td>\n",
       "      <td>0.001248</td>\n",
       "      <td>31.617420</td>\n",
       "      <td>0.236298</td>\n",
       "      <td>uniform</td>\n",
       "      <td>2</td>\n",
       "      <td>1</td>\n",
       "      <td>15</td>\n",
       "      <td>auto</td>\n",
       "      <td>{'weights': 'uniform', 'p': 2, 'n_neighbors': ...</td>\n",
       "      <td>0.507808</td>\n",
       "      <td>0.493125</td>\n",
       "      <td>0.499730</td>\n",
       "      <td>0.500221</td>\n",
       "      <td>0.006004</td>\n",
       "      <td>3</td>\n",
       "    </tr>\n",
       "    <tr>\n",
       "      <th>84</th>\n",
       "      <td>0.053330</td>\n",
       "      <td>0.002356</td>\n",
       "      <td>36.030822</td>\n",
       "      <td>0.177580</td>\n",
       "      <td>distance</td>\n",
       "      <td>2</td>\n",
       "      <td>1</td>\n",
       "      <td>45</td>\n",
       "      <td>brute</td>\n",
       "      <td>{'weights': 'distance', 'p': 2, 'n_neighbors':...</td>\n",
       "      <td>0.507808</td>\n",
       "      <td>0.493125</td>\n",
       "      <td>0.499730</td>\n",
       "      <td>0.500221</td>\n",
       "      <td>0.006004</td>\n",
       "      <td>3</td>\n",
       "    </tr>\n",
       "    <tr>\n",
       "      <th>68</th>\n",
       "      <td>0.048330</td>\n",
       "      <td>0.004028</td>\n",
       "      <td>405.760800</td>\n",
       "      <td>1.512378</td>\n",
       "      <td>uniform</td>\n",
       "      <td>4</td>\n",
       "      <td>1</td>\n",
       "      <td>30</td>\n",
       "      <td>auto</td>\n",
       "      <td>{'weights': 'uniform', 'p': 4, 'n_neighbors': ...</td>\n",
       "      <td>0.507459</td>\n",
       "      <td>0.493260</td>\n",
       "      <td>0.499696</td>\n",
       "      <td>0.500139</td>\n",
       "      <td>0.005805</td>\n",
       "      <td>5</td>\n",
       "    </tr>\n",
       "  </tbody>\n",
       "</table>\n",
       "</div>"
      ],
      "text/plain": [
       "    mean_fit_time  std_fit_time  mean_score_time  std_score_time  \\\n",
       "57       0.707622      0.011614        56.852900        1.157719   \n",
       "76       0.702289      0.001700        56.451254        0.037772   \n",
       "62       0.049331      0.001248        31.617420        0.236298   \n",
       "84       0.053330      0.002356        36.030822        0.177580   \n",
       "68       0.048330      0.004028       405.760800        1.512378   \n",
       "\n",
       "   param_weights param_p param_n_neighbors param_leaf_size param_algorithm  \\\n",
       "57       uniform       1                 1              15         kd_tree   \n",
       "76       uniform       2                 1              15         kd_tree   \n",
       "62       uniform       2                 1              15            auto   \n",
       "84      distance       2                 1              45           brute   \n",
       "68       uniform       4                 1              30            auto   \n",
       "\n",
       "                                               params  split0_test_score  \\\n",
       "57  {'weights': 'uniform', 'p': 1, 'n_neighbors': ...           0.507653   \n",
       "76  {'weights': 'uniform', 'p': 2, 'n_neighbors': ...           0.507620   \n",
       "62  {'weights': 'uniform', 'p': 2, 'n_neighbors': ...           0.507808   \n",
       "84  {'weights': 'distance', 'p': 2, 'n_neighbors':...           0.507808   \n",
       "68  {'weights': 'uniform', 'p': 4, 'n_neighbors': ...           0.507459   \n",
       "\n",
       "    split1_test_score  split2_test_score  mean_test_score  std_test_score  \\\n",
       "57           0.494099           0.499966         0.500573        0.005550   \n",
       "76           0.493898           0.499831         0.500450        0.005619   \n",
       "62           0.493125           0.499730         0.500221        0.006004   \n",
       "84           0.493125           0.499730         0.500221        0.006004   \n",
       "68           0.493260           0.499696         0.500139        0.005805   \n",
       "\n",
       "    rank_test_score  \n",
       "57                1  \n",
       "76                2  \n",
       "62                3  \n",
       "84                3  \n",
       "68                5  "
      ]
     },
     "execution_count": 82,
     "metadata": {},
     "output_type": "execute_result"
    }
   ],
   "source": [
    "# summary table with results sorted from the best ranked parameters\n",
    "table_results = pd.DataFrame(random_search.cv_results_)\n",
    "table_results_sorted = table_results.sort_values(by='rank_test_score')\n",
    "table_results_sorted.head()"
   ]
  },
  {
   "cell_type": "code",
   "execution_count": 108,
   "id": "bbc59df2",
   "metadata": {},
   "outputs": [
    {
     "data": {
      "text/plain": [
       "{'weights': 'uniform',\n",
       " 'p': 2,\n",
       " 'n_neighbors': 9,\n",
       " 'leaf_size': 15,\n",
       " 'algorithm': 'brute'}"
      ]
     },
     "execution_count": 108,
     "metadata": {},
     "output_type": "execute_result"
    }
   ],
   "source": [
    "table_results_sorted['params'].iloc[10]"
   ]
  },
  {
   "cell_type": "code",
   "execution_count": 89,
   "id": "c4c5e218",
   "metadata": {
    "id": "lVX7kxSQLBmJ"
   },
   "outputs": [
    {
     "name": "stdout",
     "output_type": "stream",
     "text": [
      "Mean_F1_score:  0.49\n",
      "Best parameters: \n",
      "{'algorithm': 'kd_tree',\n",
      " 'leaf_size': 15,\n",
      " 'n_neighbors': 1,\n",
      " 'p': 1,\n",
      " 'weights': 'uniform'}\n"
     ]
    }
   ],
   "source": [
    "# mean scoring value\n",
    "f1_score_random = random_search.cv_results_['mean_test_score']\n",
    "mean_f1_score_random = f1_score_random[~np.isnan(f1_score_random)].mean()\n",
    "print(\"Mean_F1_score: \", np.around(mean_f1_score_random, 2))\n",
    "best_param_random = random_search.best_params_\n",
    "print(\"Best parameters: \")\n",
    "pprint(best_param_random)"
   ]
  },
  {
   "cell_type": "code",
   "execution_count": 109,
   "id": "184cb8b6",
   "metadata": {
    "colab": {
     "base_uri": "https://localhost:8080/"
    },
    "executionInfo": {
     "elapsed": 667425,
     "status": "ok",
     "timestamp": 1639347234939,
     "user": {
      "displayName": "Diego Felipe",
      "photoUrl": "https://lh3.googleusercontent.com/a-/AOh14Gh0OKIXgJWrcnWQIssC8wN39DTk9Z2eP49s3J9o=s64",
      "userId": "10648197522699844119"
     },
     "user_tz": 180
    },
    "id": "2bfe05aa",
    "outputId": "c10207c8-15d7-49c5-8107-318fe9b88a8f"
   },
   "outputs": [
    {
     "name": "stdout",
     "output_type": "stream",
     "text": [
      "0.02 0.04 0.06 0.08 0.1 0.12 0.14 0.16 0.18 0.2 0.22 0.24 0.26 0.28 0.3 0.32 0.34 0.36 0.38 0.4 0.42 0.44 0.46 0.48 0.5 0.52 0.54 0.56 0.58 0.6 0.62 0.64 0.66 0.68 0.7 0.72 0.74 0.76 0.78 0.8 0.82 0.84 0.86 0.88 0.9 0.92 0.94 0.96 0.98 1.0 Wall time: 15min 9s\n"
     ]
    }
   ],
   "source": [
    "%%time\n",
    "# running KNN\n",
    "model = KNeighborsClassifier(n_neighbors=9,\n",
    "                             p=2,\n",
    "                             algorithm='brute',\n",
    "                             leaf_size=15,\n",
    "                             weights='uniform',\n",
    "                             n_jobs=-1)\n",
    "# fitting the model\n",
    "model.fit(X_train, y_train)\n",
    "\n",
    "# working out prediction\n",
    "y_proba = model.predict_proba(X_test)[:, 1]\n",
    "results_test = pd.DataFrame(zip(y_test, np.around(y_proba, 3)), columns=['target', 'proba'])\n",
    "df_results = best_classification_split_score(results_test, threshold_increment=0.02,colum_probabilities='proba')\n",
    "\n",
    "#KNeighborsClassifier(weights='uniform', n_neighbors=9, metric='manhattan', algorithm='auto', n_jobs=-1)"
   ]
  },
  {
   "cell_type": "code",
   "execution_count": 112,
   "id": "660ccdb2",
   "metadata": {
    "collapsed": true
   },
   "outputs": [
    {
     "data": {
      "text/html": [
       "<div>\n",
       "<style scoped>\n",
       "    .dataframe tbody tr th:only-of-type {\n",
       "        vertical-align: middle;\n",
       "    }\n",
       "\n",
       "    .dataframe tbody tr th {\n",
       "        vertical-align: top;\n",
       "    }\n",
       "\n",
       "    .dataframe thead th {\n",
       "        text-align: right;\n",
       "    }\n",
       "</style>\n",
       "<table border=\"1\" class=\"dataframe\">\n",
       "  <thead>\n",
       "    <tr style=\"text-align: right;\">\n",
       "      <th></th>\n",
       "      <th>threshold</th>\n",
       "      <th>TN</th>\n",
       "      <th>FN</th>\n",
       "      <th>FP</th>\n",
       "      <th>TP</th>\n",
       "      <th>precision</th>\n",
       "      <th>recall</th>\n",
       "      <th>accuracy</th>\n",
       "      <th>f0_score</th>\n",
       "      <th>f1_score</th>\n",
       "    </tr>\n",
       "  </thead>\n",
       "  <tbody>\n",
       "    <tr>\n",
       "      <th>0</th>\n",
       "      <td>0.02</td>\n",
       "      <td>4740</td>\n",
       "      <td>2326</td>\n",
       "      <td>120085</td>\n",
       "      <td>96180</td>\n",
       "      <td>0.4447</td>\n",
       "      <td>0.9764</td>\n",
       "      <td>0.4519</td>\n",
       "      <td>0.0719</td>\n",
       "      <td>0.6111</td>\n",
       "    </tr>\n",
       "    <tr>\n",
       "      <th>1</th>\n",
       "      <td>0.04</td>\n",
       "      <td>4740</td>\n",
       "      <td>2326</td>\n",
       "      <td>120085</td>\n",
       "      <td>96180</td>\n",
       "      <td>0.4447</td>\n",
       "      <td>0.9764</td>\n",
       "      <td>0.4519</td>\n",
       "      <td>0.0719</td>\n",
       "      <td>0.6111</td>\n",
       "    </tr>\n",
       "    <tr>\n",
       "      <th>2</th>\n",
       "      <td>0.06</td>\n",
       "      <td>4740</td>\n",
       "      <td>2326</td>\n",
       "      <td>120085</td>\n",
       "      <td>96180</td>\n",
       "      <td>0.4447</td>\n",
       "      <td>0.9764</td>\n",
       "      <td>0.4519</td>\n",
       "      <td>0.0719</td>\n",
       "      <td>0.6111</td>\n",
       "    </tr>\n",
       "    <tr>\n",
       "      <th>3</th>\n",
       "      <td>0.08</td>\n",
       "      <td>4740</td>\n",
       "      <td>2326</td>\n",
       "      <td>120085</td>\n",
       "      <td>96180</td>\n",
       "      <td>0.4447</td>\n",
       "      <td>0.9764</td>\n",
       "      <td>0.4519</td>\n",
       "      <td>0.0719</td>\n",
       "      <td>0.6111</td>\n",
       "    </tr>\n",
       "    <tr>\n",
       "      <th>4</th>\n",
       "      <td>0.10</td>\n",
       "      <td>4740</td>\n",
       "      <td>2326</td>\n",
       "      <td>120085</td>\n",
       "      <td>96180</td>\n",
       "      <td>0.4447</td>\n",
       "      <td>0.9764</td>\n",
       "      <td>0.4519</td>\n",
       "      <td>0.0719</td>\n",
       "      <td>0.6111</td>\n",
       "    </tr>\n",
       "  </tbody>\n",
       "</table>\n",
       "</div>"
      ],
      "text/plain": [
       "   threshold    TN    FN      FP     TP  precision  recall  accuracy  \\\n",
       "0       0.02  4740  2326  120085  96180     0.4447  0.9764    0.4519   \n",
       "1       0.04  4740  2326  120085  96180     0.4447  0.9764    0.4519   \n",
       "2       0.06  4740  2326  120085  96180     0.4447  0.9764    0.4519   \n",
       "3       0.08  4740  2326  120085  96180     0.4447  0.9764    0.4519   \n",
       "4       0.10  4740  2326  120085  96180     0.4447  0.9764    0.4519   \n",
       "\n",
       "   f0_score  f1_score  \n",
       "0    0.0719    0.6111  \n",
       "1    0.0719    0.6111  \n",
       "2    0.0719    0.6111  \n",
       "3    0.0719    0.6111  \n",
       "4    0.0719    0.6111  "
      ]
     },
     "execution_count": 112,
     "metadata": {},
     "output_type": "execute_result"
    }
   ],
   "source": [
    "# organizing values where recall >= 0.97 and with the best f1-score\n",
    "df_results[df_results['recall'] >= 0.97].sort_values(by=['f1_score'], ascending=False)"
   ]
  },
  {
   "cell_type": "markdown",
   "id": "c7a233b3",
   "metadata": {},
   "source": [
    "**Comments:** Thresholds between 0.02 and 0.10 yielded the highest combinations of recall, precision and f1-score values."
   ]
  },
  {
   "cell_type": "code",
   "execution_count": 113,
   "id": "2412915a",
   "metadata": {
    "colab": {
     "base_uri": "https://localhost:8080/",
     "height": 217
    },
    "collapsed": true,
    "executionInfo": {
     "elapsed": 283,
     "status": "error",
     "timestamp": 1639346383795,
     "user": {
      "displayName": "Diego Felipe",
      "photoUrl": "https://lh3.googleusercontent.com/a-/AOh14Gh0OKIXgJWrcnWQIssC8wN39DTk9Z2eP49s3J9o=s64",
      "userId": "10648197522699844119"
     },
     "user_tz": 180
    },
    "id": "9d2990b8",
    "outputId": "9b68b1d3-08b9-46fe-d92f-c43a85fba610"
   },
   "outputs": [
    {
     "data": {
      "image/png": "[encoded data removed]",
      "text/plain": [
       "<Figure size 576x432 with 1 Axes>"
      ]
     },
     "metadata": {
      "needs_background": "light"
     },
     "output_type": "display_data"
    }
   ],
   "source": [
    "# Curva F1-Score\n",
    "\n",
    "# Cria o plot\n",
    "grap = df_results[df_results[\"threshold\"] > 0.0].plot(kind=\"scatter\", \n",
    "                                                         x=\"threshold\", \n",
    "                                                         y=\"f1_score\", \n",
    "                                                         grid=False, \n",
    "                                                         legend=True, \n",
    "                                                         title=\"F1-Score\",\n",
    "                                                         figsize=[8,6])\n",
    "# Configurações do gráfico\n",
    "grap.set(xlabel=\"Threshold\", \n",
    "            ylabel=\"F1 Score\", \n",
    "            xlim=(0.0,1.02), \n",
    "            ylim=(0.0,1.0))\n",
    "\n",
    "# mostra o gráfico\n",
    "plt.show()"
   ]
  },
  {
   "cell_type": "code",
   "execution_count": 116,
   "id": "bf4f53ba",
   "metadata": {
    "id": "c957605e",
    "outputId": "ae4decad-02a6-46a6-e1b9-6e3e8c691253",
    "scrolled": true
   },
   "outputs": [
    {
     "name": "stdout",
     "output_type": "stream",
     "text": [
      "Class report test\n",
      "               precision    recall  f1-score   support\n",
      "\n",
      "           0       0.67      0.04      0.07    124825\n",
      "           1       0.44      0.98      0.61     98506\n",
      "\n",
      "    accuracy                           0.45    223331\n",
      "   macro avg       0.56      0.51      0.34    223331\n",
      "weighted avg       0.57      0.45      0.31    223331\n",
      "\n"
     ]
    },
    {
     "data": {
      "image/png": "[encoded data removed]",
      "text/plain": [
       "<Figure size 432x288 with 1 Axes>"
      ]
     },
     "metadata": {
      "needs_background": "light"
     },
     "output_type": "display_data"
    },
    {
     "name": "stdout",
     "output_type": "stream",
     "text": [
      "\n",
      " Class report validation\n",
      "               precision    recall  f1-score   support\n",
      "\n",
      "           0       0.55      0.03      0.06    124825\n",
      "           1       0.44      0.97      0.61     98506\n",
      "\n",
      "    accuracy                           0.44    223331\n",
      "   macro avg       0.49      0.50      0.33    223331\n",
      "weighted avg       0.50      0.44      0.30    223331\n",
      "\n"
     ]
    },
    {
     "data": {
      "image/png": "[encoded data removed]",
      "text/plain": [
       "<Figure size 432x288 with 1 Axes>"
      ]
     },
     "metadata": {
      "needs_background": "light"
     },
     "output_type": "display_data"
    }
   ],
   "source": [
    "# prediction validation\n",
    "y_proba_val = model.predict_proba(X_validation)[:, 1]\n",
    "# Cria a resposta com o novo threshold\n",
    "y_pred_test = np.where(y_proba >= 0.1, 1, 0)\n",
    "y_pred_val = np.where(y_proba_val >= 0.1, 1, 0)\n",
    "\n",
    "# metrics\n",
    "cr_test, cm_test = classification_report(y_test, y_pred_test), confusion_matrix(y_test, y_pred_test)\n",
    "cr_val, cm_val = classification_report(y_test, y_pred_val), confusion_matrix(y_test, y_pred_val)\n",
    "print('Class report test\\n',cr_test)\n",
    "plot_confusion_matrix(cm_test)\n",
    "plt.show()\n",
    "\n",
    "print('\\n', 'Class report validation\\n', cr_val)\n",
    "plot_confusion_matrix(cm_val)\n",
    "\n",
    "plt.show()"
   ]
  },
  {
   "cell_type": "markdown",
   "id": "d616ac3a",
   "metadata": {},
   "source": [
    "**Comments:** Using 0.10 as cutoff point, precision, recall and f1-score were all optimized to find positive individuals."
   ]
  },
  {
   "cell_type": "code",
   "execution_count": null,
   "id": "dc6c2372",
   "metadata": {
    "id": "f9954e20"
   },
   "outputs": [],
   "source": []
  },
  {
   "cell_type": "markdown",
   "id": "b69f986f",
   "metadata": {
    "id": "821a5b95"
   },
   "source": [
    "##### Gradient boosting classifier improvment"
   ]
  },
  {
   "cell_type": "code",
   "execution_count": 74,
   "id": "a9b40e9d",
   "metadata": {
    "collapsed": true,
    "id": "84ac9f1f"
   },
   "outputs": [
    {
     "name": "stdout",
     "output_type": "stream",
     "text": [
      "{'learning_rate': [0.001, 0.01, 0.1],\n",
      " 'max_depth': [2, 3, 5],\n",
      " 'min_samples_leaf': [1, 2, 4],\n",
      " 'min_samples_split': [2, 3, 4],\n",
      " 'n_estimators': [100, 250, 500]}\n",
      "Fitting 3 folds for each of 100 candidates, totalling 300 fits\n",
      "Wall time: 55min 24s\n"
     ]
    },
    {
     "data": {
      "text/plain": [
       "RandomizedSearchCV(cv=StratifiedKFold(n_splits=3, random_state=7, shuffle=True),\n",
       "                   estimator=GradientBoostingClassifier(random_state=42),\n",
       "                   n_iter=100, n_jobs=-1,\n",
       "                   param_distributions={'learning_rate': [0.001, 0.01, 0.1],\n",
       "                                        'max_depth': [2, 3, 5],\n",
       "                                        'min_samples_leaf': [1, 2, 4],\n",
       "                                        'min_samples_split': [2, 3, 4],\n",
       "                                        'n_estimators': [100, 250, 500]},\n",
       "                   random_state=42, scoring='f1', verbose=5)"
      ]
     },
     "execution_count": 74,
     "metadata": {},
     "output_type": "execute_result"
    }
   ],
   "source": [
    "%%time\n",
    "# parameter grid -> Due to the dataset's size train_size was descreased to only 10% of the total only for KNN optimization (test_size=0.9)\n",
    "## learning_rate\n",
    "learning_rate = [0.001, 0.01, 0.1]\n",
    "\n",
    "## n_estimators\n",
    "n_estimators = [100, 250, 500]\n",
    "\n",
    "## min_samples_split\n",
    "min_samples_split = [2, 3, 4]\n",
    "\n",
    "## class min_samples_leaf \n",
    "min_samples_leaf = [1, 2, 4]\n",
    "\n",
    "## max_depth \n",
    "max_depth = [2, 3, 5]\n",
    "\n",
    "## creating a random grid\n",
    "param_distributions = {\"learning_rate\":learning_rate,\n",
    "                       'n_estimators': n_estimators,\n",
    "                       'min_samples_split':min_samples_split,\n",
    "                       'min_samples_leaf':min_samples_leaf,\n",
    "                       'max_depth': max_depth}\n",
    "\n",
    "## model\n",
    "model = GradientBoostingClassifier(random_state=42)\n",
    "\n",
    "## display\n",
    "pprint(param_distributions)\n",
    "\n",
    "## setting the randomized search\n",
    "kfold = StratifiedKFold(n_splits=3, shuffle=True, random_state=7)\n",
    "random_search = RandomizedSearchCV(estimator=model,\n",
    "                                   param_distributions=param_distributions,\n",
    "                                   scoring='f1',\n",
    "                                   n_iter = 100, \n",
    "                                   cv = kfold, \n",
    "                                   verbose=5,\n",
    "                                   n_jobs = -1,\n",
    "                                   random_state=42)\n",
    "# fitting\n",
    "random_search.fit(X_train, y_train)"
   ]
  },
  {
   "cell_type": "code",
   "execution_count": 75,
   "id": "bc276a06",
   "metadata": {
    "collapsed": true
   },
   "outputs": [
    {
     "data": {
      "text/html": [
       "<div>\n",
       "<style scoped>\n",
       "    .dataframe tbody tr th:only-of-type {\n",
       "        vertical-align: middle;\n",
       "    }\n",
       "\n",
       "    .dataframe tbody tr th {\n",
       "        vertical-align: top;\n",
       "    }\n",
       "\n",
       "    .dataframe thead th {\n",
       "        text-align: right;\n",
       "    }\n",
       "</style>\n",
       "<table border=\"1\" class=\"dataframe\">\n",
       "  <thead>\n",
       "    <tr style=\"text-align: right;\">\n",
       "      <th></th>\n",
       "      <th>mean_fit_time</th>\n",
       "      <th>std_fit_time</th>\n",
       "      <th>mean_score_time</th>\n",
       "      <th>std_score_time</th>\n",
       "      <th>param_n_estimators</th>\n",
       "      <th>param_min_samples_split</th>\n",
       "      <th>param_min_samples_leaf</th>\n",
       "      <th>param_max_depth</th>\n",
       "      <th>param_learning_rate</th>\n",
       "      <th>params</th>\n",
       "      <th>split0_test_score</th>\n",
       "      <th>split1_test_score</th>\n",
       "      <th>split2_test_score</th>\n",
       "      <th>mean_test_score</th>\n",
       "      <th>std_test_score</th>\n",
       "      <th>rank_test_score</th>\n",
       "    </tr>\n",
       "  </thead>\n",
       "  <tbody>\n",
       "    <tr>\n",
       "      <th>16</th>\n",
       "      <td>117.469078</td>\n",
       "      <td>3.846513</td>\n",
       "      <td>0.538970</td>\n",
       "      <td>0.045437</td>\n",
       "      <td>500</td>\n",
       "      <td>2</td>\n",
       "      <td>4</td>\n",
       "      <td>5</td>\n",
       "      <td>0.1</td>\n",
       "      <td>{'n_estimators': 500, 'min_samples_split': 2, ...</td>\n",
       "      <td>0.462945</td>\n",
       "      <td>0.452099</td>\n",
       "      <td>0.448368</td>\n",
       "      <td>0.454471</td>\n",
       "      <td>0.006183</td>\n",
       "      <td>1</td>\n",
       "    </tr>\n",
       "    <tr>\n",
       "      <th>25</th>\n",
       "      <td>51.280816</td>\n",
       "      <td>1.176231</td>\n",
       "      <td>0.279653</td>\n",
       "      <td>0.036296</td>\n",
       "      <td>500</td>\n",
       "      <td>2</td>\n",
       "      <td>1</td>\n",
       "      <td>2</td>\n",
       "      <td>0.1</td>\n",
       "      <td>{'n_estimators': 500, 'min_samples_split': 2, ...</td>\n",
       "      <td>0.458226</td>\n",
       "      <td>0.454416</td>\n",
       "      <td>0.447840</td>\n",
       "      <td>0.453494</td>\n",
       "      <td>0.004290</td>\n",
       "      <td>2</td>\n",
       "    </tr>\n",
       "    <tr>\n",
       "      <th>46</th>\n",
       "      <td>52.299173</td>\n",
       "      <td>0.325201</td>\n",
       "      <td>0.252320</td>\n",
       "      <td>0.018192</td>\n",
       "      <td>500</td>\n",
       "      <td>3</td>\n",
       "      <td>1</td>\n",
       "      <td>2</td>\n",
       "      <td>0.1</td>\n",
       "      <td>{'n_estimators': 500, 'min_samples_split': 3, ...</td>\n",
       "      <td>0.458226</td>\n",
       "      <td>0.454416</td>\n",
       "      <td>0.447840</td>\n",
       "      <td>0.453494</td>\n",
       "      <td>0.004290</td>\n",
       "      <td>2</td>\n",
       "    </tr>\n",
       "    <tr>\n",
       "      <th>13</th>\n",
       "      <td>52.862942</td>\n",
       "      <td>1.035030</td>\n",
       "      <td>0.316981</td>\n",
       "      <td>0.023250</td>\n",
       "      <td>500</td>\n",
       "      <td>4</td>\n",
       "      <td>1</td>\n",
       "      <td>2</td>\n",
       "      <td>0.1</td>\n",
       "      <td>{'n_estimators': 500, 'min_samples_split': 4, ...</td>\n",
       "      <td>0.458226</td>\n",
       "      <td>0.454416</td>\n",
       "      <td>0.447840</td>\n",
       "      <td>0.453494</td>\n",
       "      <td>0.004290</td>\n",
       "      <td>2</td>\n",
       "    </tr>\n",
       "    <tr>\n",
       "      <th>12</th>\n",
       "      <td>117.198994</td>\n",
       "      <td>2.801906</td>\n",
       "      <td>0.529637</td>\n",
       "      <td>0.025251</td>\n",
       "      <td>500</td>\n",
       "      <td>2</td>\n",
       "      <td>2</td>\n",
       "      <td>5</td>\n",
       "      <td>0.1</td>\n",
       "      <td>{'n_estimators': 500, 'min_samples_split': 2, ...</td>\n",
       "      <td>0.460857</td>\n",
       "      <td>0.449084</td>\n",
       "      <td>0.449764</td>\n",
       "      <td>0.453235</td>\n",
       "      <td>0.005397</td>\n",
       "      <td>5</td>\n",
       "    </tr>\n",
       "  </tbody>\n",
       "</table>\n",
       "</div>"
      ],
      "text/plain": [
       "    mean_fit_time  std_fit_time  mean_score_time  std_score_time  \\\n",
       "16     117.469078      3.846513         0.538970        0.045437   \n",
       "25      51.280816      1.176231         0.279653        0.036296   \n",
       "46      52.299173      0.325201         0.252320        0.018192   \n",
       "13      52.862942      1.035030         0.316981        0.023250   \n",
       "12     117.198994      2.801906         0.529637        0.025251   \n",
       "\n",
       "   param_n_estimators param_min_samples_split param_min_samples_leaf  \\\n",
       "16                500                       2                      4   \n",
       "25                500                       2                      1   \n",
       "46                500                       3                      1   \n",
       "13                500                       4                      1   \n",
       "12                500                       2                      2   \n",
       "\n",
       "   param_max_depth param_learning_rate  \\\n",
       "16               5                 0.1   \n",
       "25               2                 0.1   \n",
       "46               2                 0.1   \n",
       "13               2                 0.1   \n",
       "12               5                 0.1   \n",
       "\n",
       "                                               params  split0_test_score  \\\n",
       "16  {'n_estimators': 500, 'min_samples_split': 2, ...           0.462945   \n",
       "25  {'n_estimators': 500, 'min_samples_split': 2, ...           0.458226   \n",
       "46  {'n_estimators': 500, 'min_samples_split': 3, ...           0.458226   \n",
       "13  {'n_estimators': 500, 'min_samples_split': 4, ...           0.458226   \n",
       "12  {'n_estimators': 500, 'min_samples_split': 2, ...           0.460857   \n",
       "\n",
       "    split1_test_score  split2_test_score  mean_test_score  std_test_score  \\\n",
       "16           0.452099           0.448368         0.454471        0.006183   \n",
       "25           0.454416           0.447840         0.453494        0.004290   \n",
       "46           0.454416           0.447840         0.453494        0.004290   \n",
       "13           0.454416           0.447840         0.453494        0.004290   \n",
       "12           0.449084           0.449764         0.453235        0.005397   \n",
       "\n",
       "    rank_test_score  \n",
       "16                1  \n",
       "25                2  \n",
       "46                2  \n",
       "13                2  \n",
       "12                5  "
      ]
     },
     "execution_count": 75,
     "metadata": {},
     "output_type": "execute_result"
    }
   ],
   "source": [
    "# summary table with results sorted from the best ranked parameters\n",
    "table_results = pd.DataFrame(random_search.cv_results_)\n",
    "table_results_sorted = table_results.sort_values(by='rank_test_score')\n",
    "table_results_sorted.head()"
   ]
  },
  {
   "cell_type": "code",
   "execution_count": 76,
   "id": "3ebd7a4a",
   "metadata": {
    "collapsed": true
   },
   "outputs": [
    {
     "name": "stdout",
     "output_type": "stream",
     "text": [
      "Mean_F1_score:  0.34\n",
      "Best parameters: \n",
      "{'learning_rate': 0.1,\n",
      " 'max_depth': 5,\n",
      " 'min_samples_leaf': 4,\n",
      " 'min_samples_split': 2,\n",
      " 'n_estimators': 500}\n"
     ]
    }
   ],
   "source": [
    "# mean scoring value\n",
    "f1_score_random = random_search.cv_results_['mean_test_score']\n",
    "mean_f1_score_random = f1_score_random[~np.isnan(f1_score_random)].mean()\n",
    "print(\"Mean_F1_score: \", np.around(mean_f1_score_random, 2))\n",
    "best_param_random = random_search.best_params_\n",
    "print(\"Best parameters: \")\n",
    "pprint(best_param_random)"
   ]
  },
  {
   "cell_type": "code",
   "execution_count": 127,
   "id": "aed18e49",
   "metadata": {
    "id": "1737faaa"
   },
   "outputs": [
    {
     "name": "stdout",
     "output_type": "stream",
     "text": [
      "0.02 0.04 0.06 0.08 0.1 0.12 0.14 0.16 0.18 0.2 0.22 0.24 0.26 0.28 0.3 0.32 0.34 0.36 0.38 0.4 0.42 0.44 0.46 0.48 0.5 0.52 0.54 0.56 0.58 0.6 0.62 0.64 0.66 0.68 0.7 0.72 0.74 0.76 0.78 0.8 0.82 0.84 0.86 0.88 0.9 0.92 0.94 0.96 0.98 1.0 Wall time: 56.9 s\n"
     ]
    }
   ],
   "source": [
    "%%time\n",
    "model = GradientBoostingClassifier(n_estimators=500,\n",
    "                                   learning_rate=0.1,\n",
    "                                   max_depth=5,\n",
    "                                   min_samples_leaf=4,\n",
    "                                   min_samples_split=2,\n",
    "                                   random_state=42)\n",
    "# fitting the model\n",
    "model.fit(X_train, y_train)\n",
    "\n",
    "# working out prediction\n",
    "y_proba = model.predict_proba(X_test)[:, 1]\n",
    "results_test = pd.DataFrame(zip(y_test, np.around(y_proba, 3)), columns=['target', 'proba'])\n",
    "df_results = best_classification_split_score(results_test, threshold_increment=0.02,colum_probabilities='proba')"
   ]
  },
  {
   "cell_type": "code",
   "execution_count": 118,
   "id": "6c60ad57",
   "metadata": {
    "collapsed": true,
    "id": "1737faaa"
   },
   "outputs": [
    {
     "data": {
      "text/html": [
       "<div>\n",
       "<style scoped>\n",
       "    .dataframe tbody tr th:only-of-type {\n",
       "        vertical-align: middle;\n",
       "    }\n",
       "\n",
       "    .dataframe tbody tr th {\n",
       "        vertical-align: top;\n",
       "    }\n",
       "\n",
       "    .dataframe thead th {\n",
       "        text-align: right;\n",
       "    }\n",
       "</style>\n",
       "<table border=\"1\" class=\"dataframe\">\n",
       "  <thead>\n",
       "    <tr style=\"text-align: right;\">\n",
       "      <th></th>\n",
       "      <th>threshold</th>\n",
       "      <th>TN</th>\n",
       "      <th>FN</th>\n",
       "      <th>FP</th>\n",
       "      <th>TP</th>\n",
       "      <th>precision</th>\n",
       "      <th>recall</th>\n",
       "      <th>accuracy</th>\n",
       "      <th>f0_score</th>\n",
       "      <th>f1_score</th>\n",
       "    </tr>\n",
       "  </thead>\n",
       "  <tbody>\n",
       "    <tr>\n",
       "      <th>10</th>\n",
       "      <td>0.22</td>\n",
       "      <td>5066</td>\n",
       "      <td>1881</td>\n",
       "      <td>119759</td>\n",
       "      <td>96625</td>\n",
       "      <td>0.4465</td>\n",
       "      <td>0.9809</td>\n",
       "      <td>0.4553</td>\n",
       "      <td>0.0769</td>\n",
       "      <td>0.6137</td>\n",
       "    </tr>\n",
       "    <tr>\n",
       "      <th>9</th>\n",
       "      <td>0.20</td>\n",
       "      <td>4180</td>\n",
       "      <td>1508</td>\n",
       "      <td>120645</td>\n",
       "      <td>96998</td>\n",
       "      <td>0.4457</td>\n",
       "      <td>0.9847</td>\n",
       "      <td>0.4530</td>\n",
       "      <td>0.0641</td>\n",
       "      <td>0.6136</td>\n",
       "    </tr>\n",
       "    <tr>\n",
       "      <th>8</th>\n",
       "      <td>0.18</td>\n",
       "      <td>3620</td>\n",
       "      <td>1282</td>\n",
       "      <td>121205</td>\n",
       "      <td>97224</td>\n",
       "      <td>0.4451</td>\n",
       "      <td>0.9870</td>\n",
       "      <td>0.4515</td>\n",
       "      <td>0.0558</td>\n",
       "      <td>0.6135</td>\n",
       "    </tr>\n",
       "    <tr>\n",
       "      <th>7</th>\n",
       "      <td>0.16</td>\n",
       "      <td>2803</td>\n",
       "      <td>978</td>\n",
       "      <td>122022</td>\n",
       "      <td>97528</td>\n",
       "      <td>0.4442</td>\n",
       "      <td>0.9901</td>\n",
       "      <td>0.4492</td>\n",
       "      <td>0.0436</td>\n",
       "      <td>0.6133</td>\n",
       "    </tr>\n",
       "    <tr>\n",
       "      <th>6</th>\n",
       "      <td>0.14</td>\n",
       "      <td>2155</td>\n",
       "      <td>728</td>\n",
       "      <td>122670</td>\n",
       "      <td>97778</td>\n",
       "      <td>0.4435</td>\n",
       "      <td>0.9926</td>\n",
       "      <td>0.4475</td>\n",
       "      <td>0.0337</td>\n",
       "      <td>0.6131</td>\n",
       "    </tr>\n",
       "    <tr>\n",
       "      <th>5</th>\n",
       "      <td>0.12</td>\n",
       "      <td>1757</td>\n",
       "      <td>593</td>\n",
       "      <td>123068</td>\n",
       "      <td>97913</td>\n",
       "      <td>0.4431</td>\n",
       "      <td>0.9940</td>\n",
       "      <td>0.4463</td>\n",
       "      <td>0.0276</td>\n",
       "      <td>0.6129</td>\n",
       "    </tr>\n",
       "    <tr>\n",
       "      <th>3</th>\n",
       "      <td>0.08</td>\n",
       "      <td>1011</td>\n",
       "      <td>310</td>\n",
       "      <td>123814</td>\n",
       "      <td>98196</td>\n",
       "      <td>0.4423</td>\n",
       "      <td>0.9969</td>\n",
       "      <td>0.4442</td>\n",
       "      <td>0.0160</td>\n",
       "      <td>0.6127</td>\n",
       "    </tr>\n",
       "    <tr>\n",
       "      <th>4</th>\n",
       "      <td>0.10</td>\n",
       "      <td>1288</td>\n",
       "      <td>446</td>\n",
       "      <td>123537</td>\n",
       "      <td>98060</td>\n",
       "      <td>0.4425</td>\n",
       "      <td>0.9955</td>\n",
       "      <td>0.4448</td>\n",
       "      <td>0.0204</td>\n",
       "      <td>0.6127</td>\n",
       "    </tr>\n",
       "    <tr>\n",
       "      <th>2</th>\n",
       "      <td>0.06</td>\n",
       "      <td>725</td>\n",
       "      <td>206</td>\n",
       "      <td>124100</td>\n",
       "      <td>98300</td>\n",
       "      <td>0.4420</td>\n",
       "      <td>0.9979</td>\n",
       "      <td>0.4434</td>\n",
       "      <td>0.0115</td>\n",
       "      <td>0.6126</td>\n",
       "    </tr>\n",
       "    <tr>\n",
       "      <th>1</th>\n",
       "      <td>0.04</td>\n",
       "      <td>432</td>\n",
       "      <td>127</td>\n",
       "      <td>124393</td>\n",
       "      <td>98379</td>\n",
       "      <td>0.4416</td>\n",
       "      <td>0.9987</td>\n",
       "      <td>0.4424</td>\n",
       "      <td>0.0069</td>\n",
       "      <td>0.6124</td>\n",
       "    </tr>\n",
       "    <tr>\n",
       "      <th>0</th>\n",
       "      <td>0.02</td>\n",
       "      <td>218</td>\n",
       "      <td>55</td>\n",
       "      <td>124607</td>\n",
       "      <td>98451</td>\n",
       "      <td>0.4414</td>\n",
       "      <td>0.9994</td>\n",
       "      <td>0.4418</td>\n",
       "      <td>0.0035</td>\n",
       "      <td>0.6123</td>\n",
       "    </tr>\n",
       "  </tbody>\n",
       "</table>\n",
       "</div>"
      ],
      "text/plain": [
       "    threshold    TN    FN      FP     TP  precision  recall  accuracy  \\\n",
       "10       0.22  5066  1881  119759  96625     0.4465  0.9809    0.4553   \n",
       "9        0.20  4180  1508  120645  96998     0.4457  0.9847    0.4530   \n",
       "8        0.18  3620  1282  121205  97224     0.4451  0.9870    0.4515   \n",
       "7        0.16  2803   978  122022  97528     0.4442  0.9901    0.4492   \n",
       "6        0.14  2155   728  122670  97778     0.4435  0.9926    0.4475   \n",
       "5        0.12  1757   593  123068  97913     0.4431  0.9940    0.4463   \n",
       "3        0.08  1011   310  123814  98196     0.4423  0.9969    0.4442   \n",
       "4        0.10  1288   446  123537  98060     0.4425  0.9955    0.4448   \n",
       "2        0.06   725   206  124100  98300     0.4420  0.9979    0.4434   \n",
       "1        0.04   432   127  124393  98379     0.4416  0.9987    0.4424   \n",
       "0        0.02   218    55  124607  98451     0.4414  0.9994    0.4418   \n",
       "\n",
       "    f0_score  f1_score  \n",
       "10    0.0769    0.6137  \n",
       "9     0.0641    0.6136  \n",
       "8     0.0558    0.6135  \n",
       "7     0.0436    0.6133  \n",
       "6     0.0337    0.6131  \n",
       "5     0.0276    0.6129  \n",
       "3     0.0160    0.6127  \n",
       "4     0.0204    0.6127  \n",
       "2     0.0115    0.6126  \n",
       "1     0.0069    0.6124  \n",
       "0     0.0035    0.6123  "
      ]
     },
     "execution_count": 118,
     "metadata": {},
     "output_type": "execute_result"
    }
   ],
   "source": [
    "# organizing values where recall >= 0.98 and with the best f1-score\n",
    "df_results[df_results['recall'] >= 0.98].sort_values(by=['f1_score'], ascending=False)"
   ]
  },
  {
   "cell_type": "code",
   "execution_count": 79,
   "id": "b1e62e28",
   "metadata": {
    "collapsed": true
   },
   "outputs": [
    {
     "data": {
      "image/png": "[encoded data removed]",
      "text/plain": [
       "<Figure size 576x432 with 1 Axes>"
      ]
     },
     "metadata": {
      "needs_background": "light"
     },
     "output_type": "display_data"
    }
   ],
   "source": [
    "# Curva F1-Score\n",
    "\n",
    "# Cria o plot\n",
    "grap = df_results[df_results[\"threshold\"] > 0.0].plot(kind=\"scatter\", \n",
    "                                                         x=\"threshold\", \n",
    "                                                         y=\"f1_score\", \n",
    "                                                         grid=False, \n",
    "                                                         legend=True, \n",
    "                                                         title=\"F1-Score\",\n",
    "                                                         figsize=[8,6])\n",
    "# Configurações do gráfico\n",
    "grap.set(xlabel=\"Threshold\", \n",
    "            ylabel=\"F1 Score\", \n",
    "            xlim=(0.0,1.02), \n",
    "            ylim=(0.0,1.0))\n",
    "\n",
    "# mostra o gráfico\n",
    "plt.show()"
   ]
  },
  {
   "cell_type": "code",
   "execution_count": 128,
   "id": "b6419c20",
   "metadata": {
    "scrolled": true
   },
   "outputs": [
    {
     "name": "stdout",
     "output_type": "stream",
     "text": [
      "Class report test\n",
      "               precision    recall  f1-score   support\n",
      "\n",
      "           0       0.73      0.04      0.08    124825\n",
      "           1       0.45      0.98      0.61     98506\n",
      "\n",
      "    accuracy                           0.46    223331\n",
      "   macro avg       0.59      0.51      0.35    223331\n",
      "weighted avg       0.60      0.46      0.31    223331\n",
      "\n"
     ]
    },
    {
     "data": {
      "image/png": "[encoded data removed]",
      "text/plain": [
       "<Figure size 432x288 with 1 Axes>"
      ]
     },
     "metadata": {
      "needs_background": "light"
     },
     "output_type": "display_data"
    },
    {
     "name": "stdout",
     "output_type": "stream",
     "text": [
      "\n",
      " Class report validation\n",
      "               precision    recall  f1-score   support\n",
      "\n",
      "           0       0.56      0.03      0.06    124825\n",
      "           1       0.44      0.97      0.61     98506\n",
      "\n",
      "    accuracy                           0.45    223331\n",
      "   macro avg       0.50      0.50      0.33    223331\n",
      "weighted avg       0.51      0.45      0.30    223331\n",
      "\n"
     ]
    },
    {
     "data": {
      "image/png": "[encoded data removed]",
      "text/plain": [
       "<Figure size 432x288 with 1 Axes>"
      ]
     },
     "metadata": {
      "needs_background": "light"
     },
     "output_type": "display_data"
    }
   ],
   "source": [
    "# prediction validation\n",
    "y_proba_val = model.predict_proba(X_validation)[:, 1]\n",
    "# Cria a resposta com o novo threshold\n",
    "y_pred_test = np.where(y_proba >= 0.22, 1, 0)\n",
    "y_pred_val = np.where(y_proba_val >= 0.22, 1, 0)\n",
    "\n",
    "# metrics\n",
    "cr_test, cm_test = classification_report(y_test, y_pred_test), confusion_matrix(y_test, y_pred_test)\n",
    "cr_val, cm_val = classification_report(y_test, y_pred_val), confusion_matrix(y_test, y_pred_val)\n",
    "print('Class report test\\n',cr_test)\n",
    "plot_confusion_matrix(cm_test)\n",
    "plt.show()\n",
    "\n",
    "print('\\n', 'Class report validation\\n', cr_val)\n",
    "plot_confusion_matrix(cm_val)\n",
    "\n",
    "plt.show()"
   ]
  },
  {
   "cell_type": "markdown",
   "id": "07e53fba",
   "metadata": {},
   "source": [
    "**Comments:** Higher overall accurcay in comparison to Logistic regression, decision tree and KNN, though recall for output == 1 was the same gotten through the mentioned models."
   ]
  },
  {
   "cell_type": "code",
   "execution_count": null,
   "id": "4a8ee149",
   "metadata": {},
   "outputs": [],
   "source": []
  },
  {
   "cell_type": "markdown",
   "id": "f40de719",
   "metadata": {},
   "source": [
    "## Conclusions"
   ]
  },
  {
   "cell_type": "markdown",
   "id": "65f4dd8c",
   "metadata": {},
   "source": [
    "- This dataset didn't provide a clear way to achieve high precision and recall for both output == 0 and output == 1.\n",
    "- Given the nature of COVID-19 infection and the threat posed by non-diagnosed, infected people roaming free among the others, we opted for increasing the detection ratio of positive individuals, even though a consequent increase in the ratio of false positives came as side-effect.\n",
    "- A series of threshold was tested and those which yielded the highest recall and precision values for category 1 were chosen. Models were optimized through random grid search to find the best parameters in order to achieve our goals. As a result:\n",
    " - KNN, Gradient Boosting, Logistic regression and decision tree classifier provided the best results. \n",
    "- AdaBoost classifier gave a narrowed range of threshold to work with because out of this range, the model is just guessing what is positive and negative by choosing one category or the other. At 0.48 / 0.5, recall, precision and f1-score were the lowest of all tested models."
   ]
  },
  {
   "cell_type": "code",
   "execution_count": null,
   "id": "4d80ed10",
   "metadata": {},
   "outputs": [],
   "source": []
  }
 ],
 "metadata": {
  "accelerator": "TPU",
  "colab": {
   "collapsed_sections": [
    "cb40bcbc",
    "98f6928e",
    "1ARO9L5jk_kv",
    "rSV-vMA1vEY7",
    "e6df4d93",
    "d00014ef",
    "c88e0552",
    "17bc4d3d",
    "e171cc33",
    "2385d5ea",
    "5a155539",
    "61a88f1d",
    "e094bd62"
   ],
   "name": "Cópia de best_approaches.ipynb",
   "provenance": [
    {
     "file_id": "1UwIZw4GmQBigxLbCh4DXFnqrJn6Hy1ph",
     "timestamp": 1639435486140
    }
   ]
  },
  "kernelspec": {
   "display_name": "Python 3 (ipykernel)",
   "language": "python",
   "name": "python3"
  },
  "language_info": {
   "codemirror_mode": {
    "name": "ipython",
    "version": 3
   },
   "file_extension": ".py",
   "mimetype": "text/x-python",
   "name": "python",
   "nbconvert_exporter": "python",
   "pygments_lexer": "ipython3",
   "version": "3.9.7"
  }
 },
 "nbformat": 4,
 "nbformat_minor": 5
}
