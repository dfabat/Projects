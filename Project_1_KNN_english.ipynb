{
 "cells": [
  {
   "cell_type": "markdown",
   "id": "8339e1a7-c1c6-457c-b938-0a39b9fd9a7c",
   "metadata": {},
   "source": [
    "# K-Nearest Neighbors - KNN"
   ]
  },
  {
   "cell_type": "markdown",
   "id": "1c19272d-c5c6-43c3-b1bd-3735a6250c3a",
   "metadata": {},
   "source": [
    "Modelo supervisionado de machine learning que pode ser utilizado tanto para classificação, isto é, rotular os dados; quanto para regressão, ou seja, aproximar valores.\n",
    "\n",
    "## Características\n",
    "\n",
    "- Dependendo da implementação pode ser $O(n*m)$ ou $O(log(n))$\n",
    "- Simples\n",
    "- Interpretável\n",
    "- Largamente conhecido e estudado\n",
    "- Razoavelmente rápido\n",
    "\n",
    "Por conta disso é um ótimo benchmark\n"
   ]
  },
  {
   "cell_type": "markdown",
   "id": "3d2f059d-b506-45b7-8273-681da038b091",
   "metadata": {},
   "source": [
    "## Algoritmo\n",
    "\n",
    "- Passo 1: \n",
    "    Definir um valor para K\n",
    "- Passo 2: \n",
    "    Definir os K vizinhos mais próximos do ponto a ser classificado de acordo com uma função de distância.\n",
    "- Passo 3:\n",
    "    - Se for um problema de **Regressão**:\n",
    "        Calcular a **média** de todos os vizinhos.\n",
    "    - Se for um problema de **Classificação**:\n",
    "        Calcular a **moda** de todos os vizinhos.\n",
    "- Passo 4:\n",
    "    Atribuir o valor/classe ao ponto de interesse conforme cálculo do Passo 3."
   ]
  },
  {
   "cell_type": "markdown",
   "id": "34926d77-be0a-4b4e-9431-a722e3fc2a6b",
   "metadata": {},
   "source": [
    "## About the project:\n",
    "\n",
    "### Data\n",
    "The dataset below refers to the registration system and client's portfolio from a broker. The system classifies the investor profile as **'Conservative'**, **'Moderate'** or **'Agressive'**. Here, we aim to classify new investors based on the profile of already-classified investors in order to provide products and services that fit the new investor's needs.\n",
    "\n",
    "The dataset below holds the following pattern:\n",
    "[**ID**: INT, **Investor profile**: STRING, **Investiment portfolio**: TUPLE]\n",
    "\n",
    "### Rules:\n",
    "- If a function is needed, you must draw it\n",
    "- Only Python built-in functions are allowed. Do not use any module or library like numpy or math\n",
    "- Only use the knowledge acquired so far during the courses (basics on numbers, strings, list, tuple, dictionary, flow control and functions)."
   ]
  },
  {
   "cell_type": "markdown",
   "id": "9f2f8103",
   "metadata": {},
   "source": [
    "# Dataset"
   ]
  },
  {
   "cell_type": "code",
   "execution_count": 25,
   "id": "1e6b83e0-af8f-4f35-ade9-7efa66ea2625",
   "metadata": {
    "tags": []
   },
   "outputs": [],
   "source": [
    "data = [[66707599984, 'Conservative', (5100.0, 3500.0, 1400.0, 200.0)],\n",
    " [55695397315, 'Conservative', (4900.0, 3000.0, 1400.0, 200.0)],\n",
    " [63743886918, 'Conservative', (4700.0, 3200.0, 1300.0, 200.0)],\n",
    " [55941368774, 'Conservative', (4600.0, 3100.0, 1500.0, 200.0)],\n",
    " [75486280874, 'Conservative', (5000.0, 3600.0, 1400.0, 200.0)],\n",
    " [53164949799, 'Conservative', (5400.0, 3900.0, 1700.0, 400.0)],\n",
    " [39898704131, 'Conservative', (4600.0, 3400.0, 1400.0, 300.0)],\n",
    " [53740901207, 'Conservative', (5000.0, 3400.0, 1500.0, 200.0)],\n",
    " [51735950236, 'Conservative', (4400.0, 2900.0, 1400.0, 200.0)],\n",
    " [47305108951, 'Conservative', (4900.0, 3100.0, 1500.0, 100.0)],\n",
    " [63858864633, 'Conservative', (5400.0, 3700.0, 1500.0, 200.0)],\n",
    " [53363167240, 'Conservative', (4800.0, 3400.0, 1600.0, 200.0)],\n",
    " [72133754195, 'Conservative', (4800.0, 3000.0, 1400.0, 100.0)],\n",
    " [52802483512, 'Conservative', (4300.0, 3000.0, 1100.0, 100.0)],\n",
    " [57925287214, 'Conservative', (4800.0, 3400.0, 1900.0, 200.0)],\n",
    " [74354632224, 'Conservative', (5000.0, 3000.0, 1600.0, 200.0)],\n",
    " [64020216626, 'Conservative', (5000.0, 3400.0, 1600.0, 400.0)],\n",
    " [78223722856, 'Conservative', (5200.0, 3500.0, 1500.0, 200.0)],\n",
    " [58245228846, 'Conservative', (5200.0, 3400.0, 1400.0, 200.0)],\n",
    " [74490686776, 'Conservative', (4700.0, 3200.0, 1600.0, 200.0)],\n",
    " [48646824781, 'Conservative', (4800.0, 3100.0, 1600.0, 200.0)],\n",
    " [77381458676, 'Conservative', (5400.0, 3400.0, 1500.0, 400.0)],\n",
    " [41615431874, 'Conservative', (5200.0, 4100.0, 1500.0, 100.0)],\n",
    " [52163844491, 'Conservative', (5500.0, 4200.0, 1400.0, 200.0)],\n",
    " [70276304567, 'Conservative', (4900.0, 3100.0, 1500.0, 200.0)],\n",
    " [69119828185, 'Conservative', (5000.0, 3200.0, 1200.0, 200.0)],\n",
    " [65441690046, 'Conservative', (5500.0, 3500.0, 1300.0, 200.0)],\n",
    " [56457227894, 'Conservative', (4900.0, 3600.0, 1400.0, 100.0)],\n",
    " [46939428126, 'Conservative', (4400.0, 3000.0, 1300.0, 200.0)],\n",
    " [60979942480, 'Conservative', (5100.0, 3400.0, 1500.0, 200.0)],\n",
    " [41648583220, 'Conservative', (5000.0, 3500.0, 1300.0, 300.0)],\n",
    " [50376331791, 'Conservative', (4500.0, 2300.0, 1300.0, 300.0)],\n",
    " [67008801023, 'Conservative', (4400.0, 3200.0, 1300.0, 200.0)],\n",
    " [72149193419, 'Conservative', (5000.0, 3500.0, 1600.0, 600.0)],\n",
    " [62830733382, 'Conservative', (5100.0, 3800.0, 1900.0, 400.0)],\n",
    " [56716675811, 'Conservative', (4800.0, 3000.0, 1400.0, 300.0)],\n",
    " [61089667146, 'Conservative', (5100.0, 3800.0, 1600.0, 200.0)],\n",
    " [47795509468, 'Conservative', (4600.0, 3200.0, 1400.0, 200.0)],\n",
    " [60899885693, 'Conservative', (5300.0, 3700.0, 1500.0, 200.0)],\n",
    " [53433670705, 'Conservative', (5000.0, 3300.0, 1400.0, 200.0)],\n",
    " [54850120580, 'Moderate', (7000.0, 3200.0, 4700.0, 1400.0)],\n",
    " [71457789994, 'Moderate', (6400.0, 3200.0, 4500.0, 1500.0)],\n",
    " [67692777563, 'Moderate', (6900.0, 3100.0, 4900.0, 1500.0)],\n",
    " [43133573182, 'Moderate', (5500.0, 2300.0, 4000.0, 1300.0)],\n",
    " [55150612815, 'Moderate', (6500.0, 2800.0, 4600.0, 1500.0)],\n",
    " [48211725243, 'Moderate', (5700.0, 2800.0, 4500.0, 1300.0)],\n",
    " [76686463776, 'Moderate', (6300.0, 3300.0, 4700.0, 1600.0)],\n",
    " [71971000560, 'Moderate', (4900.0, 2400.0, 3300.0, 1000.0)],\n",
    " [40307235992, 'Moderate', (6600.0, 2900.0, 4600.0, 1300.0)],\n",
    " [44826533081, 'Moderate', (5200.0, 2700.0, 3900.0, 1400.0)],\n",
    " [45735414894, 'Moderate', (5900.0, 3200.0, 4800.0, 1800.0)],\n",
    " [57137146514, 'Moderate', (6100.0, 2800.0, 4000.0, 1300.0)],\n",
    " [53657058251, 'Moderate', (6300.0, 2500.0, 4900.0, 1500.0)],\n",
    " [52941460485, 'Moderate', (6100.0, 2800.0, 4700.0, 1200.0)],\n",
    " [44306600683, 'Moderate', (6400.0, 2900.0, 4300.0, 1300.0)],\n",
    " [43460747924, 'Moderate', (6600.0, 3000.0, 4400.0, 1400.0)],\n",
    " [75590376075, 'Moderate', (6800.0, 2800.0, 4800.0, 1400.0)],\n",
    " [68267282206, 'Moderate', (6700.0, 3000.0, 5000.0, 1700.0)],\n",
    " [77567920298, 'Moderate', (6000.0, 2900.0, 4500.0, 1500.0)],\n",
    " [67600419504, 'Moderate', (5700.0, 2600.0, 3500.0, 1000.0)],\n",
    " [44902189811, 'Moderate', (5500.0, 2400.0, 3800.0, 1100.0)],\n",
    " [62966866614, 'Moderate', (5500.0, 2400.0, 3700.0, 1000.0)],\n",
    " [56182108880, 'Moderate', (5800.0, 2700.0, 3900.0, 1200.0)],\n",
    " [78299785392, 'Moderate', (6000.0, 2700.0, 5100.0, 1600.0)],\n",
    " [45206071878, 'Moderate', (5400.0, 3000.0, 4500.0, 1500.0)],\n",
    " [57381925887, 'Moderate', (6000.0, 3400.0, 4500.0, 1600.0)],\n",
    " [65654934891, 'Moderate', (6700.0, 3100.0, 4700.0, 1500.0)],\n",
    " [56130640481, 'Moderate', (6300.0, 2300.0, 4400.0, 1300.0)],\n",
    " [59667611672, 'Moderate', (5600.0, 3000.0, 4100.0, 1300.0)],\n",
    " [40349334385, 'Moderate', (5500.0, 2500.0, 4000.0, 1300.0)],\n",
    " [68422640081, 'Moderate', (5500.0, 2600.0, 4400.0, 1200.0)],\n",
    " [55245923439, 'Moderate', (6100.0, 3000.0, 4600.0, 1400.0)],\n",
    " [51286696873, 'Moderate', (5800.0, 2600.0, 4000.0, 1200.0)],\n",
    " [41065279767, 'Moderate', (5000.0, 2300.0, 3300.0, 1000.0)],\n",
    " [42866454119, 'Moderate', (5600.0, 2700.0, 4200.0, 1300.0)],\n",
    " [61962944542, 'Moderate', (5700.0, 3000.0, 4200.0, 1200.0)],\n",
    " [48623501235, 'Moderate', (5700.0, 2900.0, 4200.0, 1300.0)],\n",
    " [49475220139, 'Moderate', (6200.0, 2900.0, 4300.0, 1300.0)],\n",
    " [52245218531, 'Moderate', (5100.0, 2500.0, 3000.0, 1100.0)],\n",
    " [50932926697, 'Moderate', (5700.0, 2800.0, 4100.0, 1300.0)],\n",
    " [47432932248, 'Agressive', (6300.0, 3300.0, 6000.0, 2500.0)],\n",
    " [39321991579, 'Agressive', (5800.0, 2700.0, 5100.0, 1900.0)],\n",
    " [46283759608, 'Agressive', (7100.0, 3000.0, 5900.0, 2100.0)],\n",
    " [56996272538, 'Agressive', (6300.0, 2900.0, 5600.0, 1800.0)],\n",
    " [77232189978, 'Agressive', (6500.0, 3000.0, 5800.0, 2200.0)],\n",
    " [77183282421, 'Agressive', (7600.0, 3000.0, 6600.0, 2100.0)],\n",
    " [42857147573, 'Agressive', (4900.0, 2500.0, 4500.0, 1700.0)],\n",
    " [39331584043, 'Agressive', (7300.0, 2900.0, 6300.0, 1800.0)],\n",
    " [48130345228, 'Agressive', (6700.0, 2500.0, 5800.0, 1800.0)],\n",
    " [71422443953, 'Agressive', (7200.0, 3600.0, 6100.0, 2500.0)],\n",
    " [72508507904, 'Agressive', (6900.0, 3200.0, 5700.0, 2300.0)],\n",
    " [41188727558, 'Agressive', (5600.0, 2800.0, 4900.0, 2000.0)],\n",
    " [61358776640, 'Agressive', (7700.0, 2800.0, 6700.0, 2000.0)],\n",
    " [66934042323, 'Agressive', (6300.0, 2700.0, 4900.0, 1800.0)],\n",
    " [40622495567, 'Agressive', (6700.0, 3300.0, 5700.0, 2100.0)],\n",
    " [57221661311, 'Agressive', (7200.0, 3200.0, 6000.0, 1800.0)],\n",
    " [45159362930, 'Agressive', (6200.0, 2800.0, 4800.0, 1800.0)],\n",
    " [45018975174, 'Agressive', (6100.0, 3000.0, 4900.0, 1800.0)],\n",
    " [70685429140, 'Agressive', (6400.0, 2800.0, 5600.0, 2100.0)],\n",
    " [61808723477, 'Agressive', (7200.0, 3000.0, 5800.0, 1600.0)],\n",
    " [56363906548, 'Agressive', (7400.0, 2800.0, 6100.0, 1900.0)],\n",
    " [39646194720, 'Agressive', (7900.0, 3800.0, 6400.0, 2000.0)],\n",
    " [55385494438, 'Agressive', (6400.0, 2800.0, 5600.0, 2200.0)],\n",
    " [75796138061, 'Agressive', (6300.0, 2800.0, 5100.0, 1500.0)],\n",
    " [53595767857, 'Agressive', (6100.0, 2600.0, 5600.0, 1400.0)],\n",
    " [48758828080, 'Agressive', (7700.0, 3000.0, 6100.0, 2300.0)],\n",
    " [58387651356, 'Agressive', (6300.0, 3400.0, 5600.0, 2400.0)],\n",
    " [72846931192, 'Agressive', (6400.0, 3100.0, 5500.0, 1800.0)],\n",
    " [47046896346, 'Agressive', (6000.0, 3000.0, 4800.0, 1800.0)],\n",
    " [69730292799, 'Agressive', (6900.0, 3100.0, 5400.0, 2100.0)],\n",
    " [48177836349, 'Agressive', (6700.0, 3100.0, 5600.0, 2400.0)],\n",
    " [57976326635, 'Agressive', (6900.0, 3100.0, 5100.0, 2300.0)],\n",
    " [55710813002, 'Agressive', (5800.0, 2700.0, 5100.0, 1900.0)],\n",
    " [64028580439, 'Agressive', (6800.0, 3200.0, 5900.0, 2300.0)],\n",
    " [49962942971, 'Agressive', (6700.0, 3300.0, 5700.0, 2500.0)],\n",
    " [47250893163, 'Agressive', (6700.0, 3000.0, 5200.0, 2300.0)],\n",
    " [75559276274, 'Agressive', (6300.0, 2500.0, 5000.0, 1900.0)],\n",
    " [58529878272, 'Agressive', (6500.0, 3000.0, 5200.0, 2000.0)],\n",
    " [76005896622, 'Agressive', (6200.0, 3400.0, 5400.0, 2300.0)],\n",
    " [49212614633, 'Agressive', (5900.0, 3000.0, 5100.0, 1800.0)]]\n",
    "\n",
    "no_class = [[45926320819, '', (5800., 4000., 1200., 200.)],\n",
    " [52559670741, '', (5700., 4400., 1500., 400.)],\n",
    " [59016004832, '', (5400., 3900., 1300., 400.)],\n",
    " [66175672425, '', (5100., 3500., 1400., 300.)],\n",
    " [53330429526, '', (5700., 3800., 1700., 300.)],\n",
    " [43765563403, '', (5100., 3800., 1500., 300.)],\n",
    " [68020822591, '', (5400., 3400., 1700., 200.)],\n",
    " [53939481689, '', (5100., 3700., 1500., 400.)],\n",
    " [47014057561, '', (4600., 3600., 1000., 200.)],\n",
    " [57183542047, '', (5100., 3300., 1700., 500.)],\n",
    "            \n",
    " [68518284363, '', (5000., 2000., 3500., 1000.)],\n",
    " [65806049885, '', (5900., 3000., 4200., 1500.)],\n",
    " [54128073086, '', (6000., 2200., 4000., 1000.)],\n",
    " [41306785494, '', (6100., 2900., 4700., 1400.)],\n",
    " [65234831039, '', (5600., 2900., 3600., 1300.)],\n",
    " [50964498067, '', (6700., 3100., 4400., 1400.)],\n",
    " [50810951429, '', (5600., 3000., 4500., 1500.)],\n",
    " [48765044397, '', (5800., 2700., 4100., 1000.)],\n",
    " [41960083761, '', (6200., 2200., 4500., 1500.)],\n",
    " [76657763082, '', (5600., 2500., 3900., 1100.)],\n",
    "            \n",
    " [64726487742, '', (6500., 3200., 5100., 2000.)],\n",
    " [75746566283, '', (6400., 2700., 5300., 1900.)],\n",
    " [78576734793, '', (6800., 3000., 5500., 2100.)],\n",
    " [56440141847, '', (5700., 2500., 5000., 2000.)],\n",
    " [66827423000, '', (5800., 2800., 5100., 2400.)],\n",
    " [45267873396, '', (6400., 3200., 5300., 2300.)],\n",
    " [46387191493, '', (6500., 3000., 5500., 1800.)],\n",
    " [54273611732, '', (7700., 3800., 6700., 2200.)],\n",
    " [75135392881, '', (7700., 2600., 6900., 2300.)],\n",
    " [64703873108, '', (6000., 2200., 5000., 1500.)]]"
   ]
  },
  {
   "cell_type": "markdown",
   "id": "bf79405c",
   "metadata": {},
   "source": [
    "## Checking the number of investor by label"
   ]
  },
  {
   "cell_type": "code",
   "execution_count": 28,
   "id": "45063a9b",
   "metadata": {},
   "outputs": [
    {
     "name": "stdout",
     "output_type": "stream",
     "text": [
      "Conservative 40\n",
      "Moderate 40\n",
      "Agressive 40\n"
     ]
    }
   ],
   "source": [
    "def label_counter(dataset):\n",
    "    # counters\n",
    "    conservative_counter = 0\n",
    "    moderate_counter = 0\n",
    "    agressive_counter = 0\n",
    "\n",
    "    for item in dataset:    \n",
    "        if item [1] == \"Conservative\":\n",
    "            conservative_counter += 1\n",
    "        elif item[1] == \"Moderate\":\n",
    "            moderate_counter += 1\n",
    "        else:\n",
    "            agressive_counter += 1\n",
    "    \n",
    "    print(\"Conservative\", conservative_counter)\n",
    "    print(\"Moderate\", moderate_counter)\n",
    "    print(\"Agressive\", agressive_counter)\n",
    "\n",
    "label_counter(data)"
   ]
  },
  {
   "cell_type": "markdown",
   "id": "b0ccb2df",
   "metadata": {},
   "source": [
    "# Function for classification through k-nearest-neighbors"
   ]
  },
  {
   "cell_type": "code",
   "execution_count": 32,
   "id": "9e34bf9f",
   "metadata": {},
   "outputs": [],
   "source": [
    "def classification(classified_list, new_investor, k = 3):\n",
    "    # PART ONE -> finding the Euclidian distances\n",
    "    distance_between_individuals = []\n",
    "    for ID, label, portfolio in classified_list:\n",
    "        distance = 0\n",
    "        for i in range(len(portfolio)):\n",
    "            distance += ((new_investor[2][i] - portfolio[i]) ** 2)\n",
    "        distance = (distance ** 0.5)\n",
    "        distance_between_individuals.append((distance, ID))\n",
    "            \n",
    "    # PART TWO -> finding the k-nearest-neighbors and the label\n",
    "        \n",
    "    distance_between_individuals.sort() # sorting by distances from the lower to the higher\n",
    "    neighbors = distance_between_individuals[:k] # finding the k nearest neighbors\n",
    "    \n",
    "    ## finding the mode for labels\n",
    "    label_counter = {'Conservative': 0, 'Moderate': 0, 'Agressive': 0}\n",
    "    for i in range(k):\n",
    "        for ID, label, portfolio in classified_list:\n",
    "            if ID == neighbors[i][1]:\n",
    "                if label == 'Conservative':\n",
    "                    label_counter['Conservative'] += 1\n",
    "                elif label == 'Moderate':\n",
    "                    label_counter['Moderate'] += 1\n",
    "                else:\n",
    "                    label_counter['Agressive'] += 1\n",
    "                \n",
    "    \n",
    "    counting = list(label_counter.items()) # listing dictionary values\n",
    "    counting.sort(key=lambda x: x[1], reverse = True) # sorting labels by score\n",
    "    \n",
    "    return counting[0][0]\n",
    "    "
   ]
  },
  {
   "cell_type": "markdown",
   "id": "15e53a5c",
   "metadata": {},
   "source": [
    "# Classification of investors in 'no_class' dataset  \n",
    " - k = 3"
   ]
  },
  {
   "cell_type": "code",
   "execution_count": 37,
   "id": "1f89e929",
   "metadata": {},
   "outputs": [
    {
     "name": "stdout",
     "output_type": "stream",
     "text": [
      "{45926320819: 'Conservative', 52559670741: 'Conservative', 59016004832: 'Conservative', 66175672425: 'Conservative', 53330429526: 'Conservative', 43765563403: 'Conservative', 68020822591: 'Conservative', 53939481689: 'Conservative', 47014057561: 'Conservative', 57183542047: 'Conservative', 68518284363: 'Moderate', 65806049885: 'Moderate', 54128073086: 'Moderate', 41306785494: 'Moderate', 65234831039: 'Moderate', 50964498067: 'Moderate', 50810951429: 'Moderate', 48765044397: 'Moderate', 41960083761: 'Moderate', 76657763082: 'Moderate', 64726487742: 'Agressive', 75746566283: 'Agressive', 78576734793: 'Agressive', 56440141847: 'Agressive', 66827423000: 'Agressive', 45267873396: 'Agressive', 46387191493: 'Agressive', 54273611732: 'Agressive', 75135392881: 'Agressive', 64703873108: 'Moderate'}\n"
     ]
    }
   ],
   "source": [
    "# applying the function to the whole 'no_class' dataset. Output -> dict({investor_id: label})\n",
    "# k = 3\n",
    "\n",
    "labeled = {}\n",
    "\n",
    "for x in no_class:\n",
    "    labeled[x[0]] = classification(data, x)\n",
    "print(labeled)"
   ]
  },
  {
   "cell_type": "markdown",
   "id": "9460c233-5595-4dc3-9c80-93084a35b6d9",
   "metadata": {},
   "source": [
    "---"
   ]
  },
  {
   "cell_type": "markdown",
   "id": "7a2d7a7c-5a02-450d-9545-6c4d922e88a7",
   "metadata": {},
   "source": [
    "# Classification of investors in 'no_class' dataset  \n",
    " - k = 5"
   ]
  },
  {
   "cell_type": "code",
   "execution_count": 38,
   "id": "d17c70fa-7b2c-4e83-ae2a-e740c4c477d6",
   "metadata": {},
   "outputs": [
    {
     "name": "stdout",
     "output_type": "stream",
     "text": [
      "{45926320819: 'Conservative', 52559670741: 'Conservative', 59016004832: 'Conservative', 66175672425: 'Conservative', 53330429526: 'Conservative', 43765563403: 'Conservative', 68020822591: 'Conservative', 53939481689: 'Conservative', 47014057561: 'Conservative', 57183542047: 'Conservative', 68518284363: 'Moderate', 65806049885: 'Moderate', 54128073086: 'Moderate', 41306785494: 'Moderate', 65234831039: 'Moderate', 50964498067: 'Moderate', 50810951429: 'Moderate', 48765044397: 'Moderate', 41960083761: 'Moderate', 76657763082: 'Moderate', 64726487742: 'Agressive', 75746566283: 'Agressive', 78576734793: 'Agressive', 56440141847: 'Agressive', 66827423000: 'Agressive', 45267873396: 'Agressive', 46387191493: 'Agressive', 54273611732: 'Agressive', 75135392881: 'Agressive', 64703873108: 'Agressive'}\n"
     ]
    }
   ],
   "source": [
    "labeled = {}\n",
    "\n",
    "for x in no_class:\n",
    "    labeled[x[0]] = classification(data, x, k = 5)\n",
    "print(labeled)"
   ]
  },
  {
   "cell_type": "code",
   "execution_count": null,
   "id": "1ab132f5-4338-4a76-8b24-fb87927f7cdc",
   "metadata": {},
   "outputs": [],
   "source": []
  }
 ],
 "metadata": {
  "kernelspec": {
   "display_name": "Python 3",
   "language": "python",
   "name": "python3"
  },
  "language_info": {
   "codemirror_mode": {
    "name": "ipython",
    "version": 3
   },
   "file_extension": ".py",
   "mimetype": "text/x-python",
   "name": "python",
   "nbconvert_exporter": "python",
   "pygments_lexer": "ipython3",
   "version": "3.9.2"
  }
 },
 "nbformat": 4,
 "nbformat_minor": 5
}
