{
 "cells": [
  {
   "cell_type": "markdown",
   "id": "894e7ee4-45e2-4783-9960-21065cd51fb3",
   "metadata": {},
   "source": [
    "# Mini project 2"
   ]
  },
  {
   "cell_type": "markdown",
   "id": "25a54910-4d57-41f1-b15e-5b73f1233553",
   "metadata": {},
   "source": [
    "#### Rules:"
   ]
  },
  {
   "cell_type": "markdown",
   "id": "4144d16c-1c74-4054-a922-4af9d906e268",
   "metadata": {},
   "source": [
    "This is the next step of Project_1_KNN - Object Oriented Programming  \n",
    "- Project must be sent as separate files:\n",
    "    - notebook.ipynb that calls a module.py  \n",
    "    - file.py (created module)  \n",
    "- The file.py must bear a class containing several attirbutes and methods as needed  \n",
    "- The notebook.ipynb is the main file and it must have a line calling the module.py\n",
    "- It is mandatory that the module.py have only one class and more than one method\n",
    "- The methods must:\n",
    "    - Generalize for any amount of investments given\n",
    "    - Have a K-value flexible so that the user choose what to use\n",
    "    - Docstring available\n",
    "- Make sure to use PEP 8 practices -- Style Guide for Python Code (https://www.python.org/dev/peps/pep-0008/)\n",
    "- It is up to you to use packages as long as it is not SciKit-Learn"
   ]
  },
  {
   "cell_type": "markdown",
   "id": "e4dd6b59-0d73-4b32-bf89-0db3d56303ea",
   "metadata": {},
   "source": [
    "## Good Luck!!\n",
    "---"
   ]
  },
  {
   "cell_type": "markdown",
   "id": "abacbe3e-c2f7-4d3f-bf32-435564a7a6b2",
   "metadata": {},
   "source": [
    "### Dataset"
   ]
  },
  {
   "cell_type": "code",
   "execution_count": 1,
   "id": "76d6e27b-a33f-42db-b2dc-09343d51e309",
   "metadata": {},
   "outputs": [],
   "source": [
    "data = [[66707599984, 'Conservative', (5100.0, 3500.0, 1400.0, 200.0)],\n",
    " [55695397315, 'Conservative', (4900.0, 3000.0, 1400.0, 200.0)],\n",
    " [63743886918, 'Conservative', (4700.0, 3200.0, 1300.0, 200.0)],\n",
    " [55941368774, 'Conservative', (4600.0, 3100.0, 1500.0, 200.0)],\n",
    " [75486280874, 'Conservative', (5000.0, 3600.0, 1400.0, 200.0)],\n",
    " [53164949799, 'Conservative', (5400.0, 3900.0, 1700.0, 400.0)],\n",
    " [39898704131, 'Conservative', (4600.0, 3400.0, 1400.0, 300.0)],\n",
    " [53740901207, 'Conservative', (5000.0, 3400.0, 1500.0, 200.0)],\n",
    " [51735950236, 'Conservative', (4400.0, 2900.0, 1400.0, 200.0)],\n",
    " [47305108951, 'Conservative', (4900.0, 3100.0, 1500.0, 100.0)],\n",
    " [63858864633, 'Conservative', (5400.0, 3700.0, 1500.0, 200.0)],\n",
    " [53363167240, 'Conservative', (4800.0, 3400.0, 1600.0, 200.0)],\n",
    " [72133754195, 'Conservative', (4800.0, 3000.0, 1400.0, 100.0)],\n",
    " [52802483512, 'Conservative', (4300.0, 3000.0, 1100.0, 100.0)],\n",
    " [57925287214, 'Conservative', (4800.0, 3400.0, 1900.0, 200.0)],\n",
    " [74354632224, 'Conservative', (5000.0, 3000.0, 1600.0, 200.0)],\n",
    " [64020216626, 'Conservative', (5000.0, 3400.0, 1600.0, 400.0)],\n",
    " [78223722856, 'Conservative', (5200.0, 3500.0, 1500.0, 200.0)],\n",
    " [58245228846, 'Conservative', (5200.0, 3400.0, 1400.0, 200.0)],\n",
    " [74490686776, 'Conservative', (4700.0, 3200.0, 1600.0, 200.0)],\n",
    " [48646824781, 'Conservative', (4800.0, 3100.0, 1600.0, 200.0)],\n",
    " [77381458676, 'Conservative', (5400.0, 3400.0, 1500.0, 400.0)],\n",
    " [41615431874, 'Conservative', (5200.0, 4100.0, 1500.0, 100.0)],\n",
    " [52163844491, 'Conservative', (5500.0, 4200.0, 1400.0, 200.0)],\n",
    " [70276304567, 'Conservative', (4900.0, 3100.0, 1500.0, 200.0)],\n",
    " [69119828185, 'Conservative', (5000.0, 3200.0, 1200.0, 200.0)],\n",
    " [65441690046, 'Conservative', (5500.0, 3500.0, 1300.0, 200.0)],\n",
    " [56457227894, 'Conservative', (4900.0, 3600.0, 1400.0, 100.0)],\n",
    " [46939428126, 'Conservative', (4400.0, 3000.0, 1300.0, 200.0)],\n",
    " [60979942480, 'Conservative', (5100.0, 3400.0, 1500.0, 200.0)],\n",
    " [41648583220, 'Conservative', (5000.0, 3500.0, 1300.0, 300.0)],\n",
    " [50376331791, 'Conservative', (4500.0, 2300.0, 1300.0, 300.0)],\n",
    " [67008801023, 'Conservative', (4400.0, 3200.0, 1300.0, 200.0)],\n",
    " [72149193419, 'Conservative', (5000.0, 3500.0, 1600.0, 600.0)],\n",
    " [62830733382, 'Conservative', (5100.0, 3800.0, 1900.0, 400.0)],\n",
    " [56716675811, 'Conservative', (4800.0, 3000.0, 1400.0, 300.0)],\n",
    " [61089667146, 'Conservative', (5100.0, 3800.0, 1600.0, 200.0)],\n",
    " [47795509468, 'Conservative', (4600.0, 3200.0, 1400.0, 200.0)],\n",
    " [60899885693, 'Conservative', (5300.0, 3700.0, 1500.0, 200.0)],\n",
    " [53433670705, 'Conservative', (5000.0, 3300.0, 1400.0, 200.0)],\n",
    " [54850120580, 'Moderate', (7000.0, 3200.0, 4700.0, 1400.0)],\n",
    " [71457789994, 'Moderate', (6400.0, 3200.0, 4500.0, 1500.0)],\n",
    " [67692777563, 'Moderate', (6900.0, 3100.0, 4900.0, 1500.0)],\n",
    " [43133573182, 'Moderate', (5500.0, 2300.0, 4000.0, 1300.0)],\n",
    " [55150612815, 'Moderate', (6500.0, 2800.0, 4600.0, 1500.0)],\n",
    " [48211725243, 'Moderate', (5700.0, 2800.0, 4500.0, 1300.0)],\n",
    " [76686463776, 'Moderate', (6300.0, 3300.0, 4700.0, 1600.0)],\n",
    " [71971000560, 'Moderate', (4900.0, 2400.0, 3300.0, 1000.0)],\n",
    " [40307235992, 'Moderate', (6600.0, 2900.0, 4600.0, 1300.0)],\n",
    " [44826533081, 'Moderate', (5200.0, 2700.0, 3900.0, 1400.0)],\n",
    " [45735414894, 'Moderate', (5900.0, 3200.0, 4800.0, 1800.0)],\n",
    " [57137146514, 'Moderate', (6100.0, 2800.0, 4000.0, 1300.0)],\n",
    " [53657058251, 'Moderate', (6300.0, 2500.0, 4900.0, 1500.0)],\n",
    " [52941460485, 'Moderate', (6100.0, 2800.0, 4700.0, 1200.0)],\n",
    " [44306600683, 'Moderate', (6400.0, 2900.0, 4300.0, 1300.0)],\n",
    " [43460747924, 'Moderate', (6600.0, 3000.0, 4400.0, 1400.0)],\n",
    " [75590376075, 'Moderate', (6800.0, 2800.0, 4800.0, 1400.0)],\n",
    " [68267282206, 'Moderate', (6700.0, 3000.0, 5000.0, 1700.0)],\n",
    " [77567920298, 'Moderate', (6000.0, 2900.0, 4500.0, 1500.0)],\n",
    " [67600419504, 'Moderate', (5700.0, 2600.0, 3500.0, 1000.0)],\n",
    " [44902189811, 'Moderate', (5500.0, 2400.0, 3800.0, 1100.0)],\n",
    " [62966866614, 'Moderate', (5500.0, 2400.0, 3700.0, 1000.0)],\n",
    " [56182108880, 'Moderate', (5800.0, 2700.0, 3900.0, 1200.0)],\n",
    " [78299785392, 'Moderate', (6000.0, 2700.0, 5100.0, 1600.0)],\n",
    " [45206071878, 'Moderate', (5400.0, 3000.0, 4500.0, 1500.0)],\n",
    " [57381925887, 'Moderate', (6000.0, 3400.0, 4500.0, 1600.0)],\n",
    " [65654934891, 'Moderate', (6700.0, 3100.0, 4700.0, 1500.0)],\n",
    " [56130640481, 'Moderate', (6300.0, 2300.0, 4400.0, 1300.0)],\n",
    " [59667611672, 'Moderate', (5600.0, 3000.0, 4100.0, 1300.0)],\n",
    " [40349334385, 'Moderate', (5500.0, 2500.0, 4000.0, 1300.0)],\n",
    " [68422640081, 'Moderate', (5500.0, 2600.0, 4400.0, 1200.0)],\n",
    " [55245923439, 'Moderate', (6100.0, 3000.0, 4600.0, 1400.0)],\n",
    " [51286696873, 'Moderate', (5800.0, 2600.0, 4000.0, 1200.0)],\n",
    " [41065279767, 'Moderate', (5000.0, 2300.0, 3300.0, 1000.0)],\n",
    " [42866454119, 'Moderate', (5600.0, 2700.0, 4200.0, 1300.0)],\n",
    " [61962944542, 'Moderate', (5700.0, 3000.0, 4200.0, 1200.0)],\n",
    " [48623501235, 'Moderate', (5700.0, 2900.0, 4200.0, 1300.0)],\n",
    " [49475220139, 'Moderate', (6200.0, 2900.0, 4300.0, 1300.0)],\n",
    " [52245218531, 'Moderate', (5100.0, 2500.0, 3000.0, 1100.0)],\n",
    " [50932926697, 'Moderate', (5700.0, 2800.0, 4100.0, 1300.0)],\n",
    " [47432932248, 'Aggressive', (6300.0, 3300.0, 6000.0, 2500.0)],\n",
    " [39321991579, 'Aggressive', (5800.0, 2700.0, 5100.0, 1900.0)],\n",
    " [46283759608, 'Aggressive', (7100.0, 3000.0, 5900.0, 2100.0)],\n",
    " [56996272538, 'Aggressive', (6300.0, 2900.0, 5600.0, 1800.0)],\n",
    " [77232189978, 'Aggressive', (6500.0, 3000.0, 5800.0, 2200.0)],\n",
    " [77183282421, 'Aggressive', (7600.0, 3000.0, 6600.0, 2100.0)],\n",
    " [42857147573, 'Aggressive', (4900.0, 2500.0, 4500.0, 1700.0)],\n",
    " [39331584043, 'Aggressive', (7300.0, 2900.0, 6300.0, 1800.0)],\n",
    " [48130345228, 'Aggressive', (6700.0, 2500.0, 5800.0, 1800.0)],\n",
    " [71422443953, 'Aggressive', (7200.0, 3600.0, 6100.0, 2500.0)],\n",
    " [72508507904, 'Aggressive', (6900.0, 3200.0, 5700.0, 2300.0)],\n",
    " [41188727558, 'Aggressive', (5600.0, 2800.0, 4900.0, 2000.0)],\n",
    " [61358776640, 'Aggressive', (7700.0, 2800.0, 6700.0, 2000.0)],\n",
    " [66934042323, 'Aggressive', (6300.0, 2700.0, 4900.0, 1800.0)],\n",
    " [40622495567, 'Aggressive', (6700.0, 3300.0, 5700.0, 2100.0)],\n",
    " [57221661311, 'Aggressive', (7200.0, 3200.0, 6000.0, 1800.0)],\n",
    " [45159362930, 'Aggressive', (6200.0, 2800.0, 4800.0, 1800.0)],\n",
    " [45018975174, 'Aggressive', (6100.0, 3000.0, 4900.0, 1800.0)],\n",
    " [70685429140, 'Aggressive', (6400.0, 2800.0, 5600.0, 2100.0)],\n",
    " [61808723477, 'Aggressive', (7200.0, 3000.0, 5800.0, 1600.0)],\n",
    " [56363906548, 'Aggressive', (7400.0, 2800.0, 6100.0, 1900.0)],\n",
    " [39646194720, 'Aggressive', (7900.0, 3800.0, 6400.0, 2000.0)],\n",
    " [55385494438, 'Aggressive', (6400.0, 2800.0, 5600.0, 2200.0)],\n",
    " [75796138061, 'Aggressive', (6300.0, 2800.0, 5100.0, 1500.0)],\n",
    " [53595767857, 'Aggressive', (6100.0, 2600.0, 5600.0, 1400.0)],\n",
    " [48758828080, 'Aggressive', (7700.0, 3000.0, 6100.0, 2300.0)],\n",
    " [58387651356, 'Aggressive', (6300.0, 3400.0, 5600.0, 2400.0)],\n",
    " [72846931192, 'Aggressive', (6400.0, 3100.0, 5500.0, 1800.0)],\n",
    " [47046896346, 'Aggressive', (6000.0, 3000.0, 4800.0, 1800.0)],\n",
    " [69730292799, 'Aggressive', (6900.0, 3100.0, 5400.0, 2100.0)],\n",
    " [48177836349, 'Aggressive', (6700.0, 3100.0, 5600.0, 2400.0)],\n",
    " [57976326635, 'Aggressive', (6900.0, 3100.0, 5100.0, 2300.0)],\n",
    " [55710813002, 'Aggressive', (5800.0, 2700.0, 5100.0, 1900.0)],\n",
    " [64028580439, 'Aggressive', (6800.0, 3200.0, 5900.0, 2300.0)],\n",
    " [49962942971, 'Aggressive', (6700.0, 3300.0, 5700.0, 2500.0)],\n",
    " [47250893163, 'Aggressive', (6700.0, 3000.0, 5200.0, 2300.0)],\n",
    " [75559276274, 'Aggressive', (6300.0, 2500.0, 5000.0, 1900.0)],\n",
    " [58529878272, 'Aggressive', (6500.0, 3000.0, 5200.0, 2000.0)],\n",
    " [76005896622, 'Aggressive', (6200.0, 3400.0, 5400.0, 2300.0)],\n",
    " [49212614633, 'Aggressive', (5900.0, 3000.0, 5100.0, 1800.0)]]\n",
    "\n",
    "no_class = [[45926320819, '', (5800., 4000., 1200., 200.)],\n",
    " [52559670741, '', (5700., 4400., 1500., 400.)],\n",
    " [59016004832, '', (5400., 3900., 1300., 400.)],\n",
    " [66175672425, '', (5100., 3500., 1400., 300.)],\n",
    " [53330429526, '', (5700., 3800., 1700., 300.)],\n",
    " [43765563403, '', (5100., 3800., 1500., 300.)],\n",
    " [68020822591, '', (5400., 3400., 1700., 200.)],\n",
    " [53939481689, '', (5100., 3700., 1500., 400.)],\n",
    " [47014057561, '', (4600., 3600., 1000., 200.)],\n",
    " [57183542047, '', (5100., 3300., 1700., 500.)],\n",
    "            \n",
    " [68518284363, '', (5000., 2000., 3500., 1000.)],\n",
    " [65806049885, '', (5900., 3000., 4200., 1500.)],\n",
    " [54128073086, '', (6000., 2200., 4000., 1000.)],\n",
    " [41306785494, '', (6100., 2900., 4700., 1400.)],\n",
    " [65234831039, '', (5600., 2900., 3600., 1300.)],\n",
    " [50964498067, '', (6700., 3100., 4400., 1400.)],\n",
    " [50810951429, '', (5600., 3000., 4500., 1500.)],\n",
    " [48765044397, '', (5800., 2700., 4100., 1000.)],\n",
    " [41960083761, '', (6200., 2200., 4500., 1500.)],\n",
    " [76657763082, '', (5600., 2500., 3900., 1100.)],\n",
    "            \n",
    " [64726487742, '', (6500., 3200., 5100., 2000.)],\n",
    " [75746566283, '', (6400., 2700., 5300., 1900.)],\n",
    " [78576734793, '', (6800., 3000., 5500., 2100.)],\n",
    " [56440141847, '', (5700., 2500., 5000., 2000.)],\n",
    " [66827423000, '', (5800., 2800., 5100., 2400.)],\n",
    " [45267873396, '', (6400., 3200., 5300., 2300.)],\n",
    " [46387191493, '', (6500., 3000., 5500., 1800.)],\n",
    " [54273611732, '', (7700., 3800., 6700., 2200.)],\n",
    " [75135392881, '', (7700., 2600., 6900., 2300.)],\n",
    " [64703873108, '', (6000., 2200., 5000., 1500.)]]"
   ]
  },
  {
   "cell_type": "markdown",
   "id": "7c3984b8-3edd-4268-9afe-c88120ded4d3",
   "metadata": {},
   "source": [
    "## Importing file.py containing the KNN Class"
   ]
  },
  {
   "cell_type": "code",
   "execution_count": 2,
   "id": "b6ed20bf-cd89-4f2b-a387-fabc9036e536",
   "metadata": {},
   "outputs": [],
   "source": [
    "from knn_module import KNN"
   ]
  },
  {
   "cell_type": "markdown",
   "id": "4e20a29a-c40e-432b-a123-f59ad90b49b8",
   "metadata": {},
   "source": [
    "## Testing attributes and methods on an unclassified client -> 'no_class[0]'"
   ]
  },
  {
   "cell_type": "code",
   "execution_count": 3,
   "id": "418fd63a-407a-4ec7-bee3-20066c4301a0",
   "metadata": {},
   "outputs": [],
   "source": [
    "# creating a new object\n",
    "no_class_0 = KNN(data, no_class[0])"
   ]
  },
  {
   "cell_type": "code",
   "execution_count": 4,
   "id": "7395c112-d7bd-441a-a893-82a739daaa4f",
   "metadata": {},
   "outputs": [
    {
     "name": "stdout",
     "output_type": "stream",
     "text": [
      "45926320819 \n",
      "\n",
      "(5800.0, 4000.0, 1200.0, 200.0) \n",
      "\n",
      "[45926320819, '', (5800.0, 4000.0, 1200.0, 200.0)] \n",
      "\n",
      "[[66707599984, 'Conservative', (5100.0, 3500.0, 1400.0, 200.0)], [55695397315, 'Conservative', (4900.0, 3000.0, 1400.0, 200.0)], [63743886918, 'Conservative', (4700.0, 3200.0, 1300.0, 200.0)], [55941368774, 'Conservative', (4600.0, 3100.0, 1500.0, 200.0)], [75486280874, 'Conservative', (5000.0, 3600.0, 1400.0, 200.0)]] \n",
      "\n"
     ]
    }
   ],
   "source": [
    "# testing attributes\n",
    "print(no_class_0.client_identification, '\\n') # mostra o ID -> CPF\n",
    "print(no_class_0.client_portfolio, '\\n') # mostra o set de investimentos\n",
    "print(no_class_0.client_information, '\\n') # mostra todas as informações dos cliente não-classificado\n",
    "print(no_class_0.classified_dataset[:5], '\\n') # mostra o dataset com clientes já classificados"
   ]
  },
  {
   "cell_type": "code",
   "execution_count": 5,
   "id": "99502976-d1c7-4436-b9f4-f2d19c5511e1",
   "metadata": {},
   "outputs": [
    {
     "name": "stdout",
     "output_type": "stream",
     "text": [
      "[(883.1760866327846, 66707599984), (1360.1470508735442, 55695397315), (1363.8181696985855, 63743886918), (1529.7058540778355, 55941368774), (916.515138991168, 75486280874)] \n",
      "\n"
     ]
    }
   ],
   "source": [
    "# claculating distances\n",
    "x = no_class_0.euclidian_distances_no_class()\n",
    "print(x[:5], '\\n') # fifth first values"
   ]
  },
  {
   "cell_type": "code",
   "execution_count": 6,
   "id": "e727a090-79d1-4097-8efb-814a96bb84a4",
   "metadata": {},
   "outputs": [
    {
     "name": "stdout",
     "output_type": "stream",
     "text": [
      "[(412.31056256176606, 52163844491), (583.09518948453, 63858864633), (591.6079783099616, 65441690046), (655.7438524302, 60899885693), (678.2329983125268, 53164949799)] \n",
      "\n"
     ]
    }
   ],
   "source": [
    "# ascending sorting of the list -> output (Euclidian_distance, ID_closest_investidor)\n",
    "y = no_class_0.distances_sort(x)\n",
    "print(y[:5], '\\n') # displaying the fifth first neighbours"
   ]
  },
  {
   "cell_type": "code",
   "execution_count": 7,
   "id": "ce547aee-334d-4ebd-a887-968ff8439150",
   "metadata": {},
   "outputs": [
    {
     "name": "stdout",
     "output_type": "stream",
     "text": [
      "Conservative\n"
     ]
    }
   ],
   "source": [
    "# classification k = 3 (default)\n",
    "print(no_class_0.investor_classification(y, k = 3))"
   ]
  },
  {
   "cell_type": "markdown",
   "id": "1be2ef8a-7214-4937-a9eb-72f824f79dd5",
   "metadata": {},
   "source": [
    "## Classification throughout the dataset 'no_class'  \n",
    "- k = 3 (default)"
   ]
  },
  {
   "cell_type": "code",
   "execution_count": 8,
   "id": "d460c7f4-b82d-474e-8a46-2d06e162a662",
   "metadata": {},
   "outputs": [
    {
     "name": "stdout",
     "output_type": "stream",
     "text": [
      "{45926320819: 'Conservative', 52559670741: 'Conservative', 59016004832: 'Conservative', 66175672425: 'Conservative', 53330429526: 'Conservative', 43765563403: 'Conservative', 68020822591: 'Conservative', 53939481689: 'Conservative', 47014057561: 'Conservative', 57183542047: 'Conservative', 68518284363: 'Moderate', 65806049885: 'Moderate', 54128073086: 'Moderate', 41306785494: 'Moderate', 65234831039: 'Moderate', 50964498067: 'Moderate', 50810951429: 'Moderate', 48765044397: 'Moderate', 41960083761: 'Moderate', 76657763082: 'Moderate', 64726487742: 'Aggressive', 75746566283: 'Aggressive', 78576734793: 'Aggressive', 56440141847: 'Aggressive', 66827423000: 'Aggressive', 45267873396: 'Aggressive', 46387191493: 'Aggressive', 54273611732: 'Aggressive', 75135392881: 'Aggressive', 64703873108: 'Moderate'}\n"
     ]
    }
   ],
   "source": [
    "# dictionary -> {ID_new_user: investor_profile}\n",
    "classification = {}\n",
    "\n",
    "for client in no_class:\n",
    "    a = KNN(data, client) # calling the class KNN\n",
    "    distance = a.euclidian_distances_no_class() # calculation of Euclidian distance\n",
    "    sorting = a.distances_sort(distance) # ascending sorting of the list\n",
    "    class_ = a.investor_classification(sorting, k = 3) # Finding the mode of the k nearest neighbours\n",
    "    classification[a.client_identification] = class_ # classify every individual as \"Conservative\", \"Moderate\" or \"Aggressive\"\n",
    "\n",
    "# displaying the results on screen\n",
    "print(classification)"
   ]
  },
  {
   "cell_type": "markdown",
   "id": "dcdc58e6-91c8-44ed-bc1d-042acc1fa924",
   "metadata": {},
   "source": [
    "___"
   ]
  },
  {
   "cell_type": "markdown",
   "id": "1976efc6-6170-4963-88c1-abccd4b66e0f",
   "metadata": {},
   "source": [
    "## Classification throughout the dataset 'no_class'  \n",
    "- k = 5"
   ]
  },
  {
   "cell_type": "code",
   "execution_count": 9,
   "id": "f412354d-1a40-46cf-bcf6-f5b304454588",
   "metadata": {},
   "outputs": [
    {
     "name": "stdout",
     "output_type": "stream",
     "text": [
      "{45926320819: 'Conservative', 52559670741: 'Conservative', 59016004832: 'Conservative', 66175672425: 'Conservative', 53330429526: 'Conservative', 43765563403: 'Conservative', 68020822591: 'Conservative', 53939481689: 'Conservative', 47014057561: 'Conservative', 57183542047: 'Conservative', 68518284363: 'Moderate', 65806049885: 'Moderate', 54128073086: 'Moderate', 41306785494: 'Moderate', 65234831039: 'Moderate', 50964498067: 'Moderate', 50810951429: 'Moderate', 48765044397: 'Moderate', 41960083761: 'Moderate', 76657763082: 'Moderate', 64726487742: 'Aggressive', 75746566283: 'Aggressive', 78576734793: 'Aggressive', 56440141847: 'Aggressive', 66827423000: 'Aggressive', 45267873396: 'Aggressive', 46387191493: 'Aggressive', 54273611732: 'Aggressive', 75135392881: 'Aggressive', 64703873108: 'Aggressive'}\n"
     ]
    }
   ],
   "source": [
    "# dictionary -> {ID_new_user: investor_profile}\n",
    "classification = {}\n",
    "\n",
    "for client in no_class:\n",
    "    a = KNN(data, client) # calling the class KNN\n",
    "    distance = a.euclidian_distances_no_class() # calculation of Euclidian distance\n",
    "    sorting = a.distances_sort(distance) # ascending sorting of the list\n",
    "    class_ = a.investor_classification(sorting, k = 5) # Finding the mode of the k nearest neighbours\n",
    "    classification[a.client_identification] = class_ # classify every individual as \"Conservative\", \"Moderate\" or \"Aggressive\"\n",
    "\n",
    "# displaying the results on screen\n",
    "print(classification)"
   ]
  },
  {
   "cell_type": "markdown",
   "id": "b2cd84b9-a93b-402c-a4fd-2b64af9be941",
   "metadata": {},
   "source": [
    "---"
   ]
  },
  {
   "cell_type": "markdown",
   "id": "09995980-4731-4e67-9208-bd4af1184cae",
   "metadata": {},
   "source": [
    "## Extra content"
   ]
  },
  {
   "cell_type": "markdown",
   "id": "e01190b9-1120-42f6-856c-fbab5bce6672",
   "metadata": {},
   "source": [
    "### Reshaping the dataset in order to cause variation into the number of investiments\n",
    "- 2 investiments"
   ]
  },
  {
   "cell_type": "code",
   "execution_count": 10,
   "id": "42b4964b-2c26-4e26-b399-e51ee4ab7d48",
   "metadata": {},
   "outputs": [],
   "source": [
    "# Reshaping investiments - > First and last columns left\n",
    "def reshape_data(list_):\n",
    "    reshape = []\n",
    "    while len(reshape) < 3:\n",
    "        for i in list_:\n",
    "            if type(i) == int:\n",
    "                reshape.append(i)\n",
    "            elif type(i) == str:\n",
    "                reshape.append(i)\n",
    "            else:\n",
    "                reshape.append((i[0], i[3]))\n",
    "        \n",
    "        return reshape"
   ]
  },
  {
   "cell_type": "code",
   "execution_count": 11,
   "id": "bee99cd3-eb1f-41e0-bd16-9abcd89724c3",
   "metadata": {},
   "outputs": [
    {
     "data": {
      "text/plain": [
       "[[66707599984, 'Conservative', (5100.0, 200.0)],\n",
       " [55695397315, 'Conservative', (4900.0, 200.0)],\n",
       " [63743886918, 'Conservative', (4700.0, 200.0)],\n",
       " [55941368774, 'Conservative', (4600.0, 200.0)],\n",
       " [75486280874, 'Conservative', (5000.0, 200.0)]]"
      ]
     },
     "execution_count": 11,
     "metadata": {},
     "output_type": "execute_result"
    }
   ],
   "source": [
    "# reshaping the classified dataset -> 'data'\n",
    "reshape_data_1 = [reshape_data(x) for x in data]\n",
    "reshape_data_1[:5]"
   ]
  },
  {
   "cell_type": "code",
   "execution_count": 12,
   "id": "8bd9d3c5-3058-4502-8a6e-29d1b258a830",
   "metadata": {},
   "outputs": [
    {
     "data": {
      "text/plain": [
       "[[45926320819, '', (5800.0, 200.0)],\n",
       " [52559670741, '', (5700.0, 400.0)],\n",
       " [59016004832, '', (5400.0, 400.0)],\n",
       " [66175672425, '', (5100.0, 300.0)],\n",
       " [53330429526, '', (5700.0, 300.0)]]"
      ]
     },
     "execution_count": 12,
     "metadata": {},
     "output_type": "execute_result"
    }
   ],
   "source": [
    "# # reshaping the classified dataset -> 'no_class'\n",
    "reshape_data_no_class_1 = [reshape_data(x) for x in no_class]\n",
    "reshape_data_no_class_1[:5]"
   ]
  },
  {
   "cell_type": "code",
   "execution_count": 13,
   "id": "2739d9ac-81d7-4118-a86b-5ebcf01233fd",
   "metadata": {},
   "outputs": [
    {
     "name": "stdout",
     "output_type": "stream",
     "text": [
      "{45926320819: 'Conservative', 52559670741: 'Conservative', 59016004832: 'Conservative', 66175672425: 'Conservative', 53330429526: 'Conservative', 43765563403: 'Conservative', 68020822591: 'Conservative', 53939481689: 'Conservative', 47014057561: 'Conservative', 57183542047: 'Conservative', 68518284363: 'Moderate', 65806049885: 'Moderate', 54128073086: 'Moderate', 41306785494: 'Moderate', 65234831039: 'Moderate', 50964498067: 'Moderate', 50810951429: 'Moderate', 48765044397: 'Moderate', 41960083761: 'Moderate', 76657763082: 'Moderate', 64726487742: 'Aggressive', 75746566283: 'Aggressive', 78576734793: 'Aggressive', 56440141847: 'Aggressive', 66827423000: 'Aggressive', 45267873396: 'Aggressive', 46387191493: 'Aggressive', 54273611732: 'Aggressive', 75135392881: 'Aggressive', 64703873108: 'Moderate'}\n"
     ]
    }
   ],
   "source": [
    "# dictionary -> {ID_new_user: investor_profile}\n",
    "classification = {}\n",
    "\n",
    "for client in no_class:\n",
    "    a = KNN(data, client) # calling the class KNN\n",
    "    distance = a.euclidian_distances_no_class() # calculation of Euclidian distance\n",
    "    sorting = a.distances_sort(distance) # ascending sorting of the list\n",
    "    class_ = a.investor_classification(sorting, k = 3) # Finding the mode of the k nearest neighbours\n",
    "    classification[a.client_identification] = class_ # classify every individual as \"Conservative\", \"Moderate\" or \"Aggressive\"\n",
    "\n",
    "# displaying the results on screen\n",
    "print(classification)"
   ]
  },
  {
   "cell_type": "markdown",
   "id": "44f2ad96-5d42-439b-bcb0-dd81d2d6ab7b",
   "metadata": {},
   "source": [
    "---"
   ]
  },
  {
   "cell_type": "markdown",
   "id": "761a2146-0731-448f-9004-220862e5f220",
   "metadata": {},
   "source": [
    "### Reshaping the dataset in order to cause variation into the number of investiments\n",
    "- 5 investiments"
   ]
  },
  {
   "cell_type": "code",
   "execution_count": 14,
   "id": "e52f8fb3-0a5d-49f7-9052-942dd3427ef5",
   "metadata": {},
   "outputs": [],
   "source": [
    "# Reshaping investiments - > First and last columns left\n",
    "def reshape_data(list_):\n",
    "    reshape = []\n",
    "    while len(reshape) < 3:\n",
    "        for i in list_:\n",
    "            if type(i) == int:\n",
    "                reshape.append(i)\n",
    "            elif type(i) == str:\n",
    "                reshape.append(i)\n",
    "            else:\n",
    "                reshape.append((i[0], i[1], i[2], i[3], ((i[0] + i[1] + i[2] + i[3]) / 4)))\n",
    "        \n",
    "        return reshape"
   ]
  },
  {
   "cell_type": "code",
   "execution_count": 15,
   "id": "199f0101-cb6c-4671-a4eb-78cd473e1343",
   "metadata": {},
   "outputs": [
    {
     "data": {
      "text/plain": [
       "[[66707599984, 'Conservative', (5100.0, 3500.0, 1400.0, 200.0, 2550.0)],\n",
       " [55695397315, 'Conservative', (4900.0, 3000.0, 1400.0, 200.0, 2375.0)],\n",
       " [63743886918, 'Conservative', (4700.0, 3200.0, 1300.0, 200.0, 2350.0)],\n",
       " [55941368774, 'Conservative', (4600.0, 3100.0, 1500.0, 200.0, 2350.0)],\n",
       " [75486280874, 'Conservative', (5000.0, 3600.0, 1400.0, 200.0, 2550.0)]]"
      ]
     },
     "execution_count": 15,
     "metadata": {},
     "output_type": "execute_result"
    }
   ],
   "source": [
    "# reshaping the classified dataset -> 'data'\n",
    "reshape_data_2 = [reshape_data(x) for x in data]\n",
    "reshape_data_2[:5]"
   ]
  },
  {
   "cell_type": "code",
   "execution_count": 16,
   "id": "286c205a-d9e2-48fd-884f-1f7156d5c08c",
   "metadata": {},
   "outputs": [
    {
     "data": {
      "text/plain": [
       "[[45926320819, '', (5800.0, 4000.0, 1200.0, 200.0, 2800.0)],\n",
       " [52559670741, '', (5700.0, 4400.0, 1500.0, 400.0, 3000.0)],\n",
       " [59016004832, '', (5400.0, 3900.0, 1300.0, 400.0, 2750.0)],\n",
       " [66175672425, '', (5100.0, 3500.0, 1400.0, 300.0, 2575.0)],\n",
       " [53330429526, '', (5700.0, 3800.0, 1700.0, 300.0, 2875.0)]]"
      ]
     },
     "execution_count": 16,
     "metadata": {},
     "output_type": "execute_result"
    }
   ],
   "source": [
    "# # reshaping the classified dataset -> 'no_class'\n",
    "reshape_data_no_class_2 = [reshape_data(x) for x in no_class]\n",
    "reshape_data_no_class_2[:5]"
   ]
  },
  {
   "cell_type": "code",
   "execution_count": 17,
   "id": "0aba126f-6689-4e97-b386-f5199d2cccbe",
   "metadata": {},
   "outputs": [
    {
     "name": "stdout",
     "output_type": "stream",
     "text": [
      "{45926320819: 'Conservative', 52559670741: 'Conservative', 59016004832: 'Conservative', 66175672425: 'Conservative', 53330429526: 'Conservative', 43765563403: 'Conservative', 68020822591: 'Conservative', 53939481689: 'Conservative', 47014057561: 'Conservative', 57183542047: 'Conservative', 68518284363: 'Moderate', 65806049885: 'Moderate', 54128073086: 'Moderate', 41306785494: 'Moderate', 65234831039: 'Moderate', 50964498067: 'Moderate', 50810951429: 'Moderate', 48765044397: 'Moderate', 41960083761: 'Moderate', 76657763082: 'Moderate', 64726487742: 'Aggressive', 75746566283: 'Aggressive', 78576734793: 'Aggressive', 56440141847: 'Aggressive', 66827423000: 'Aggressive', 45267873396: 'Aggressive', 46387191493: 'Aggressive', 54273611732: 'Aggressive', 75135392881: 'Aggressive', 64703873108: 'Moderate'}\n"
     ]
    }
   ],
   "source": [
    "# dictionary -> {ID_new_user: investor_profile}\n",
    "classification = {}\n",
    "\n",
    "for client in no_class:\n",
    "    a = KNN(data, client) # calling the class KNN\n",
    "    distance = a.euclidian_distances_no_class() # calculation of Euclidian distance\n",
    "    sorting = a.distances_sort(distance) # ascending sorting of the list\n",
    "    class_ = a.investor_classification(sorting, k = 3) # Finding the mode of the k nearest neighbours\n",
    "    classification[a.client_identification] = class_ # classify every individual as \"Conservative\", \"Moderate\" or \"Aggressive\"\n",
    "\n",
    "# displaying the results on screen\n",
    "print(classification)"
   ]
  },
  {
   "cell_type": "code",
   "execution_count": null,
   "id": "3900883a-be5e-4f96-a2a8-217cf60f30a8",
   "metadata": {},
   "outputs": [],
   "source": []
  }
 ],
 "metadata": {
  "kernelspec": {
   "display_name": "Python 3",
   "language": "python",
   "name": "python3"
  },
  "language_info": {
   "codemirror_mode": {
    "name": "ipython",
    "version": 3
   },
   "file_extension": ".py",
   "mimetype": "text/x-python",
   "name": "python",
   "nbconvert_exporter": "python",
   "pygments_lexer": "ipython3",
   "version": "3.9.2"
  }
 },
 "nbformat": 4,
 "nbformat_minor": 5
}
